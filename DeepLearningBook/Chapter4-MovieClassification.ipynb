{
 "cells": [
  {
   "cell_type": "markdown",
   "source": [
    "# 4.1 Classifying Movie Reviews Example"
   ],
   "metadata": {
    "collapsed": false
   },
   "id": "b3b02b654db7b602"
  },
  {
   "cell_type": "markdown",
   "source": [
    "## Downloading and Preparing Data"
   ],
   "metadata": {
    "collapsed": false
   },
   "id": "143fcc6f94df28d4"
  },
  {
   "cell_type": "code",
   "execution_count": 2,
   "outputs": [],
   "source": [
    "from tensorflow.keras.datasets import imdb\n",
    "\n",
    "(train_data, train_labels), (test_data, test_labels) = imdb.load_data(num_words=10000)"
   ],
   "metadata": {
    "collapsed": true,
    "ExecuteTime": {
     "end_time": "2024-02-02T23:15:26.700793Z",
     "start_time": "2024-02-02T23:14:44.251813Z"
    }
   },
   "id": "initial_id"
  },
  {
   "cell_type": "code",
   "execution_count": 3,
   "outputs": [
    {
     "data": {
      "text/plain": "[1,\n 14,\n 22,\n 16,\n 43,\n 530,\n 973,\n 1622,\n 1385,\n 65,\n 458,\n 4468,\n 66,\n 3941,\n 4,\n 173,\n 36,\n 256,\n 5,\n 25,\n 100,\n 43,\n 838,\n 112,\n 50,\n 670,\n 2,\n 9,\n 35,\n 480,\n 284,\n 5,\n 150,\n 4,\n 172,\n 112,\n 167,\n 2,\n 336,\n 385,\n 39,\n 4,\n 172,\n 4536,\n 1111,\n 17,\n 546,\n 38,\n 13,\n 447,\n 4,\n 192,\n 50,\n 16,\n 6,\n 147,\n 2025,\n 19,\n 14,\n 22,\n 4,\n 1920,\n 4613,\n 469,\n 4,\n 22,\n 71,\n 87,\n 12,\n 16,\n 43,\n 530,\n 38,\n 76,\n 15,\n 13,\n 1247,\n 4,\n 22,\n 17,\n 515,\n 17,\n 12,\n 16,\n 626,\n 18,\n 2,\n 5,\n 62,\n 386,\n 12,\n 8,\n 316,\n 8,\n 106,\n 5,\n 4,\n 2223,\n 5244,\n 16,\n 480,\n 66,\n 3785,\n 33,\n 4,\n 130,\n 12,\n 16,\n 38,\n 619,\n 5,\n 25,\n 124,\n 51,\n 36,\n 135,\n 48,\n 25,\n 1415,\n 33,\n 6,\n 22,\n 12,\n 215,\n 28,\n 77,\n 52,\n 5,\n 14,\n 407,\n 16,\n 82,\n 2,\n 8,\n 4,\n 107,\n 117,\n 5952,\n 15,\n 256,\n 4,\n 2,\n 7,\n 3766,\n 5,\n 723,\n 36,\n 71,\n 43,\n 530,\n 476,\n 26,\n 400,\n 317,\n 46,\n 7,\n 4,\n 2,\n 1029,\n 13,\n 104,\n 88,\n 4,\n 381,\n 15,\n 297,\n 98,\n 32,\n 2071,\n 56,\n 26,\n 141,\n 6,\n 194,\n 7486,\n 18,\n 4,\n 226,\n 22,\n 21,\n 134,\n 476,\n 26,\n 480,\n 5,\n 144,\n 30,\n 5535,\n 18,\n 51,\n 36,\n 28,\n 224,\n 92,\n 25,\n 104,\n 4,\n 226,\n 65,\n 16,\n 38,\n 1334,\n 88,\n 12,\n 16,\n 283,\n 5,\n 16,\n 4472,\n 113,\n 103,\n 32,\n 15,\n 16,\n 5345,\n 19,\n 178,\n 32]"
     },
     "execution_count": 3,
     "metadata": {},
     "output_type": "execute_result"
    }
   ],
   "source": [
    "# The variables train_data and test_data are lists of reviews; each review is a list of word indices (encoding a sequence of words)\n",
    "train_data[0]"
   ],
   "metadata": {
    "collapsed": false,
    "ExecuteTime": {
     "end_time": "2024-02-02T23:15:26.706280Z",
     "start_time": "2024-02-02T23:15:26.699287Z"
    }
   },
   "id": "62d9fcac2b870af4"
  },
  {
   "cell_type": "code",
   "execution_count": 4,
   "outputs": [
    {
     "data": {
      "text/plain": "1"
     },
     "execution_count": 4,
     "metadata": {},
     "output_type": "execute_result"
    }
   ],
   "source": [
    "# train_labels and test_labels are lists of 0s and 1s, where 0 stands for negative and 1 stands for positive\n",
    "train_labels[0]"
   ],
   "metadata": {
    "collapsed": false,
    "ExecuteTime": {
     "end_time": "2024-02-02T23:15:26.980461Z",
     "start_time": "2024-02-02T23:15:26.704544Z"
    }
   },
   "id": "8562bb1029056c57"
  },
  {
   "cell_type": "code",
   "execution_count": 5,
   "outputs": [
    {
     "data": {
      "text/plain": "\"? this film was just brilliant casting location scenery story direction everyone's really suited the part they played and you could just imagine being there robert ? is an amazing actor and now the same being director ? father came from the same scottish island as myself so i loved the fact there was a real connection with this film the witty remarks throughout the film were great it was just brilliant so much that i bought the film as soon as it was released for ? and would recommend it to everyone to watch and the fly fishing was amazing really cried at the end it was so sad and you know what they say if you cry at a film it must have been good and this definitely was also ? to the two little boy's that played the ? of norman and paul they were just brilliant children are often left out of the ? list i think because the stars that play them all grown up are such a big profile for the whole film but these children are amazing and should be praised for what they have done don't you think the whole story was so lovely because it was true and was someone's life after all that was shared with us all\""
     },
     "execution_count": 5,
     "metadata": {},
     "output_type": "execute_result"
    }
   ],
   "source": [
    "# here’s how you can quickly decode one of these reviews back to English words.\n",
    "word_index = imdb.get_word_index()\n",
    "reverse_word_index = dict([(value, key) for (key, value) in word_index.items()])\n",
    "decoded_review = \" \".join([reverse_word_index.get(i - 3, \"?\") for i in train_data[0]])\n",
    "decoded_review"
   ],
   "metadata": {
    "collapsed": false,
    "ExecuteTime": {
     "end_time": "2024-02-02T23:15:27.048453Z",
     "start_time": "2024-02-02T23:15:26.724206Z"
    }
   },
   "id": "2c0607a069dbb5f1"
  },
  {
   "cell_type": "code",
   "execution_count": 6,
   "outputs": [],
   "source": [
    "## Transform Data into the Multi-hot encoding\n",
    "import numpy as np\n",
    "\n",
    "\n",
    "def vectorize_sequence(sequences, dimension=10000):\n",
    "    all_zeroes = np.zeros(shape=(len(sequences), dimension))\n",
    "    for i, sequence in enumerate(sequences):\n",
    "        for s in sequence:\n",
    "            all_zeroes[i, s] = 1\n",
    "    return all_zeroes\n",
    "\n",
    "\n",
    "x_train = vectorize_sequence(train_data)\n",
    "x_test = vectorize_sequence(test_data)\n"
   ],
   "metadata": {
    "collapsed": false,
    "ExecuteTime": {
     "end_time": "2024-02-02T23:15:28.082451Z",
     "start_time": "2024-02-02T23:15:26.944364Z"
    }
   },
   "id": "be6baa3b62289905"
  },
  {
   "cell_type": "code",
   "execution_count": 7,
   "outputs": [
    {
     "name": "stdout",
     "output_type": "stream",
     "text": [
      "[0. 1. 1. ... 0. 0. 0.]\n"
     ]
    }
   ],
   "source": [
    "print(x_train[0])"
   ],
   "metadata": {
    "collapsed": false,
    "ExecuteTime": {
     "end_time": "2024-02-02T23:15:28.086477Z",
     "start_time": "2024-02-02T23:15:28.082014Z"
    }
   },
   "id": "6538f86849e4542b"
  },
  {
   "cell_type": "code",
   "execution_count": 8,
   "outputs": [],
   "source": [
    "# Vectorizing Labels too\n",
    "y_train = np.asarray(train_labels).astype('float32')\n",
    "y_test = np.asarray(test_labels).astype('float32')"
   ],
   "metadata": {
    "collapsed": false,
    "ExecuteTime": {
     "end_time": "2024-02-02T23:15:28.086915Z",
     "start_time": "2024-02-02T23:15:28.083786Z"
    }
   },
   "id": "aa926002e125292d"
  },
  {
   "cell_type": "markdown",
   "source": [
    "# Building the Model\n",
    "\n",
    "The input data is vectors, and the labels are scalars (1s and 0s): this is one of the simplest problem setups you’ll ever encounter. A type of model that performs well on such a problem is a plain stack of densely connected (Dense) layers with relu activations.\n",
    "\n",
    "We will create a stack that we will know why we did it like this in the next chapter"
   ],
   "metadata": {
    "collapsed": false
   },
   "id": "f0460385e4c2c434"
  },
  {
   "cell_type": "code",
   "execution_count": 42,
   "outputs": [],
   "source": [
    "from tensorflow import keras\n",
    "\n",
    "model = keras.Sequential([\n",
    "    keras.layers.Dense(units=16, activation=\"relu\"),\n",
    "    keras.layers.Dense(units=16, activation=\"relu\"),\n",
    "    keras.layers.Dense(units=1, activation=\"sigmoid\")\n",
    "])"
   ],
   "metadata": {
    "collapsed": false,
    "ExecuteTime": {
     "end_time": "2024-02-03T01:05:03.343385Z",
     "start_time": "2024-02-03T01:05:03.238249Z"
    }
   },
   "id": "f254dc193e7eec36"
  },
  {
   "cell_type": "markdown",
   "source": [
    "### What is the Number of Units?\n",
    "1. The number of units in the Dense layer is: the dimensionality of representation space of the layer.\n",
    "2. Each Dense layer with a relu activation implements the following chain of tensor operations: ``` output = relu(dot(input, W) + b). ```\n",
    "3. Having X units means the weight matrix W will have shape (input_dimension, X)\n",
    "4. The dimensionality of the representation space means “how much freedom you’re allowing the model to have when learning internal representations.”\n",
    "5. Having more units (a higher-dimensional representation space) allows your model to learn more-complex representations.\n",
    "6. Having more units makes the model more computationally expensive \n",
    "7. Having more units may lead to learning unwanted patterns (patterns that will improve performance on the training data but not on the test data)"
   ],
   "metadata": {
    "collapsed": false
   },
   "id": "189b703bb75e1a7"
  },
  {
   "cell_type": "markdown",
   "source": [
    "### What are ReLU and Sigmoid?\n",
    "1. A relu (rectified linear unit) is a function meant to zero out negative values.\n",
    "2. A sigmoid “squashes” arbitrary values into the [0, 1] interval. \n",
    "\n",
    "### What are activation functions, and why are they necessary?\n",
    "- Without an activation function like relu (also called a non-linearity), the Dense layer would consist of two linear operations—a dot product and an addition.\n",
    "```output = dot(input, W) + b```\n",
    "-  A stack of layers or a layer could only learn linear transformations(affine transformations) of the input data when it has only linear transformations.\n",
    "- In order to get access to a much richer hypothesis space that will benefit from deep representations, you need a non-linearity, or activation function."
   ],
   "metadata": {
    "collapsed": false
   },
   "id": "55cc46a555e42d44"
  },
  {
   "cell_type": "markdown",
   "source": [
    "# Choosing the Optimization and the Loss\n",
    "For a binary classification model, you can use:\n",
    "1. The binary_crossentropy loss.\n",
    "2. The  mean_squared_error loss.\n",
    "\n",
    "**Crossentropy** is usually the best choice when you’re dealing with models that output probabilities.\n",
    "\n",
    "**Crossentropy** is a quantity from the field of information theory that measures the distance between probability distributions or, in this case, between the ground-truth distribution and model’s predictions.\n",
    "\n",
    "**RMSProp** usually a good default choice for virtually any problem"
   ],
   "metadata": {
    "collapsed": false
   },
   "id": "3a711087a5707ece"
  },
  {
   "cell_type": "code",
   "execution_count": 43,
   "outputs": [],
   "source": [
    "model.compile(optimizer=\"rmsprop\", loss=\"binary_crossentropy\", metrics=[\"accuracy\"])"
   ],
   "metadata": {
    "collapsed": false,
    "ExecuteTime": {
     "end_time": "2024-02-03T01:05:07.064241Z",
     "start_time": "2024-02-03T01:05:07.022810Z"
    }
   },
   "id": "1c27ab4684db2344"
  },
  {
   "cell_type": "markdown",
   "source": [
    "## Validation\n",
    "A deep learning model should never be evaluated on its training data.\n",
    "it’s standard practice to use a validation set to monitor the accuracy of the model during training"
   ],
   "metadata": {
    "collapsed": false
   },
   "id": "9c617f00e5277118"
  },
  {
   "cell_type": "code",
   "execution_count": 44,
   "outputs": [],
   "source": [
    "x_val = x_train[:10000]\n",
    "y_val = y_train[:10000]"
   ],
   "metadata": {
    "collapsed": false,
    "ExecuteTime": {
     "end_time": "2024-02-03T01:05:11.205533Z",
     "start_time": "2024-02-03T01:05:11.204091Z"
    }
   },
   "id": "211b93ab29c63b3"
  },
  {
   "cell_type": "code",
   "execution_count": 45,
   "outputs": [
    {
     "data": {
      "text/plain": "(25000, 25000)"
     },
     "execution_count": 45,
     "metadata": {},
     "output_type": "execute_result"
    }
   ],
   "source": [
    "len(x_train), len(x_test)"
   ],
   "metadata": {
    "collapsed": false,
    "ExecuteTime": {
     "end_time": "2024-02-03T01:05:11.879640Z",
     "start_time": "2024-02-03T01:05:11.869185Z"
    }
   },
   "id": "e822ad15297d7a5a"
  },
  {
   "cell_type": "code",
   "execution_count": 46,
   "outputs": [
    {
     "name": "stdout",
     "output_type": "stream",
     "text": [
      "Epoch 1/30\n",
      "49/49 [==============================] - 3s 42ms/step - loss: 0.4373 - accuracy: 0.8038 - val_loss: 0.2887 - val_accuracy: 0.8882\n",
      "Epoch 2/30\n",
      "49/49 [==============================] - 1s 19ms/step - loss: 0.2575 - accuracy: 0.9005 - val_loss: 0.1678 - val_accuracy: 0.9457\n",
      "Epoch 3/30\n",
      "49/49 [==============================] - 1s 23ms/step - loss: 0.2015 - accuracy: 0.9254 - val_loss: 0.1372 - val_accuracy: 0.9587\n",
      "Epoch 4/30\n",
      "49/49 [==============================] - 1s 19ms/step - loss: 0.1761 - accuracy: 0.9377 - val_loss: 0.1421 - val_accuracy: 0.9524\n",
      "Epoch 5/30\n",
      "49/49 [==============================] - 1s 19ms/step - loss: 0.1549 - accuracy: 0.9459 - val_loss: 0.1100 - val_accuracy: 0.9693\n",
      "Epoch 6/30\n",
      "49/49 [==============================] - 1s 21ms/step - loss: 0.1403 - accuracy: 0.9540 - val_loss: 0.1283 - val_accuracy: 0.9604\n",
      "Epoch 7/30\n",
      "49/49 [==============================] - 1s 19ms/step - loss: 0.1319 - accuracy: 0.9567 - val_loss: 0.0988 - val_accuracy: 0.9741\n",
      "Epoch 8/30\n",
      "49/49 [==============================] - 1s 21ms/step - loss: 0.1259 - accuracy: 0.9582 - val_loss: 0.0919 - val_accuracy: 0.9751\n",
      "Epoch 9/30\n",
      "49/49 [==============================] - 1s 21ms/step - loss: 0.1089 - accuracy: 0.9662 - val_loss: 0.1310 - val_accuracy: 0.9557\n",
      "Epoch 10/30\n",
      "49/49 [==============================] - 1s 27ms/step - loss: 0.1135 - accuracy: 0.9635 - val_loss: 0.0824 - val_accuracy: 0.9787\n",
      "Epoch 11/30\n",
      "49/49 [==============================] - 1s 25ms/step - loss: 0.1056 - accuracy: 0.9669 - val_loss: 0.0794 - val_accuracy: 0.9808\n",
      "Epoch 12/30\n",
      "49/49 [==============================] - 1s 21ms/step - loss: 0.1007 - accuracy: 0.9676 - val_loss: 0.0821 - val_accuracy: 0.9789\n",
      "Epoch 13/30\n",
      "49/49 [==============================] - 1s 20ms/step - loss: 0.0969 - accuracy: 0.9700 - val_loss: 0.0782 - val_accuracy: 0.9810\n",
      "Epoch 14/30\n",
      "49/49 [==============================] - 1s 19ms/step - loss: 0.0960 - accuracy: 0.9688 - val_loss: 0.0740 - val_accuracy: 0.9817\n",
      "Epoch 15/30\n",
      "49/49 [==============================] - 1s 19ms/step - loss: 0.0967 - accuracy: 0.9681 - val_loss: 0.0750 - val_accuracy: 0.9804\n",
      "Epoch 16/30\n",
      "49/49 [==============================] - 1s 19ms/step - loss: 0.0902 - accuracy: 0.9725 - val_loss: 0.0753 - val_accuracy: 0.9795\n",
      "Epoch 17/30\n",
      "49/49 [==============================] - 1s 22ms/step - loss: 0.0977 - accuracy: 0.9675 - val_loss: 0.0766 - val_accuracy: 0.9796\n",
      "Epoch 18/30\n",
      "49/49 [==============================] - 1s 24ms/step - loss: 0.1012 - accuracy: 0.9650 - val_loss: 0.0796 - val_accuracy: 0.9778\n",
      "Epoch 19/30\n",
      "49/49 [==============================] - 1s 30ms/step - loss: 0.1055 - accuracy: 0.9644 - val_loss: 0.0740 - val_accuracy: 0.9806\n",
      "Epoch 20/30\n",
      "49/49 [==============================] - 1s 19ms/step - loss: 0.1164 - accuracy: 0.9593 - val_loss: 0.0773 - val_accuracy: 0.9768\n",
      "Epoch 21/30\n",
      "49/49 [==============================] - 1s 19ms/step - loss: 0.0995 - accuracy: 0.9670 - val_loss: 0.4524 - val_accuracy: 0.8283\n",
      "Epoch 22/30\n",
      "49/49 [==============================] - 1s 20ms/step - loss: 0.1296 - accuracy: 0.9577 - val_loss: 0.0737 - val_accuracy: 0.9809\n",
      "Epoch 23/30\n",
      "49/49 [==============================] - 1s 19ms/step - loss: 0.1318 - accuracy: 0.9596 - val_loss: 0.0702 - val_accuracy: 0.9809\n",
      "Epoch 24/30\n",
      "49/49 [==============================] - 1s 19ms/step - loss: 0.1272 - accuracy: 0.9568 - val_loss: 0.6626 - val_accuracy: 0.7860\n",
      "Epoch 25/30\n",
      "49/49 [==============================] - 1s 20ms/step - loss: 0.1511 - accuracy: 0.9504 - val_loss: 0.0729 - val_accuracy: 0.9814\n",
      "Epoch 26/30\n",
      "49/49 [==============================] - 1s 19ms/step - loss: 0.1512 - accuracy: 0.9534 - val_loss: 0.0966 - val_accuracy: 0.9667\n",
      "Epoch 27/30\n",
      "49/49 [==============================] - 1s 18ms/step - loss: 0.1714 - accuracy: 0.9494 - val_loss: 0.0721 - val_accuracy: 0.9811\n",
      "Epoch 28/30\n",
      "49/49 [==============================] - 1s 19ms/step - loss: 0.1681 - accuracy: 0.9527 - val_loss: 0.0765 - val_accuracy: 0.9785\n",
      "Epoch 29/30\n",
      "49/49 [==============================] - 1s 20ms/step - loss: 0.1885 - accuracy: 0.9466 - val_loss: 0.1136 - val_accuracy: 0.9576\n",
      "Epoch 30/30\n",
      "49/49 [==============================] - 1s 18ms/step - loss: 0.2272 - accuracy: 0.9342 - val_loss: 0.0769 - val_accuracy: 0.9800\n"
     ]
    }
   ],
   "source": [
    "num_of_epochs = 30\n",
    "history = model.fit(x_train, y_train, epochs=num_of_epochs, batch_size=512, validation_data=(x_val, y_val))"
   ],
   "metadata": {
    "collapsed": false,
    "ExecuteTime": {
     "end_time": "2024-02-03T01:05:48.534442Z",
     "start_time": "2024-02-03T01:05:12.794465Z"
    }
   },
   "id": "41f5096382570f3c"
  },
  {
   "cell_type": "markdown",
   "source": [
    "Note that the call to model.fit() returns a History object.\n",
    "This object has a member history, which is a dictionary containing data about everything that happened during training"
   ],
   "metadata": {
    "collapsed": false
   },
   "id": "93a3f1cc01381172"
  },
  {
   "cell_type": "code",
   "execution_count": 47,
   "outputs": [
    {
     "name": "stdout",
     "output_type": "stream",
     "text": [
      "**** loss ****\n",
      "[0.43733444809913635, 0.2575370669364929, 0.20145337283611298, 0.17605555057525635, 0.15486450493335724, 0.14026834070682526, 0.13191896677017212, 0.12593631446361542, 0.10893313586711884, 0.11348694562911987, 0.10563161969184875, 0.10072633624076843, 0.09689681977033615, 0.09597604721784592, 0.0966675877571106, 0.09021732211112976, 0.09771504998207092, 0.10121281445026398, 0.10550142824649811, 0.11637440323829651, 0.09954925626516342, 0.1296175718307495, 0.13175107538700104, 0.12717305123806, 0.15106754004955292, 0.15117289125919342, 0.17137230932712555, 0.16808366775512695, 0.18851953744888306, 0.2272098809480667]\n",
      "**** accuracy ****\n",
      "[0.8037599921226501, 0.9005200266838074, 0.9253600239753723, 0.9376800060272217, 0.9458799958229065, 0.9539999961853027, 0.9567199945449829, 0.9581999778747559, 0.966159999370575, 0.9634799957275391, 0.9668800234794617, 0.9675599932670593, 0.9700400233268738, 0.9687600135803223, 0.9680799841880798, 0.9725199937820435, 0.9674800038337708, 0.9650400280952454, 0.9643599987030029, 0.9592800140380859, 0.9669600129127502, 0.9577199816703796, 0.9595999717712402, 0.9568399786949158, 0.9503600001335144, 0.9534400105476379, 0.949400007724762, 0.9526799917221069, 0.9465600252151489, 0.9342399835586548]\n",
      "**** val_loss ****\n",
      "[0.2886790633201599, 0.1678178310394287, 0.13720659911632538, 0.14212536811828613, 0.10999006032943726, 0.12825815379619598, 0.09882402420043945, 0.09190961718559265, 0.13100288808345795, 0.08243782073259354, 0.07939790934324265, 0.0820736438035965, 0.07816310971975327, 0.07395540177822113, 0.07504287362098694, 0.07527604699134827, 0.0765787661075592, 0.07962947338819504, 0.07401784509420395, 0.07726063579320908, 0.4524368643760681, 0.07369781285524368, 0.0701918974518776, 0.6625794172286987, 0.07293662428855896, 0.09658227860927582, 0.07207457721233368, 0.07647782564163208, 0.11361497640609741, 0.07686270028352737]\n",
      "**** val_accuracy ****\n",
      "[0.8881999850273132, 0.9456999897956848, 0.9587000012397766, 0.9524000287055969, 0.9692999720573425, 0.9603999853134155, 0.9740999937057495, 0.9750999808311462, 0.9556999802589417, 0.9786999821662903, 0.9807999730110168, 0.9789000153541565, 0.9810000061988831, 0.9817000031471252, 0.980400025844574, 0.9794999957084656, 0.9796000123023987, 0.9778000116348267, 0.9805999994277954, 0.9768000245094299, 0.8282999992370605, 0.98089998960495, 0.98089998960495, 0.7860000133514404, 0.9814000129699707, 0.96670001745224, 0.9811000227928162, 0.9785000085830688, 0.9575999975204468, 0.9800000190734863]\n"
     ]
    }
   ],
   "source": [
    "history_items = history.history.items()\n",
    "for key, value in history_items:\n",
    "    print(f\"**** {key} ****\")\n",
    "    print(value)"
   ],
   "metadata": {
    "collapsed": false,
    "ExecuteTime": {
     "end_time": "2024-02-03T01:05:56.683720Z",
     "start_time": "2024-02-03T01:05:56.657781Z"
    }
   },
   "id": "2586419de85a4d4b"
  },
  {
   "cell_type": "code",
   "execution_count": 48,
   "outputs": [
    {
     "data": {
      "text/plain": "<matplotlib.legend.Legend at 0x3c9745c50>"
     },
     "execution_count": 48,
     "metadata": {},
     "output_type": "execute_result"
    },
    {
     "data": {
      "text/plain": "<Figure size 640x480 with 1 Axes>",
      "image/png": "[encoded data removed]"
     },
     "metadata": {},
     "output_type": "display_data"
    }
   ],
   "source": [
    "import matplotlib.pyplot as plt\n",
    "\n",
    "plt.plot(list(range(num_of_epochs)), history.history['loss'], marker=\"x\", label=\"Training Loss\")\n",
    "plt.plot(list(range(num_of_epochs)), history.history['val_loss'], marker=\"s\", label=\"Validation Loss\")\n",
    "plt.legend()"
   ],
   "metadata": {
    "collapsed": false,
    "ExecuteTime": {
     "end_time": "2024-02-03T01:05:57.030592Z",
     "start_time": "2024-02-03T01:05:56.876718Z"
    }
   },
   "id": "955558e01dfde970"
  },
  {
   "cell_type": "code",
   "execution_count": 49,
   "outputs": [
    {
     "data": {
      "text/plain": "<matplotlib.legend.Legend at 0x3bfca4f50>"
     },
     "execution_count": 49,
     "metadata": {},
     "output_type": "execute_result"
    },
    {
     "data": {
      "text/plain": "<Figure size 640x480 with 1 Axes>",
      "image/png": "[encoded data removed]"
     },
     "metadata": {},
     "output_type": "display_data"
    }
   ],
   "source": [
    "plt.plot(list(range(num_of_epochs)), history.history['accuracy'], marker=\"x\", label=\"Accuracy\")\n",
    "plt.plot(list(range(num_of_epochs)), history.history['val_accuracy'], marker=\"s\", label=\"Validation Accuracy\")\n",
    "plt.legend()"
   ],
   "metadata": {
    "collapsed": false,
    "ExecuteTime": {
     "end_time": "2024-02-03T01:05:58.734795Z",
     "start_time": "2024-02-03T01:05:58.636722Z"
    }
   },
   "id": "b723ed55efd5621a"
  },
  {
   "cell_type": "markdown",
   "source": [
    "That’s what you would expect when running gradient-descent optimization—the quantity you’re trying to minimize should be less with every iteration."
   ],
   "metadata": {
    "collapsed": false
   },
   "id": "22be46c1e69c9ecf"
  },
  {
   "cell_type": "markdown",
   "source": [
    "## Evaluate the Model"
   ],
   "metadata": {
    "collapsed": false
   },
   "id": "35c204887f5251ee"
  },
  {
   "cell_type": "code",
   "execution_count": 50,
   "outputs": [
    {
     "name": "stdout",
     "output_type": "stream",
     "text": [
      "782/782 [==============================] - 2s 2ms/step\n",
      "782/782 [==============================] - 3s 4ms/step - loss: 0.4716 - accuracy: 0.8664\n",
      "[[3.3470608e-02]\n",
      " [1.0000000e+00]\n",
      " [8.8651335e-01]\n",
      " [9.3846226e-01]\n",
      " [9.8384053e-01]\n",
      " [7.9083979e-01]\n",
      " [9.9999523e-01]\n",
      " [1.3793095e-04]\n",
      " [9.9444062e-01]\n",
      " [9.9987853e-01]]\n",
      "0.47164687514305115 0.8664399981498718\n"
     ]
    }
   ],
   "source": [
    "predictions = model.predict(x_test)\n",
    "eval_loss, eval_accuracy = model.evaluate(x_test, y_test)\n",
    "print(predictions[:10])\n",
    "print(eval_loss, eval_accuracy)"
   ],
   "metadata": {
    "collapsed": false,
    "ExecuteTime": {
     "end_time": "2024-02-03T01:06:20.151789Z",
     "start_time": "2024-02-03T01:06:11.466365Z"
    }
   },
   "id": "1bb960f4b61a9ad1"
  },
  {
   "cell_type": "markdown",
   "source": [
    "## Takeaways from the first Example\n",
    "- You usually need to do quite a bit of preprocessing on your raw data in order to be able to feed it—as tensors—into a neural network. \n",
    "- Stacks of Dense layers with relu activations can solve a wide range of problems (including sentiment classification), and you’ll likely use them frequently.\n",
    "\n",
    "- In a binary classification problem (two output classes), your model should end with a Dense layer with one unit and a sigmoid activation: the output of your model should be a scalar between 0 and 1, encoding a probability.\n",
    "\n",
    "- With such a scalar sigmoid output on a binary classification problem, the loss function you should use is binary_crossentropy.\n",
    "\n",
    "- The rmsprop optimizer is generally a good enough choice, whatever your problem. That’s one less thing for you to worry about.\n",
    "\n",
    "- As they get better on their training data, neural networks eventually start overfitting and end up obtaining increasingly worse results on data they’ve never seen before. Be sure to always monitor performance on data that is outside of the training set. "
   ],
   "metadata": {
    "collapsed": false
   },
   "id": "3f9acdb2397ee6c2"
  },
  {
   "cell_type": "code",
   "execution_count": 38,
   "outputs": [],
   "source": [
    "\"\""
   ],
   "metadata": {
    "collapsed": false,
    "ExecuteTime": {
     "end_time": "2024-02-02T23:55:50.806657Z",
     "start_time": "2024-02-02T23:55:50.798052Z"
    }
   },
   "id": "95bc0d4ef5346d56"
  },
  {
   "cell_type": "code",
   "execution_count": null,
   "outputs": [],
   "source": [],
   "metadata": {
    "collapsed": false
   },
   "id": "b82f1fdfd01cb2c7"
  }
 ],
 "metadata": {
  "kernelspec": {
   "display_name": "Python 3",
   "language": "python",
   "name": "python3"
  },
  "language_info": {
   "codemirror_mode": {
    "name": "ipython",
    "version": 2
   },
   "file_extension": ".py",
   "mimetype": "text/x-python",
   "name": "python",
   "nbconvert_exporter": "python",
   "pygments_lexer": "ipython2",
   "version": "2.7.6"
  }
 },
 "nbformat": 4,
 "nbformat_minor": 5
}
