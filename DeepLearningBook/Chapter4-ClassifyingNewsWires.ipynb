{
 "cells": [
  {
   "cell_type": "markdown",
   "source": [
    "# 4.2 Classifying newswires: A multiclass classification example"
   ],
   "metadata": {
    "collapsed": false
   },
   "id": "c58d76a850c51421"
  },
  {
   "cell_type": "markdown",
   "source": [
    "- Because we have many classes, this problem is an instance of **multiclass classification**\n",
    "- Because each data point should be classified into only one category, the problem is an instance of **single-label multiclass classification**.\n",
    "- **Multilabel multiclass classification** when multiple labels can be assigned to one point."
   ],
   "metadata": {
    "collapsed": false
   },
   "id": "2fa524884e8cda41"
  },
  {
   "cell_type": "markdown",
   "source": [
    "## Downloading and Understanding Dataset"
   ],
   "metadata": {
    "collapsed": false
   },
   "id": "c17d46359ffc7ad8"
  },
  {
   "cell_type": "code",
   "execution_count": 5,
   "outputs": [],
   "source": [
    "import numpy as np\n",
    "# Reuters dataset, a set of short newswires and their topics, published by Reuters in 1986\n",
    "from tensorflow.keras.datasets import reuters\n",
    "\n",
    "(train_data, train_labels), (test_data, test_labels) = reuters.load_data(num_words=10000)\n",
    "# The argument num_words=10000 restricts the data to the 10,000 most frequently occurring words found in the data"
   ],
   "metadata": {
    "collapsed": false,
    "ExecuteTime": {
     "end_time": "2024-02-03T21:41:09.496536Z",
     "start_time": "2024-02-03T21:41:09.278085Z"
    }
   },
   "id": "ae60ae6d4ade6556"
  },
  {
   "cell_type": "code",
   "execution_count": 6,
   "outputs": [
    {
     "data": {
      "text/plain": "(8982, 2246)"
     },
     "execution_count": 6,
     "metadata": {},
     "output_type": "execute_result"
    }
   ],
   "source": [
    "len(train_data), len(test_data)"
   ],
   "metadata": {
    "collapsed": false,
    "ExecuteTime": {
     "end_time": "2024-02-03T21:41:09.501296Z",
     "start_time": "2024-02-03T21:41:09.498322Z"
    }
   },
   "id": "1829fbd79b037fc5"
  },
  {
   "cell_type": "code",
   "execution_count": 7,
   "outputs": [
    {
     "data": {
      "text/plain": "[1,\n 2,\n 2,\n 8,\n 43,\n 10,\n 447,\n 5,\n 25,\n 207,\n 270,\n 5,\n 3095,\n 111,\n 16,\n 369,\n 186,\n 90,\n 67,\n 7,\n 89,\n 5,\n 19,\n 102,\n 6,\n 19,\n 124,\n 15,\n 90,\n 67,\n 84,\n 22,\n 482,\n 26,\n 7,\n 48,\n 4,\n 49,\n 8,\n 864,\n 39,\n 209,\n 154,\n 6,\n 151,\n 6,\n 83,\n 11,\n 15,\n 22,\n 155,\n 11,\n 15,\n 7,\n 48,\n 9,\n 4579,\n 1005,\n 504,\n 6,\n 258,\n 6,\n 272,\n 11,\n 15,\n 22,\n 134,\n 44,\n 11,\n 15,\n 16,\n 8,\n 197,\n 1245,\n 90,\n 67,\n 52,\n 29,\n 209,\n 30,\n 32,\n 132,\n 6,\n 109,\n 15,\n 17,\n 12]"
     },
     "execution_count": 7,
     "metadata": {},
     "output_type": "execute_result"
    }
   ],
   "source": [
    "# each example is a list of indices (word index)\n",
    "train_data[0]"
   ],
   "metadata": {
    "collapsed": false,
    "ExecuteTime": {
     "end_time": "2024-02-03T21:41:09.505588Z",
     "start_time": "2024-02-03T21:41:09.500572Z"
    }
   },
   "id": "d56f9ab3931aac16"
  },
  {
   "cell_type": "code",
   "execution_count": 8,
   "outputs": [
    {
     "data": {
      "text/plain": "'? ? ? said as a result of its december acquisition of space co it expects earnings per share in 1987 of 1 15 to 1 30 dlrs per share up from 70 cts in 1986 the company said pretax net should rise to nine to 10 mln dlrs from six mln dlrs in 1986 and rental operation revenues to 19 to 22 mln dlrs from 12 5 mln dlrs it said cash flow per share this year should be 2 50 to three dlrs reuter 3'"
     },
     "execution_count": 8,
     "metadata": {},
     "output_type": "execute_result"
    }
   ],
   "source": [
    "word_index = reuters.get_word_index()\n",
    "reverse_word_index = dict(\n",
    "    [(value, key) for (key, value) in word_index.items()])\n",
    "decoded_newswire = \" \".join([reverse_word_index.get(i - 3, \"?\") for i in train_data[0]])\n",
    "# indices are shifted by 3 because 0, 1, and 2 are reserved indices for “padding,” “start of sequence,” and “unknown.”\n",
    "decoded_newswire"
   ],
   "metadata": {
    "collapsed": false,
    "ExecuteTime": {
     "end_time": "2024-02-03T21:41:09.539861Z",
     "start_time": "2024-02-03T21:41:09.504621Z"
    }
   },
   "id": "c7ae4b2911ee15f0"
  },
  {
   "cell_type": "code",
   "execution_count": 9,
   "outputs": [
    {
     "data": {
      "text/plain": "3"
     },
     "execution_count": 9,
     "metadata": {},
     "output_type": "execute_result"
    }
   ],
   "source": [
    "# The label associated with an example is an integer between 0 and 45—a topic index:\n",
    "train_labels[10]"
   ],
   "metadata": {
    "collapsed": false,
    "ExecuteTime": {
     "end_time": "2024-02-03T21:41:09.540284Z",
     "start_time": "2024-02-03T21:41:09.530870Z"
    }
   },
   "id": "25c7a978694bc555"
  },
  {
   "cell_type": "markdown",
   "source": [
    "## Preparing Data"
   ],
   "metadata": {
    "collapsed": false
   },
   "id": "ee5d518a22a3a87f"
  },
  {
   "cell_type": "code",
   "execution_count": 10,
   "outputs": [],
   "source": [
    "## Transform Data into the Multi-hot encoding as in the Movie Classification Example\n",
    "import numpy as np\n",
    "\n",
    "def vectorize_data(data, num_words=10000):\n",
    "    result = np.zeros(shape=(len(data), num_words))\n",
    "    for row in range(len(data)):\n",
    "        for word in data[row]:\n",
    "            result[row][word] = 1\n",
    "    return result"
   ],
   "metadata": {
    "collapsed": false,
    "ExecuteTime": {
     "end_time": "2024-02-03T21:41:09.540592Z",
     "start_time": "2024-02-03T21:41:09.533549Z"
    }
   },
   "id": "2505b7c44f61230e"
  },
  {
   "cell_type": "code",
   "execution_count": 11,
   "outputs": [],
   "source": [
    "x_train = vectorize_data(train_data)\n",
    "x_test = vectorize_data(test_data)"
   ],
   "metadata": {
    "collapsed": false,
    "ExecuteTime": {
     "end_time": "2024-02-03T21:41:09.780689Z",
     "start_time": "2024-02-03T21:41:09.589060Z"
    }
   },
   "id": "d0ead33a58355b3f"
  },
  {
   "cell_type": "markdown",
   "source": [
    "## Vectorize the Labels:\n",
    " There are two possibilities to vectorize the labels:\n",
    "  - Cast the label list as an integer tensor\n",
    "  - Use One-Hot Encoding: One-hot encoding is a widely used format for categorical data, also called **categorical encoding**."
   ],
   "metadata": {
    "collapsed": false
   },
   "id": "b3485e931a6a5291"
  },
  {
   "cell_type": "code",
   "execution_count": 12,
   "outputs": [],
   "source": [
    "# One Hot encoding\n",
    "def to_one_hot(labels, num_topics=46):\n",
    "    results = np.zeros(shape=(len(labels), num_topics))\n",
    "    for i in range(len(labels)):\n",
    "        results[i][labels[i]] = 1\n",
    "    return results\n",
    "\n",
    "y_train = to_one_hot(train_labels)\n",
    "y_test = to_one_hot(test_labels)\n",
    "# Built in Solution (to_categorical is exactly the same to one-hot)\n",
    "from tensorflow.keras.utils import to_categorical\n",
    "y_train = to_categorical(train_labels)\n",
    "y_test = to_categorical(test_labels)"
   ],
   "metadata": {
    "collapsed": false,
    "ExecuteTime": {
     "end_time": "2024-02-03T21:41:09.788966Z",
     "start_time": "2024-02-03T21:41:09.783290Z"
    }
   },
   "id": "635816493d8b39bf"
  },
  {
   "cell_type": "markdown",
   "source": [
    "## Building the Model\n",
    "\n",
    "If one layer drops some information relevant to the classification problem, this information can never be recovered by later layers: each layer can potentially become an information bottleneck.\n",
    "\n",
    "**What is the Information Bottleneck?**\n",
    "It's when the layer is not capable of representing the data (due to it's limited space of representation i.e #units), which will cause data drop. This will affect later layers in the stack."
   ],
   "metadata": {
    "collapsed": false
   },
   "id": "5dba72b60381ce5f"
  },
  {
   "cell_type": "code",
   "execution_count": 34,
   "outputs": [],
   "source": [
    "from tensorflow.keras import layers\n",
    "from tensorflow import keras\n",
    "model = keras.Sequential([\n",
    "    layers.Dense(units=128, activation=\"relu\"),\n",
    "    layers.Dense(units=128, activation=\"relu\"),\n",
    "    layers.Dense(units=128, activation=\"relu\"),\n",
    "    layers.Dense(units=46, activation=\"softmax\"), ## The output is one of 46 possible outputs\n",
    "])"
   ],
   "metadata": {
    "collapsed": false,
    "ExecuteTime": {
     "end_time": "2024-02-03T21:53:29.528222Z",
     "start_time": "2024-02-03T21:53:29.522402Z"
    }
   },
   "id": "c4f719b732a5b5b1"
  },
  {
   "cell_type": "markdown",
   "source": [
    "**Softmax** means the model will output a probability distribution over the 46 different output classes—for every input sample, the model will produce a 46-dimensional output vector, where output[i] is the probability that the sample belongs to class i. **The 46 scores will sum to 1.**\n",
    "\n",
    "The best loss function to use in this case is **categorical_crossentropy**."
   ],
   "metadata": {
    "collapsed": false
   },
   "id": "40d32a45a31f8801"
  },
  {
   "cell_type": "code",
   "execution_count": 35,
   "outputs": [],
   "source": [
    "model.compile(optimizer=\"rmsprop\", loss=\"categorical_crossentropy\", metrics=[\"accuracy\"])"
   ],
   "metadata": {
    "collapsed": false,
    "ExecuteTime": {
     "end_time": "2024-02-03T21:53:30.496988Z",
     "start_time": "2024-02-03T21:53:30.466546Z"
    }
   },
   "id": "bc93f1906063e457"
  },
  {
   "cell_type": "code",
   "execution_count": 36,
   "outputs": [],
   "source": [
    "# validation sets\n",
    "x_val = x_train[:1000]\n",
    "y_val = y_train[:1000]"
   ],
   "metadata": {
    "collapsed": false,
    "ExecuteTime": {
     "end_time": "2024-02-03T21:53:31.130885Z",
     "start_time": "2024-02-03T21:53:31.125710Z"
    }
   },
   "id": "82128bf8d4624c37"
  },
  {
   "cell_type": "code",
   "execution_count": 37,
   "outputs": [
    {
     "name": "stdout",
     "output_type": "stream",
     "text": [
      "Epoch 1/10\n",
      "18/18 [==============================] - 1s 41ms/step - loss: 1.9803 - accuracy: 0.5799 - val_loss: 1.2229 - val_accuracy: 0.7220\n",
      "Epoch 2/10\n",
      "18/18 [==============================] - 0s 19ms/step - loss: 1.0919 - accuracy: 0.7586 - val_loss: 0.7517 - val_accuracy: 0.8370\n",
      "Epoch 3/10\n",
      "18/18 [==============================] - 0s 19ms/step - loss: 0.7730 - accuracy: 0.8307 - val_loss: 0.5507 - val_accuracy: 0.9010\n",
      "Epoch 4/10\n",
      "18/18 [==============================] - 0s 18ms/step - loss: 0.5648 - accuracy: 0.8795 - val_loss: 0.3778 - val_accuracy: 0.9410\n",
      "Epoch 5/10\n",
      "18/18 [==============================] - 0s 17ms/step - loss: 0.4266 - accuracy: 0.9095 - val_loss: 0.2782 - val_accuracy: 0.9500\n",
      "Epoch 6/10\n",
      "18/18 [==============================] - 0s 18ms/step - loss: 0.3038 - accuracy: 0.9360 - val_loss: 0.2293 - val_accuracy: 0.9580\n",
      "Epoch 7/10\n",
      "18/18 [==============================] - 0s 21ms/step - loss: 0.2732 - accuracy: 0.9375 - val_loss: 0.1784 - val_accuracy: 0.9660\n",
      "Epoch 8/10\n",
      "18/18 [==============================] - 0s 23ms/step - loss: 0.2093 - accuracy: 0.9488 - val_loss: 0.1509 - val_accuracy: 0.9690\n",
      "Epoch 9/10\n",
      "18/18 [==============================] - 0s 21ms/step - loss: 0.1974 - accuracy: 0.9481 - val_loss: 0.1492 - val_accuracy: 0.9650\n",
      "Epoch 10/10\n",
      "18/18 [==============================] - 0s 18ms/step - loss: 0.1678 - accuracy: 0.9535 - val_loss: 0.1086 - val_accuracy: 0.9670\n"
     ]
    }
   ],
   "source": [
    "history = model.fit(x_train,y_train, epochs=10, batch_size=512, validation_data=(x_val, y_val))"
   ],
   "metadata": {
    "collapsed": false,
    "ExecuteTime": {
     "end_time": "2024-02-03T21:53:37.467013Z",
     "start_time": "2024-02-03T21:53:31.996989Z"
    }
   },
   "id": "f551c2114dbe4315"
  },
  {
   "cell_type": "code",
   "execution_count": 38,
   "outputs": [
    {
     "data": {
      "text/plain": "<matplotlib.legend.Legend at 0x150b20a50>"
     },
     "execution_count": 38,
     "metadata": {},
     "output_type": "execute_result"
    },
    {
     "data": {
      "text/plain": "<Figure size 640x480 with 1 Axes>",
      "image/png": "[encoded data removed]"
     },
     "metadata": {},
     "output_type": "display_data"
    }
   ],
   "source": [
    "import matplotlib.pyplot as plt\n",
    "plt.plot(list(range(10)), history.history['loss'], marker=\"x\", label=\"Training Loss\")\n",
    "plt.plot(list(range(10)), history.history['val_loss'], marker=\"s\", label=\"Validation Loss\")\n",
    "plt.legend()"
   ],
   "metadata": {
    "collapsed": false,
    "ExecuteTime": {
     "end_time": "2024-02-03T21:53:40.931695Z",
     "start_time": "2024-02-03T21:53:40.808281Z"
    }
   },
   "id": "966e1d9500bee174"
  },
  {
   "cell_type": "code",
   "execution_count": 39,
   "outputs": [
    {
     "data": {
      "text/plain": "<matplotlib.legend.Legend at 0x150877550>"
     },
     "execution_count": 39,
     "metadata": {},
     "output_type": "execute_result"
    },
    {
     "data": {
      "text/plain": "<Figure size 640x480 with 1 Axes>",
      "image/png": "[encoded data removed]"
     },
     "metadata": {},
     "output_type": "display_data"
    }
   ],
   "source": [
    "plt.plot(list(range(10)), history.history['accuracy'], marker=\"x\", label=\"Accuracy\")\n",
    "plt.plot(list(range(10)), history.history['val_accuracy'], marker=\"s\", label=\"Validation Accuracy\")\n",
    "plt.legend()"
   ],
   "metadata": {
    "collapsed": false,
    "ExecuteTime": {
     "end_time": "2024-02-03T21:53:43.293428Z",
     "start_time": "2024-02-03T21:53:43.222007Z"
    }
   },
   "id": "ecc3a305d497f30b"
  },
  {
   "cell_type": "code",
   "execution_count": 41,
   "outputs": [
    {
     "name": "stdout",
     "output_type": "stream",
     "text": [
      "71/71 [==============================] - 1s 9ms/step - loss: 1.1352 - accuracy: 0.7894\n"
     ]
    },
    {
     "data": {
      "text/plain": "[1.1352028846740723, 0.7894033789634705]"
     },
     "execution_count": 41,
     "metadata": {},
     "output_type": "execute_result"
    }
   ],
   "source": [
    "## Model Evaluate\n",
    "model.evaluate(x_test, y_test)"
   ],
   "metadata": {
    "collapsed": false,
    "ExecuteTime": {
     "end_time": "2024-02-03T22:53:59.323292Z",
     "start_time": "2024-02-03T22:53:57.954881Z"
    }
   },
   "id": "ddf9c182203a751"
  },
  {
   "cell_type": "code",
   "execution_count": null,
   "outputs": [],
   "source": [
    "# To encode the labels would be to cast them as an integer tensor\n",
    "y_train = np.array(train_labels)\n",
    "y_test = np.array(test_labels)"
   ],
   "metadata": {
    "collapsed": false
   },
   "id": "72e865cfc604aaf5"
  },
  {
   "cell_type": "markdown",
   "source": [
    "## Example Wrap Up\n",
    "- If you’re trying to classify data points among N classes, your model should end with a Dense layer of size N.\n",
    "- In a single-label, multiclass classification problem, your model should end with a softmax activation so that it will output a probability distribution over the N output classes.\n",
    "- Categorical crossentropy is almost always the loss function you should use for such problems. It minimizes the distance between the probability distributions output by the model and the true distribution of the targets.\n",
    "\n",
    "- There are two ways to handle labels in multiclass classification:\n",
    "    - Encoding the labels via categorical encoding (also known as one-hot encoding) and using categorical_crossentropy as a loss function\n",
    "    - Encoding the labels as integers and using the sparse_categorical_crossentropy loss function\n",
    "\n",
    "- If you need to classify data into a large number of categories, you should avoid creating information bottlenecks in your model due to intermediate layers that are too small. "
   ],
   "metadata": {
    "collapsed": false
   },
   "id": "f5ef577250e4e6ed"
  },
  {
   "cell_type": "code",
   "execution_count": null,
   "outputs": [],
   "source": [],
   "metadata": {
    "collapsed": false
   },
   "id": "727b2ec8fc326d62"
  }
 ],
 "metadata": {
  "kernelspec": {
   "display_name": "Python 3",
   "language": "python",
   "name": "python3"
  },
  "language_info": {
   "codemirror_mode": {
    "name": "ipython",
    "version": 2
   },
   "file_extension": ".py",
   "mimetype": "text/x-python",
   "name": "python",
   "nbconvert_exporter": "python",
   "pygments_lexer": "ipython2",
   "version": "2.7.6"
  }
 },
 "nbformat": 4,
 "nbformat_minor": 5
}
