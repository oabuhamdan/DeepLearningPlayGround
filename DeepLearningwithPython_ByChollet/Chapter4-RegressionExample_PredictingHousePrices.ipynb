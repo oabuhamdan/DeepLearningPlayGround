{
 "cells": [
  {
   "cell_type": "markdown",
   "source": [
    "# 4.3 Predicting house prices: A regression example\n",
    "\n",
    "Another common type of machine learning problem is regression, which consists of predicting a continuous value instead of a discrete label"
   ],
   "metadata": {
    "collapsed": false
   },
   "id": "9e190fd9d0acbc07"
  },
  {
   "cell_type": "markdown",
   "source": [
    "## The Boston Housing Price Dataset\n",
    "Each data point has 13 numerical features with different scale for each feature."
   ],
   "metadata": {
    "collapsed": false
   },
   "id": "1d9410026e3efb6a"
  },
  {
   "cell_type": "code",
   "execution_count": 182,
   "outputs": [],
   "source": [
    "import numpy as np"
   ],
   "metadata": {
    "collapsed": false,
    "ExecuteTime": {
     "end_time": "2024-02-04T04:42:42.588226Z",
     "start_time": "2024-02-04T04:42:42.569608Z"
    }
   },
   "id": "ed2ca33322c61c05"
  },
  {
   "cell_type": "code",
   "execution_count": 183,
   "outputs": [],
   "source": [
    "from tensorflow.keras.datasets import boston_housing\n",
    "\n",
    "(train_data, train_targets), (test_data, test_targets) = (boston_housing.load_data())"
   ],
   "metadata": {
    "collapsed": false,
    "ExecuteTime": {
     "end_time": "2024-02-04T04:42:42.615437Z",
     "start_time": "2024-02-04T04:42:42.591308Z"
    }
   },
   "id": "c60b5267c0bca32d"
  },
  {
   "cell_type": "code",
   "execution_count": 184,
   "outputs": [
    {
     "data": {
      "text/plain": "((102, 13), (404, 13))"
     },
     "execution_count": 184,
     "metadata": {},
     "output_type": "execute_result"
    }
   ],
   "source": [
    "test_data.shape, train_data.shape"
   ],
   "metadata": {
    "collapsed": false,
    "ExecuteTime": {
     "end_time": "2024-02-04T04:42:42.617215Z",
     "start_time": "2024-02-04T04:42:42.596196Z"
    }
   },
   "id": "305aa11ca2662c7e"
  },
  {
   "cell_type": "markdown",
   "source": [
    "The targets are the median values of owner-occupied homes, in thousands of dollars"
   ],
   "metadata": {
    "collapsed": false
   },
   "id": "a3e142dd0fbf96d9"
  },
  {
   "cell_type": "code",
   "execution_count": 185,
   "outputs": [
    {
     "data": {
      "text/plain": "array([[1.23247e+00, 0.00000e+00, 8.14000e+00, 0.00000e+00, 5.38000e-01,\n        6.14200e+00, 9.17000e+01, 3.97690e+00, 4.00000e+00, 3.07000e+02,\n        2.10000e+01, 3.96900e+02, 1.87200e+01],\n       [2.17700e-02, 8.25000e+01, 2.03000e+00, 0.00000e+00, 4.15000e-01,\n        7.61000e+00, 1.57000e+01, 6.27000e+00, 2.00000e+00, 3.48000e+02,\n        1.47000e+01, 3.95380e+02, 3.11000e+00],\n       [4.89822e+00, 0.00000e+00, 1.81000e+01, 0.00000e+00, 6.31000e-01,\n        4.97000e+00, 1.00000e+02, 1.33250e+00, 2.40000e+01, 6.66000e+02,\n        2.02000e+01, 3.75520e+02, 3.26000e+00],\n       [3.96100e-02, 0.00000e+00, 5.19000e+00, 0.00000e+00, 5.15000e-01,\n        6.03700e+00, 3.45000e+01, 5.98530e+00, 5.00000e+00, 2.24000e+02,\n        2.02000e+01, 3.96900e+02, 8.01000e+00],\n       [3.69311e+00, 0.00000e+00, 1.81000e+01, 0.00000e+00, 7.13000e-01,\n        6.37600e+00, 8.84000e+01, 2.56710e+00, 2.40000e+01, 6.66000e+02,\n        2.02000e+01, 3.91430e+02, 1.46500e+01],\n       [2.83920e-01, 0.00000e+00, 7.38000e+00, 0.00000e+00, 4.93000e-01,\n        5.70800e+00, 7.43000e+01, 4.72110e+00, 5.00000e+00, 2.87000e+02,\n        1.96000e+01, 3.91130e+02, 1.17400e+01],\n       [9.18702e+00, 0.00000e+00, 1.81000e+01, 0.00000e+00, 7.00000e-01,\n        5.53600e+00, 1.00000e+02, 1.58040e+00, 2.40000e+01, 6.66000e+02,\n        2.02000e+01, 3.96900e+02, 2.36000e+01],\n       [4.09740e+00, 0.00000e+00, 1.95800e+01, 0.00000e+00, 8.71000e-01,\n        5.46800e+00, 1.00000e+02, 1.41180e+00, 5.00000e+00, 4.03000e+02,\n        1.47000e+01, 3.96900e+02, 2.64200e+01],\n       [2.15505e+00, 0.00000e+00, 1.95800e+01, 0.00000e+00, 8.71000e-01,\n        5.62800e+00, 1.00000e+02, 1.51660e+00, 5.00000e+00, 4.03000e+02,\n        1.47000e+01, 1.69270e+02, 1.66500e+01],\n       [1.62864e+00, 0.00000e+00, 2.18900e+01, 0.00000e+00, 6.24000e-01,\n        5.01900e+00, 1.00000e+02, 1.43940e+00, 4.00000e+00, 4.37000e+02,\n        2.12000e+01, 3.96900e+02, 3.44100e+01]])"
     },
     "execution_count": 185,
     "metadata": {},
     "output_type": "execute_result"
    }
   ],
   "source": [
    "train_data[:10]"
   ],
   "metadata": {
    "collapsed": false,
    "ExecuteTime": {
     "end_time": "2024-02-04T04:42:42.617756Z",
     "start_time": "2024-02-04T04:42:42.599784Z"
    }
   },
   "id": "c638b93b609dcda7"
  },
  {
   "cell_type": "code",
   "execution_count": 186,
   "outputs": [
    {
     "data": {
      "text/plain": "array([15.2, 42.3, 50. , 21.1, 17.7, 18.5, 11.3, 15.6, 15.6, 14.4])"
     },
     "execution_count": 186,
     "metadata": {},
     "output_type": "execute_result"
    }
   ],
   "source": [
    "train_targets[:10]"
   ],
   "metadata": {
    "collapsed": false,
    "ExecuteTime": {
     "end_time": "2024-02-04T04:42:42.619861Z",
     "start_time": "2024-02-04T04:42:42.604776Z"
    }
   },
   "id": "58f71675ebae92bd"
  },
  {
   "cell_type": "markdown",
   "source": [
    "## Preparing Data\n",
    "It would be problematic to feed into a neural network values that all take wildly different ranges.\n",
    "The model might be able to automatically adapt to such heterogeneous data, but it would definitely make learning more difficult. \n",
    "\n",
    "<br/>\n",
    "\n",
    "#### Ok, now what to do?\n",
    "Do **feature-wise normalization**: for each feature in the input data (a column in the input data matrix), subtract the mean of the feature and divide by the standard deviation, so that the feature is centered around 0 and has a unit standard deviation. \n",
    "\n",
    "This is easily done in NumPy:"
   ],
   "metadata": {
    "collapsed": false
   },
   "id": "363e33f0c74efbca"
  },
  {
   "cell_type": "code",
   "execution_count": 187,
   "outputs": [],
   "source": [
    "mean = train_data.mean(axis=0)\n",
    "train_data -= mean\n",
    "std = train_data.std(axis=0)\n",
    "train_data /= std\n",
    "test_data -= mean\n",
    "test_data /= std"
   ],
   "metadata": {
    "collapsed": false,
    "ExecuteTime": {
     "end_time": "2024-02-04T04:42:42.642799Z",
     "start_time": "2024-02-04T04:42:42.622956Z"
    }
   },
   "id": "d7fd0d6f74ee15bd"
  },
  {
   "cell_type": "markdown",
   "source": [
    "Two Notes Here:\n",
    "1. In the case of mean(axis=0), you are calculating the mean along the rows, resulting in an array of mean values for each column (feature) in the 2D array.\n",
    "2. Note that the quantities used for normalizing the test data are computed using the training data. You should never use any quantity computed on the test data in your workflow, even for something as simple as data normalization. \n",
    "\n",
    "```python\n",
    "train_data.mean(axis=0)\n",
    "# is equal to\n",
    "col_mean = []\n",
    "for col in range(13):\n",
    "    col_mean.append(train_data[:, col].mean())\n",
    "print(col_mean)\n",
    "```\n",
    "and \n",
    "```python\n",
    "train_data.mean(axis=1)\n",
    "# is equal to\n",
    "row_mean = []\n",
    "for i in range(len(train_data)):\n",
    "    row_mean.append(reserved_train_data[i, :].mean())\n",
    "print(row_mean)\n",
    "```\n"
   ],
   "metadata": {
    "collapsed": false
   },
   "id": "baf48910395a4ac9"
  },
  {
   "cell_type": "markdown",
   "source": [
    "## Building the Model\n",
    "\n",
    "In general, the less training data you have, the worse overfitting will be, and using a small model is one way to mitigate overfitting."
   ],
   "metadata": {
    "collapsed": false
   },
   "id": "ba8be65ccdcf33b6"
  },
  {
   "cell_type": "code",
   "execution_count": 188,
   "outputs": [],
   "source": [
    "from tensorflow import keras\n",
    "from keras import layers\n",
    "\n",
    "\n",
    "def get_model() -> keras.Sequential:\n",
    "    model = keras.Sequential([\n",
    "        layers.Dense(units=32, activation=\"relu\"),\n",
    "        layers.Dense(1)\n",
    "    ])\n",
    "\n",
    "    model.compile(optimizer=\"rmsprop\", loss=\"mse\", metrics=[\"mae\"])\n",
    "    return model\n"
   ],
   "metadata": {
    "collapsed": false,
    "ExecuteTime": {
     "end_time": "2024-02-04T04:42:42.644108Z",
     "start_time": "2024-02-04T04:42:42.630628Z"
    }
   },
   "id": "3a1711393231616d"
  },
  {
   "cell_type": "markdown",
   "source": [
    "Notes about the Model:\n",
    "- The model ends with a single unit and no activation (it will be a linear layer).\n",
    "- This is a typical setup for scalar regression (a regression where you’re trying to predict a single continuous value).\n",
    "- Applying an activation function would constrain the range the output can take.\n",
    "    - if you applied a sigmoid activation function, the model could only learn to predict values between 0 and 1.\n",
    "    - if you applied a relu activation function, the model could only learn to predict values positive values only, as negative values are set to zero.\n",
    "\n",
    "Notes about the Loss and Function and the Metrics:\n",
    "- MSE loss function: mean squared error, the square of the difference between the predictions and the targets.\n",
    "    - This is a widely used loss function for regression problems.\n",
    "- Mean Absolute Error (MAE): It’s the absolute value of the difference between the predictions and the targets.\n",
    "\n"
   ],
   "metadata": {
    "collapsed": false
   },
   "id": "f1ef864215ece15b"
  },
  {
   "cell_type": "markdown",
   "source": [
    "## K-Fold Validation\n",
    "When we have a small amount of data, it's not the smartest to split the data into validation and training. The validation scores might have a high variance with regard to the validation split \n",
    "\n",
    "So, we can use K-fold cross-validation.\n",
    "\n",
    "It consists of splitting the available data into K partitions, instantiating K identical models, and training each one on K – 1 partitions while evaluating on the remaining partition.\n",
    "\n",
    "The **Validation Score** for the model used is then the average of the K validation scores obtained"
   ],
   "metadata": {
    "collapsed": false
   },
   "id": "a09f6e2414e36981"
  },
  {
   "cell_type": "code",
   "execution_count": 189,
   "outputs": [
    {
     "name": "stdout",
     "output_type": "stream",
     "text": [
      "Processing fold 0\n",
      "Processing fold 1\n",
      "Processing fold 2\n",
      "Processing fold 3\n"
     ]
    }
   ],
   "source": [
    "k = 4\n",
    "num_val_samples = len(train_data) // k\n",
    "num_epochs = 100 \n",
    "all_mae_histories = [] \n",
    "\n",
    "for i in range(k):\n",
    "    print(f\"Processing fold {i}\")\n",
    "    # 1- splitting the available data into K partitions\n",
    "    val_data = train_data[num_val_samples * i: num_val_samples * (i + 1)]\n",
    "    val_targets = train_targets[num_val_samples * i: num_val_samples * (i + 1)]\n",
    "    partial_train_data = np.concatenate([train_data[:num_val_samples * i], train_data[num_val_samples * (i + 1):]],\n",
    "                                        axis=0)\n",
    "    partial_train_targets = np.concatenate(\n",
    "        [train_targets[:num_val_samples * i], train_targets[num_val_samples * (i + 1):]],\n",
    "        axis=0)\n",
    "    model = get_model()\n",
    "    # 2- training each one on K – 1 partitions\n",
    "    # (in silent mode, verbose = 0)\n",
    "    history = model.fit(partial_train_data, partial_train_targets,          \n",
    "                        validation_data=(val_data, val_targets),\n",
    "                        epochs=num_epochs, batch_size=16, verbose=0)\n",
    "    mae_history = history.history[\"val_mae\"]\n",
    "    all_mae_histories.append(mae_history)\n"
   ],
   "metadata": {
    "collapsed": false,
    "ExecuteTime": {
     "end_time": "2024-02-04T04:43:29.461101Z",
     "start_time": "2024-02-04T04:42:42.653923Z"
    }
   },
   "id": "e74a5d2fba2649be"
  },
  {
   "cell_type": "code",
   "execution_count": 190,
   "outputs": [
    {
     "name": "stdout",
     "output_type": "stream",
     "text": [
      "[22.269521713256836, 22.149423122406006, 22.02499485015869, 21.884631633758545, 21.732482433319092, 21.56318187713623, 21.377384185791016, 21.177974224090576, 20.966572761535645, 20.73258638381958, 20.490710258483887, 20.229124546051025, 19.952550411224365, 19.66976547241211, 19.380109786987305, 19.08090591430664, 18.777060508728027, 18.46477222442627, 18.145376682281494, 17.827894687652588, 17.508283138275146, 17.17780637741089, 16.85967493057251, 16.537553071975708, 16.220743656158447, 15.898634433746338, 15.58087944984436, 15.2647864818573, 14.943011045455933, 14.621608257293701, 14.311626195907593, 13.99391508102417, 13.683997392654419, 13.374622344970703, 13.05983853340149, 12.750230312347412, 12.435481548309326, 12.11997652053833, 11.821502447128296, 11.508086681365967, 11.183340311050415, 10.87466835975647, 10.556470155715942, 10.24358606338501, 9.927438974380493, 9.621706008911133, 9.30443286895752, 8.998391389846802, 8.679188132286072, 8.391399264335632, 8.074153661727905, 7.781646251678467, 7.503101468086243, 7.222785472869873, 6.959955930709839, 6.722311973571777, 6.4811317920684814, 6.293629169464111, 6.108153343200684, 5.961053013801575, 5.813270092010498, 5.6868380308151245, 5.581700563430786, 5.499159336090088, 5.421470880508423, 5.345108985900879, 5.263756275177002, 5.212289094924927, 5.161796450614929, 5.12604296207428, 5.0563660860061646, 4.98136579990387, 4.933330774307251, 4.894158959388733, 4.872056841850281, 4.806532263755798, 4.755874276161194, 4.721267223358154, 4.661866307258606, 4.607758402824402, 4.539345920085907, 4.503031611442566, 4.447636425495148, 4.393592417240143, 4.335634350776672, 4.297089397907257, 4.239241600036621, 4.198633849620819, 4.156897068023682, 4.109708070755005, 4.073481500148773, 4.042238831520081, 4.007703244686127, 3.967126429080963, 3.9464935660362244, 3.8974889516830444, 3.898637354373932, 3.8721598982810974, 3.8397634625434875, 3.8191710114479065]\n"
     ]
    }
   ],
   "source": [
    "average_mae_history = [np.mean([x[i] for x in all_mae_histories]) for i in range(num_epochs)]\n",
    "print(average_mae_history)"
   ],
   "metadata": {
    "collapsed": false,
    "ExecuteTime": {
     "end_time": "2024-02-04T04:43:29.469122Z",
     "start_time": "2024-02-04T04:43:29.461645Z"
    }
   },
   "id": "e3311c34174336f2"
  },
  {
   "cell_type": "code",
   "execution_count": 191,
   "outputs": [
    {
     "data": {
      "text/plain": "[<matplotlib.lines.Line2D at 0x32c13d510>]"
     },
     "execution_count": 191,
     "metadata": {},
     "output_type": "execute_result"
    },
    {
     "data": {
      "text/plain": "<Figure size 640x480 with 1 Axes>",
      "image/png": "[encoded data removed]"
     },
     "metadata": {},
     "output_type": "display_data"
    }
   ],
   "source": [
    "import matplotlib.pyplot as plt\n",
    "plt.plot(list(range(num_epochs)), average_mae_history)"
   ],
   "metadata": {
    "collapsed": false,
    "ExecuteTime": {
     "end_time": "2024-02-04T04:43:29.562307Z",
     "start_time": "2024-02-04T04:43:29.464416Z"
    }
   },
   "id": "a1eeb37c1ce15d05"
  },
  {
   "cell_type": "markdown",
   "source": [
    "Once you’re finished tuning other parameters of the model (in addition to the number of epochs, you could also adjust the size of the intermediate layers), you can train a final production model on all of the training data, with the best parameters, and then look at its performance on the test data."
   ],
   "metadata": {
    "collapsed": false
   },
   "id": "9ed31dee64d95bb3"
  },
  {
   "cell_type": "code",
   "execution_count": 192,
   "outputs": [
    {
     "name": "stdout",
     "output_type": "stream",
     "text": [
      "Epoch 1/100\n",
      "26/26 [==============================] - 1s 22ms/step - loss: 580.0578 - mae: 22.2245\n",
      "Epoch 2/100\n",
      "26/26 [==============================] - 0s 6ms/step - loss: 561.7540 - mae: 21.9990\n",
      "Epoch 3/100\n",
      "26/26 [==============================] - 0s 5ms/step - loss: 545.7928 - mae: 21.7539\n",
      "Epoch 4/100\n",
      "26/26 [==============================] - 0s 5ms/step - loss: 529.3370 - mae: 21.4920\n",
      "Epoch 5/100\n",
      "26/26 [==============================] - 0s 5ms/step - loss: 513.3914 - mae: 21.2304\n",
      "Epoch 6/100\n",
      "26/26 [==============================] - 0s 6ms/step - loss: 497.1768 - mae: 20.9268\n",
      "Epoch 7/100\n",
      "26/26 [==============================] - 0s 5ms/step - loss: 479.6078 - mae: 20.5482\n",
      "Epoch 8/100\n",
      "26/26 [==============================] - 0s 5ms/step - loss: 461.9442 - mae: 20.1827\n",
      "Epoch 9/100\n",
      "26/26 [==============================] - 0s 5ms/step - loss: 444.8727 - mae: 19.8024\n",
      "Epoch 10/100\n",
      "26/26 [==============================] - 0s 5ms/step - loss: 427.2317 - mae: 19.3738\n",
      "Epoch 11/100\n",
      "26/26 [==============================] - 0s 5ms/step - loss: 409.8747 - mae: 18.9317\n",
      "Epoch 12/100\n",
      "26/26 [==============================] - 0s 5ms/step - loss: 392.9151 - mae: 18.4793\n",
      "Epoch 13/100\n",
      "26/26 [==============================] - 0s 5ms/step - loss: 375.6418 - mae: 18.0001\n",
      "Epoch 14/100\n",
      "26/26 [==============================] - 0s 5ms/step - loss: 359.0903 - mae: 17.5316\n",
      "Epoch 15/100\n",
      "26/26 [==============================] - 0s 5ms/step - loss: 343.6548 - mae: 17.0570\n",
      "Epoch 16/100\n",
      "26/26 [==============================] - 0s 5ms/step - loss: 329.1127 - mae: 16.5943\n",
      "Epoch 17/100\n",
      "26/26 [==============================] - 0s 5ms/step - loss: 314.3788 - mae: 16.1415\n",
      "Epoch 18/100\n",
      "26/26 [==============================] - 0s 5ms/step - loss: 300.4355 - mae: 15.6842\n",
      "Epoch 19/100\n",
      "26/26 [==============================] - 0s 6ms/step - loss: 286.7675 - mae: 15.2186\n",
      "Epoch 20/100\n",
      "26/26 [==============================] - 0s 5ms/step - loss: 273.6728 - mae: 14.7964\n",
      "Epoch 21/100\n",
      "26/26 [==============================] - 0s 6ms/step - loss: 260.7949 - mae: 14.3552\n",
      "Epoch 22/100\n",
      "26/26 [==============================] - 0s 6ms/step - loss: 247.9411 - mae: 13.9317\n",
      "Epoch 23/100\n",
      "26/26 [==============================] - 0s 5ms/step - loss: 236.6414 - mae: 13.5257\n",
      "Epoch 24/100\n",
      "26/26 [==============================] - 0s 5ms/step - loss: 224.4863 - mae: 13.1218\n",
      "Epoch 25/100\n",
      "26/26 [==============================] - 0s 5ms/step - loss: 214.1147 - mae: 12.7107\n",
      "Epoch 26/100\n",
      "26/26 [==============================] - 0s 5ms/step - loss: 202.6441 - mae: 12.3058\n",
      "Epoch 27/100\n",
      "26/26 [==============================] - 0s 5ms/step - loss: 192.1190 - mae: 11.9042\n",
      "Epoch 28/100\n",
      "26/26 [==============================] - 0s 5ms/step - loss: 182.4997 - mae: 11.4974\n",
      "Epoch 29/100\n",
      "26/26 [==============================] - 0s 5ms/step - loss: 172.5086 - mae: 11.1116\n",
      "Epoch 30/100\n",
      "26/26 [==============================] - 0s 5ms/step - loss: 163.6968 - mae: 10.7358\n",
      "Epoch 31/100\n",
      "26/26 [==============================] - 0s 5ms/step - loss: 154.8201 - mae: 10.3302\n",
      "Epoch 32/100\n",
      "26/26 [==============================] - 0s 5ms/step - loss: 146.6427 - mae: 9.9139\n",
      "Epoch 33/100\n",
      "26/26 [==============================] - 0s 5ms/step - loss: 138.3412 - mae: 9.5365\n",
      "Epoch 34/100\n",
      "26/26 [==============================] - 0s 5ms/step - loss: 130.4668 - mae: 9.1775\n",
      "Epoch 35/100\n",
      "26/26 [==============================] - 0s 5ms/step - loss: 123.3859 - mae: 8.7883\n",
      "Epoch 36/100\n",
      "26/26 [==============================] - 0s 6ms/step - loss: 116.0090 - mae: 8.4153\n",
      "Epoch 37/100\n",
      "26/26 [==============================] - 0s 5ms/step - loss: 109.5920 - mae: 8.0116\n",
      "Epoch 38/100\n",
      "26/26 [==============================] - 0s 5ms/step - loss: 103.0438 - mae: 7.5863\n",
      "Epoch 39/100\n",
      "26/26 [==============================] - 0s 5ms/step - loss: 96.7897 - mae: 7.2310\n",
      "Epoch 40/100\n",
      "26/26 [==============================] - 0s 5ms/step - loss: 91.0799 - mae: 6.8597\n",
      "Epoch 41/100\n",
      "26/26 [==============================] - 0s 5ms/step - loss: 86.1008 - mae: 6.4989\n",
      "Epoch 42/100\n",
      "26/26 [==============================] - 0s 5ms/step - loss: 81.3030 - mae: 6.1976\n",
      "Epoch 43/100\n",
      "26/26 [==============================] - 0s 5ms/step - loss: 76.6430 - mae: 5.9041\n",
      "Epoch 44/100\n",
      "26/26 [==============================] - 0s 5ms/step - loss: 72.3218 - mae: 5.6644\n",
      "Epoch 45/100\n",
      "26/26 [==============================] - 0s 5ms/step - loss: 68.9934 - mae: 5.4579\n",
      "Epoch 46/100\n",
      "26/26 [==============================] - 0s 6ms/step - loss: 65.8163 - mae: 5.2902\n",
      "Epoch 47/100\n",
      "26/26 [==============================] - 0s 5ms/step - loss: 62.8482 - mae: 5.1558\n",
      "Epoch 48/100\n",
      "26/26 [==============================] - 0s 5ms/step - loss: 59.6579 - mae: 4.9871\n",
      "Epoch 49/100\n",
      "26/26 [==============================] - 0s 5ms/step - loss: 56.7943 - mae: 4.8825\n",
      "Epoch 50/100\n",
      "26/26 [==============================] - 0s 6ms/step - loss: 54.3444 - mae: 4.7977\n",
      "Epoch 51/100\n",
      "26/26 [==============================] - 0s 5ms/step - loss: 51.9136 - mae: 4.7058\n",
      "Epoch 52/100\n",
      "26/26 [==============================] - 0s 6ms/step - loss: 50.0996 - mae: 4.6888\n",
      "Epoch 53/100\n",
      "26/26 [==============================] - 0s 5ms/step - loss: 48.3486 - mae: 4.6084\n",
      "Epoch 54/100\n",
      "26/26 [==============================] - 0s 5ms/step - loss: 46.6254 - mae: 4.5344\n",
      "Epoch 55/100\n",
      "26/26 [==============================] - 0s 5ms/step - loss: 45.2398 - mae: 4.5362\n",
      "Epoch 56/100\n",
      "26/26 [==============================] - 0s 5ms/step - loss: 43.8097 - mae: 4.5012\n",
      "Epoch 57/100\n",
      "26/26 [==============================] - 0s 5ms/step - loss: 42.6220 - mae: 4.4369\n",
      "Epoch 58/100\n",
      "26/26 [==============================] - 0s 5ms/step - loss: 41.3647 - mae: 4.4161\n",
      "Epoch 59/100\n",
      "26/26 [==============================] - 0s 6ms/step - loss: 40.2778 - mae: 4.3657\n",
      "Epoch 60/100\n",
      "26/26 [==============================] - 0s 5ms/step - loss: 39.2089 - mae: 4.2940\n",
      "Epoch 61/100\n",
      "26/26 [==============================] - 0s 5ms/step - loss: 38.2425 - mae: 4.2531\n",
      "Epoch 62/100\n",
      "26/26 [==============================] - 0s 5ms/step - loss: 37.2031 - mae: 4.2040\n",
      "Epoch 63/100\n",
      "26/26 [==============================] - 0s 5ms/step - loss: 36.2229 - mae: 4.1485\n",
      "Epoch 64/100\n",
      "26/26 [==============================] - 0s 5ms/step - loss: 35.2558 - mae: 4.0783\n",
      "Epoch 65/100\n",
      "26/26 [==============================] - 0s 5ms/step - loss: 34.1791 - mae: 4.0209\n",
      "Epoch 66/100\n",
      "26/26 [==============================] - 0s 5ms/step - loss: 33.3871 - mae: 3.9352\n",
      "Epoch 67/100\n",
      "26/26 [==============================] - 0s 5ms/step - loss: 32.4788 - mae: 3.8732\n",
      "Epoch 68/100\n",
      "26/26 [==============================] - 0s 5ms/step - loss: 31.7201 - mae: 3.8147\n",
      "Epoch 69/100\n",
      "26/26 [==============================] - 0s 5ms/step - loss: 30.9349 - mae: 3.7590\n",
      "Epoch 70/100\n",
      "26/26 [==============================] - 0s 5ms/step - loss: 30.3384 - mae: 3.6965\n",
      "Epoch 71/100\n",
      "26/26 [==============================] - 0s 5ms/step - loss: 29.7112 - mae: 3.6239\n",
      "Epoch 72/100\n",
      "26/26 [==============================] - 0s 5ms/step - loss: 29.2237 - mae: 3.6056\n",
      "Epoch 73/100\n",
      "26/26 [==============================] - 0s 5ms/step - loss: 28.7011 - mae: 3.5709\n",
      "Epoch 74/100\n",
      "26/26 [==============================] - 0s 5ms/step - loss: 28.2044 - mae: 3.5143\n",
      "Epoch 75/100\n",
      "26/26 [==============================] - 0s 6ms/step - loss: 27.8893 - mae: 3.4758\n",
      "Epoch 76/100\n",
      "26/26 [==============================] - 0s 5ms/step - loss: 27.5766 - mae: 3.4753\n",
      "Epoch 77/100\n",
      "26/26 [==============================] - 0s 5ms/step - loss: 27.2161 - mae: 3.4459\n",
      "Epoch 78/100\n",
      "26/26 [==============================] - 0s 5ms/step - loss: 26.9903 - mae: 3.4263\n",
      "Epoch 79/100\n",
      "26/26 [==============================] - 0s 7ms/step - loss: 26.5937 - mae: 3.3750\n",
      "Epoch 80/100\n",
      "26/26 [==============================] - 0s 5ms/step - loss: 26.5670 - mae: 3.3811\n",
      "Epoch 81/100\n",
      "26/26 [==============================] - 0s 5ms/step - loss: 26.3393 - mae: 3.3838\n",
      "Epoch 82/100\n",
      "26/26 [==============================] - 0s 5ms/step - loss: 26.1674 - mae: 3.3683\n",
      "Epoch 83/100\n",
      "26/26 [==============================] - 0s 5ms/step - loss: 26.1404 - mae: 3.3584\n",
      "Epoch 84/100\n",
      "26/26 [==============================] - 0s 5ms/step - loss: 25.8889 - mae: 3.3669\n",
      "Epoch 85/100\n",
      "26/26 [==============================] - 0s 5ms/step - loss: 25.6481 - mae: 3.3412\n",
      "Epoch 86/100\n",
      "26/26 [==============================] - 0s 5ms/step - loss: 25.5926 - mae: 3.3267\n",
      "Epoch 87/100\n",
      "26/26 [==============================] - 0s 5ms/step - loss: 25.5990 - mae: 3.3192\n",
      "Epoch 88/100\n",
      "26/26 [==============================] - 0s 5ms/step - loss: 25.5294 - mae: 3.3093\n",
      "Epoch 89/100\n",
      "26/26 [==============================] - 0s 6ms/step - loss: 25.5124 - mae: 3.3154\n",
      "Epoch 90/100\n",
      "26/26 [==============================] - 0s 5ms/step - loss: 25.3192 - mae: 3.3185\n",
      "Epoch 91/100\n",
      "26/26 [==============================] - 0s 5ms/step - loss: 25.2021 - mae: 3.3169\n",
      "Epoch 92/100\n",
      "26/26 [==============================] - 0s 5ms/step - loss: 25.1709 - mae: 3.3042\n",
      "Epoch 93/100\n",
      "26/26 [==============================] - 0s 5ms/step - loss: 25.0202 - mae: 3.2976\n",
      "Epoch 94/100\n",
      "26/26 [==============================] - 0s 5ms/step - loss: 25.1510 - mae: 3.3167\n",
      "Epoch 95/100\n",
      "26/26 [==============================] - 0s 5ms/step - loss: 25.0231 - mae: 3.2989\n",
      "Epoch 96/100\n",
      "26/26 [==============================] - 0s 5ms/step - loss: 24.9842 - mae: 3.2980\n",
      "Epoch 97/100\n",
      "26/26 [==============================] - 0s 5ms/step - loss: 24.8802 - mae: 3.3357\n",
      "Epoch 98/100\n",
      "26/26 [==============================] - 0s 5ms/step - loss: 24.7987 - mae: 3.2793\n",
      "Epoch 99/100\n",
      "26/26 [==============================] - 0s 5ms/step - loss: 24.9181 - mae: 3.2993\n",
      "Epoch 100/100\n",
      "26/26 [==============================] - 0s 5ms/step - loss: 24.8953 - mae: 3.2960\n",
      "4/4 [==============================] - 0s 14ms/step - loss: 18.7436 - mae: 3.1546\n"
     ]
    }
   ],
   "source": [
    "model = get_model()\n",
    "model.fit(train_data, train_targets, epochs=num_epochs, batch_size=16)\n",
    "mse_score, mae_score = model.evaluate(test_data, test_targets)"
   ],
   "metadata": {
    "collapsed": false,
    "ExecuteTime": {
     "end_time": "2024-02-04T04:43:44.914674Z",
     "start_time": "2024-02-04T04:43:29.566013Z"
    }
   },
   "id": "cb5faf7bf5c3310b"
  },
  {
   "cell_type": "code",
   "execution_count": 193,
   "outputs": [
    {
     "data": {
      "text/plain": "(18.74355697631836, 3.1546361446380615)"
     },
     "execution_count": 193,
     "metadata": {},
     "output_type": "execute_result"
    }
   ],
   "source": [
    "mse_score, mae_score"
   ],
   "metadata": {
    "collapsed": false,
    "ExecuteTime": {
     "end_time": "2024-02-04T04:43:44.915635Z",
     "start_time": "2024-02-04T04:43:44.906355Z"
    }
   },
   "id": "f36b0f24b0fb3021"
  },
  {
   "cell_type": "markdown",
   "source": [
    "## Generating predictions on new data\n",
    "With this scalar regression model, predict() returns the model’s guess for the sample’s price in thousands of dollars."
   ],
   "metadata": {
    "collapsed": false
   },
   "id": "ad0410891f3c850f"
  },
  {
   "cell_type": "code",
   "execution_count": 194,
   "outputs": [
    {
     "name": "stdout",
     "output_type": "stream",
     "text": [
      "4/4 [==============================] - 0s 5ms/step\n"
     ]
    },
    {
     "data": {
      "text/plain": "array([[10.08905 ],\n       [19.767208],\n       [21.272879],\n       [31.689709],\n       [24.62602 ],\n       [20.632244],\n       [30.065685],\n       [24.258972],\n       [18.622303],\n       [22.107395]], dtype=float32)"
     },
     "execution_count": 194,
     "metadata": {},
     "output_type": "execute_result"
    }
   ],
   "source": [
    "predictions = model.predict(test_data)\n",
    "predictions[:10]"
   ],
   "metadata": {
    "collapsed": false,
    "ExecuteTime": {
     "end_time": "2024-02-04T04:43:44.995729Z",
     "start_time": "2024-02-04T04:43:44.909972Z"
    }
   },
   "id": "2c5bb5a333f94173"
  },
  {
   "cell_type": "markdown",
   "source": [
    "## Wrap Up\n",
    "- Regression is done using different loss functions than we used for classification. Mean squared error (MSE) is a loss function commonly used for regression.\n",
    "- Similarly, evaluation metrics to be used for regression differ from those used for classification; naturally, the concept of accuracy doesn’t apply for regression. A common regression metric is mean absolute error (MAE).\n",
    "- When features in the input data have values in different ranges, each feature should be scaled independently as a preprocessing step.\n",
    "- When there is little data available, using K-fold validation is a great way to reliably evaluate a model.\n",
    "- When little training data is available, it’s preferable to use a small model with few intermediate layers (typically only one or two), in order to avoid severe overfitting. "
   ],
   "metadata": {
    "collapsed": false
   },
   "id": "7c76b23eb09673d4"
  },
  {
   "cell_type": "code",
   "execution_count": 194,
   "outputs": [],
   "source": [],
   "metadata": {
    "collapsed": false,
    "ExecuteTime": {
     "end_time": "2024-02-04T04:43:44.996056Z",
     "start_time": "2024-02-04T04:43:44.986357Z"
    }
   },
   "id": "e6f45856246f5680"
  }
 ],
 "metadata": {
  "kernelspec": {
   "display_name": "Python 3",
   "language": "python",
   "name": "python3"
  },
  "language_info": {
   "codemirror_mode": {
    "name": "ipython",
    "version": 2
   },
   "file_extension": ".py",
   "mimetype": "text/x-python",
   "name": "python",
   "nbconvert_exporter": "python",
   "pygments_lexer": "ipython2",
   "version": "2.7.6"
  }
 },
 "nbformat": 4,
 "nbformat_minor": 5
}
