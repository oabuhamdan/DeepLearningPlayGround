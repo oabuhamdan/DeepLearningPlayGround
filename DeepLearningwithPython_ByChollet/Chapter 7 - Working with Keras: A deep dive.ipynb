{
 "cells": [
  {
   "cell_type": "markdown",
   "source": [
    "# 7 Working with Keras: A deep dive\n",
    "The design of the Keras API is guided by the principle of progressive disclosure of complexity: make it easy to get started, yet make it possible to handle high-complexity use cases."
   ],
   "metadata": {
    "collapsed": false
   },
   "id": "bd19aca426932b34"
  },
  {
   "cell_type": "markdown",
   "source": [
    "Three ways of using Keras:\n",
    "\n",
    "1. The Sequential model, the most approachable API—it’s basically a Python list. As such, it’s limited to simple stacks of layers.\n",
    "2. The Functional API, which focuses on graph-like model architectures. It represents a nice mid-point between usability and flexibility, and as such, it’s the most commonly used model-building API.\n",
    "3. Model subclassing, a low-level option where you write everything yourself from scratch. This is ideal if you want full control over every little thing. However, you won’t get access to many built-in Keras features, and you will be more at risk of making mistakes.\n"
   ],
   "metadata": {
    "collapsed": false
   },
   "id": "da58ce3d8b0b627a"
  },
  {
   "cell_type": "markdown",
   "source": [
    "## The Sequential Model"
   ],
   "metadata": {
    "collapsed": false
   },
   "id": "711f30d8a51a29c2"
  },
  {
   "cell_type": "code",
   "execution_count": 16,
   "outputs": [],
   "source": [
    "\n",
    "from tensorflow import keras\n",
    "from tensorflow.keras import layers\n",
    "\n",
    "model = keras.Sequential([\n",
    "    layers.Dense(64, activation=\"relu\"),\n",
    "    layers.Dense(10, activation=\"softmax\")\n",
    "])"
   ],
   "metadata": {
    "collapsed": false,
    "ExecuteTime": {
     "end_time": "2024-02-26T03:27:33.642655Z",
     "start_time": "2024-02-26T03:27:33.606759Z"
    }
   },
   "id": "a2a823227a79a8ca"
  },
  {
   "cell_type": "code",
   "execution_count": 17,
   "outputs": [],
   "source": [
    "#or \n",
    "model = keras.Sequential()\n",
    "model.add(layers.Dense(64, activation=\"relu\"))\n",
    "model.add(layers.Dense(10, activation=\"softmax\"))"
   ],
   "metadata": {
    "collapsed": false,
    "ExecuteTime": {
     "end_time": "2024-02-26T03:27:33.674913Z",
     "start_time": "2024-02-26T03:27:33.645830Z"
    }
   },
   "id": "72fcf4d7b1887b75"
  },
  {
   "cell_type": "code",
   "execution_count": 18,
   "outputs": [],
   "source": [
    "# the Sequential model does not have any weights until you actually call it on some data, or call its build() method with an input shape\n",
    "model.build(input_shape=(None, 3))"
   ],
   "metadata": {
    "collapsed": false,
    "ExecuteTime": {
     "end_time": "2024-02-26T03:27:33.932295Z",
     "start_time": "2024-02-26T03:27:33.727814Z"
    }
   },
   "id": "82f9997f913c360f"
  },
  {
   "cell_type": "code",
   "execution_count": 19,
   "outputs": [
    {
     "data": {
      "text/plain": "\u001B[1mModel: \"sequential_1\"\u001B[0m\n",
      "text/html": "<pre style=\"white-space:pre;overflow-x:auto;line-height:normal;font-family:Menlo,'DejaVu Sans Mono',consolas,'Courier New',monospace\"><span style=\"font-weight: bold\">Model: \"sequential_1\"</span>\n</pre>\n"
     },
     "metadata": {},
     "output_type": "display_data"
    },
    {
     "data": {
      "text/plain": "┏━━━━━━━━━━━━━━━━━━━━━━━━━━━━━━━━━┳━━━━━━━━━━━━━━━━━━━━━━━━┳━━━━━━━━━━━━━━━┓\n┃\u001B[1m \u001B[0m\u001B[1mLayer (type)                   \u001B[0m\u001B[1m \u001B[0m┃\u001B[1m \u001B[0m\u001B[1mOutput Shape          \u001B[0m\u001B[1m \u001B[0m┃\u001B[1m \u001B[0m\u001B[1m      Param #\u001B[0m\u001B[1m \u001B[0m┃\n┡━━━━━━━━━━━━━━━━━━━━━━━━━━━━━━━━━╇━━━━━━━━━━━━━━━━━━━━━━━━╇━━━━━━━━━━━━━━━┩\n│ dense_8 (\u001B[38;5;33mDense\u001B[0m)                 │ (\u001B[38;5;45mNone\u001B[0m, \u001B[38;5;34m64\u001B[0m)             │           \u001B[38;5;34m256\u001B[0m │\n├─────────────────────────────────┼────────────────────────┼───────────────┤\n│ dense_9 (\u001B[38;5;33mDense\u001B[0m)                 │ (\u001B[38;5;45mNone\u001B[0m, \u001B[38;5;34m10\u001B[0m)             │           \u001B[38;5;34m650\u001B[0m │\n└─────────────────────────────────┴────────────────────────┴───────────────┘\n",
      "text/html": "<pre style=\"white-space:pre;overflow-x:auto;line-height:normal;font-family:Menlo,'DejaVu Sans Mono',consolas,'Courier New',monospace\">┏━━━━━━━━━━━━━━━━━━━━━━━━━━━━━━━━━┳━━━━━━━━━━━━━━━━━━━━━━━━┳━━━━━━━━━━━━━━━┓\n┃<span style=\"font-weight: bold\"> Layer (type)                    </span>┃<span style=\"font-weight: bold\"> Output Shape           </span>┃<span style=\"font-weight: bold\">       Param # </span>┃\n┡━━━━━━━━━━━━━━━━━━━━━━━━━━━━━━━━━╇━━━━━━━━━━━━━━━━━━━━━━━━╇━━━━━━━━━━━━━━━┩\n│ dense_8 (<span style=\"color: #0087ff; text-decoration-color: #0087ff\">Dense</span>)                 │ (<span style=\"color: #00d7ff; text-decoration-color: #00d7ff\">None</span>, <span style=\"color: #00af00; text-decoration-color: #00af00\">64</span>)             │           <span style=\"color: #00af00; text-decoration-color: #00af00\">256</span> │\n├─────────────────────────────────┼────────────────────────┼───────────────┤\n│ dense_9 (<span style=\"color: #0087ff; text-decoration-color: #0087ff\">Dense</span>)                 │ (<span style=\"color: #00d7ff; text-decoration-color: #00d7ff\">None</span>, <span style=\"color: #00af00; text-decoration-color: #00af00\">10</span>)             │           <span style=\"color: #00af00; text-decoration-color: #00af00\">650</span> │\n└─────────────────────────────────┴────────────────────────┴───────────────┘\n</pre>\n"
     },
     "metadata": {},
     "output_type": "display_data"
    },
    {
     "data": {
      "text/plain": "\u001B[1m Total params: \u001B[0m\u001B[38;5;34m906\u001B[0m (3.54 KB)\n",
      "text/html": "<pre style=\"white-space:pre;overflow-x:auto;line-height:normal;font-family:Menlo,'DejaVu Sans Mono',consolas,'Courier New',monospace\"><span style=\"font-weight: bold\"> Total params: </span><span style=\"color: #00af00; text-decoration-color: #00af00\">906</span> (3.54 KB)\n</pre>\n"
     },
     "metadata": {},
     "output_type": "display_data"
    },
    {
     "data": {
      "text/plain": "\u001B[1m Trainable params: \u001B[0m\u001B[38;5;34m906\u001B[0m (3.54 KB)\n",
      "text/html": "<pre style=\"white-space:pre;overflow-x:auto;line-height:normal;font-family:Menlo,'DejaVu Sans Mono',consolas,'Courier New',monospace\"><span style=\"font-weight: bold\"> Trainable params: </span><span style=\"color: #00af00; text-decoration-color: #00af00\">906</span> (3.54 KB)\n</pre>\n"
     },
     "metadata": {},
     "output_type": "display_data"
    },
    {
     "data": {
      "text/plain": "\u001B[1m Non-trainable params: \u001B[0m\u001B[38;5;34m0\u001B[0m (0.00 B)\n",
      "text/html": "<pre style=\"white-space:pre;overflow-x:auto;line-height:normal;font-family:Menlo,'DejaVu Sans Mono',consolas,'Courier New',monospace\"><span style=\"font-weight: bold\"> Non-trainable params: </span><span style=\"color: #00af00; text-decoration-color: #00af00\">0</span> (0.00 B)\n</pre>\n"
     },
     "metadata": {},
     "output_type": "display_data"
    }
   ],
   "source": [
    "# you can’t print a summary until the model is built\n",
    "model.summary()"
   ],
   "metadata": {
    "collapsed": false,
    "ExecuteTime": {
     "end_time": "2024-02-26T03:27:33.961640Z",
     "start_time": "2024-02-26T03:27:33.954168Z"
    }
   },
   "id": "5ef09b00481523a9"
  },
  {
   "cell_type": "markdown",
   "source": [
    "## The Functional API\n",
    "This is what most Keras models you’ll encounter in the wild use. It’s fun and powerful—it feels like playing with LEGO bricks"
   ],
   "metadata": {
    "collapsed": false
   },
   "id": "4a5bba8ba47d5bcd"
  },
  {
   "cell_type": "code",
   "execution_count": 20,
   "outputs": [],
   "source": [
    "# This inputs object holds information about the shape and dtype of the data that the model will process.\n",
    "# We call such an object a symbolic tensor, it stands for future tensors of data.\n",
    "inputs = keras.Input(shape=(3,), name=\"my_input\")\n",
    "# All Keras layers can be called both on real tensors of data and on these symbolic tensors.\n",
    "# In the latter case, they return a new symbolic tensor, with updated shape and dtype information.\n",
    "features = layers.Dense(64, activation=\"relu\")(inputs)\n",
    "outputs = layers.Dense(10, activation=\"softmax\")(features)\n",
    "# After obtaining the final outputs, we instantiated the model by specifying its inputs and outputs in the Model constructor.\n",
    "model = keras.Model(inputs=inputs, outputs=outputs)"
   ],
   "metadata": {
    "collapsed": false,
    "ExecuteTime": {
     "end_time": "2024-02-26T03:27:33.973215Z",
     "start_time": "2024-02-26T03:27:33.962459Z"
    }
   },
   "id": "5ec026a7460e37b3"
  },
  {
   "cell_type": "markdown",
   "source": [
    "### Multi-input, multi-output models\n",
    "Example:\n",
    "Let’s say you’re building a system to rank customer support tickets by priority and route them to the appropriate department. Your model has three inputs:\n",
    "\n",
    "- The title of the ticket (text input)\n",
    "- The text body of the ticket (text input)\n",
    "- Any tags added by the user (categorical input, assumed here to be one-hot encoded)\n",
    "\n",
    "We can encode the text inputs as arrays of ones and zeros of size vocabulary_size (see chapter 11 for detailed information about text encoding techniques).\n",
    "\n",
    "Your model also has two outputs:\n",
    "- The priority score of the ticket, a scalar between 0 and 1 (sigmoid output)\n",
    "- The department that should handle the ticket (a softmax over the set of departments)\n"
   ],
   "metadata": {
    "collapsed": false
   },
   "id": "68a3f654c0d9bbcc"
  },
  {
   "cell_type": "code",
   "execution_count": 21,
   "outputs": [],
   "source": [
    "# Defining the Model\n",
    "\n",
    "vocabulary_size = 10000\n",
    "num_tags = 100\n",
    "num_departments = 4\n",
    "\n",
    "title = keras.Input(shape=(vocabulary_size,), name=\"title\")\n",
    "text_body = keras.Input(shape=(vocabulary_size,), name=\"text_body\")\n",
    "tags = keras.Input(shape=(num_tags,), name=\"tags\")\n",
    "\n",
    "features = layers.Concatenate()([title, text_body, tags])\n",
    "features = layers.Dense(64, activation=\"relu\")(features)\n",
    "\n",
    "priority = layers.Dense(1, activation=\"sigmoid\", name=\"priority\")(features)\n",
    "department = layers.Dense(num_departments, activation=\"softmax\", name=\"department\")(features)\n",
    "\n",
    "model = keras.Model(inputs=[title, text_body, tags], outputs=[priority, department])"
   ],
   "metadata": {
    "collapsed": false,
    "ExecuteTime": {
     "end_time": "2024-02-26T03:27:34.177378Z",
     "start_time": "2024-02-26T03:27:33.981592Z"
    }
   },
   "id": "c3f3f0e98cdc8ba"
  },
  {
   "cell_type": "code",
   "execution_count": 22,
   "outputs": [
    {
     "name": "stderr",
     "output_type": "stream",
     "text": [
      "/Users/osamaabuhamdan/PycharmProjects/DNNResearchProject/venv/lib/python3.11/site-packages/keras/src/losses/losses.py:22: SyntaxWarning: In loss categorical_crossentropy, expected y_pred.shape to be (batch_size, num_classes) with num_classes > 1. Received: y_pred.shape=(32, 1). Consider using 'binary_crossentropy' if you only have 2 classes.\n",
      "  return self.fn(y_true, y_pred, **self._fn_kwargs)\n",
      "2024-02-25 21:27:35.764946: I tensorflow/core/grappler/optimizers/custom_graph_optimizer_registry.cc:117] Plugin optimizer for device_type GPU is enabled.\n"
     ]
    },
    {
     "name": "stdout",
     "output_type": "stream",
     "text": [
      "\u001B[1m40/40\u001B[0m \u001B[32m━━━━━━━━━━━━━━━━━━━━\u001B[0m\u001B[37m\u001B[0m \u001B[1m2s\u001B[0m 19ms/step - department_mean_absolute_error: 0.4971 - loss: 0.4807 - priority_accuracy: 0.0000e+00\n",
      "\u001B[1m40/40\u001B[0m \u001B[32m━━━━━━━━━━━━━━━━━━━━\u001B[0m\u001B[37m\u001B[0m \u001B[1m0s\u001B[0m 9ms/step - department_mean_absolute_error: 0.5075 - loss: 0.5075 - priority_accuracy: 0.0000e+00\n"
     ]
    },
    {
     "data": {
      "text/plain": "{'department_mean_absolute_error': 0.5044921636581421,\n 'loss': 0.5044921636581421,\n 'priority_accuracy': 0.0}"
     },
     "execution_count": 22,
     "metadata": {},
     "output_type": "execute_result"
    }
   ],
   "source": [
    "# Training the Model\n",
    "import numpy as np\n",
    "\n",
    "num_samples = 1280\n",
    "titles = np.random.randint(low=0, high=2, size=(num_samples, vocabulary_size))\n",
    "text_body = np.random.randint(low=0, high=2, size=(num_samples, vocabulary_size))\n",
    "tags = np.random.randint(low=0, high=2, size=(num_samples, num_tags))\n",
    "\n",
    "priority = np.random.random(size=(num_samples, 1))\n",
    "department = np.random.randint(low=0, high=2, size=(num_samples, num_departments))\n",
    "\n",
    "# We have two outputs, thus we pass two loss functions and two metrics\n",
    "model.compile(optimizer=\"adam\", loss=[\"categorical_crossentropy\", \"mean_squared_error\"],\n",
    "              metrics=[\"accuracy\", \"mean_absolute_error\"])\n",
    "model.fit([titles, text_body, tags], [priority, department], epochs=1)\n",
    "model.evaluate([titles, text_body, tags], [priority, department], return_dict=True)\n"
   ],
   "metadata": {
    "collapsed": false,
    "ExecuteTime": {
     "end_time": "2024-02-26T03:27:38.026650Z",
     "start_time": "2024-02-26T03:27:34.201110Z"
    }
   },
   "id": "c3d066793a4ceb"
  },
  {
   "cell_type": "markdown",
   "source": [
    "### The power of the Functional API: Access to layer connectivity\n",
    "- A Functional model is an explicit graph data structure.\n",
    "- This makes it possible to inspect how layers are connected and reuse previous graph nodes (which are layer outputs) as part of new models.\n",
    "- The model.layers model property provides the list of layers that make up the model, and for each layer you can query layer.input and layer.output.\n",
    "- This enables you to do feature extraction, creating models that reuse intermediate features from another model."
   ],
   "metadata": {
    "collapsed": false
   },
   "id": "42fdaa02421fd636"
  },
  {
   "cell_type": "code",
   "execution_count": 23,
   "outputs": [
    {
     "data": {
      "image/png": "[encoded data removed]",
      "text/plain": "<IPython.core.display.Image object>"
     },
     "execution_count": 23,
     "metadata": {},
     "output_type": "execute_result"
    }
   ],
   "source": [
    "keras.utils.plot_model(model, show_shapes=True)\n",
    "# The “None” in the tensor shapes represents the batch size: this model allows batches of any size."
   ],
   "metadata": {
    "collapsed": false,
    "ExecuteTime": {
     "end_time": "2024-02-26T03:27:39.460446Z",
     "start_time": "2024-02-26T03:27:38.030745Z"
    }
   },
   "id": "82500fe0e077d992"
  },
  {
   "cell_type": "code",
   "execution_count": 24,
   "outputs": [
    {
     "name": "stdout",
     "output_type": "stream",
     "text": [
      "[<KerasTensor shape=(None, 10000), dtype=float32, sparse=None, name=title>, <KerasTensor shape=(None, 10000), dtype=float32, sparse=None, name=text_body>, <KerasTensor shape=(None, 100), dtype=float32, sparse=None, name=tags>]\n",
      "<KerasTensor shape=(None, 20100), dtype=float32, sparse=False, name=keras_tensor_16>\n"
     ]
    }
   ],
   "source": [
    "# The model.layers model property provides the list of layers that make up the model, and for each layer you can query layer.input and layer.output.\n",
    "print(model.layers[3].input)\n",
    "print(model.layers[3].output)"
   ],
   "metadata": {
    "collapsed": false,
    "ExecuteTime": {
     "end_time": "2024-02-26T03:27:39.461598Z",
     "start_time": "2024-02-26T03:27:39.460369Z"
    }
   },
   "id": "3bc46338f383c84e"
  },
  {
   "cell_type": "markdown",
   "source": [
    "## Subclassing the Model class\n",
    "- In the \\_\\_init\\_\\_() method, define the layers the model will use.\n",
    "- In the call() method, define the forward pass of the model, reusing the layers previously created.\n",
    "- Instantiate your subclass, and call it on data to create its weights\n",
    "- The structure of what you pass as the loss and metrics arguments must match exactly what gets returned by call().\n",
    "- The structure of the input data must match exactly what is expected by the call() method.\n",
    "- The structure of the target data must match exactly what is returned by the call() method."
   ],
   "metadata": {
    "collapsed": false
   },
   "id": "93e08563e2e28ce"
  },
  {
   "cell_type": "code",
   "execution_count": 25,
   "outputs": [],
   "source": [
    "class CustomerTicketModel(keras.Model):\n",
    "\n",
    "    def __init__(self, num_departments):\n",
    "        super().__init__()\n",
    "        self.concat_layer = layers.Concatenate()\n",
    "        self.mixing_layer = layers.Dense(64, activation=\"relu\")\n",
    "        self.priority_scorer = layers.Dense(1, activation=\"sigmoid\")\n",
    "        self.department_classifier = layers.Dense(num_departments, activation=\"softmax\")\n",
    "\n",
    "    def call(self, inputs):\n",
    "        title = inputs[0]\n",
    "        text_body = inputs[1]\n",
    "        tags = inputs[2]\n",
    "\n",
    "        features = self.concat_layer([title, text_body, tags])\n",
    "        features = self.mixing_layer(features)\n",
    "        # return the outputs\n",
    "        priority = self.priority_scorer(features)\n",
    "        department = self.department_classifier(features)\n",
    "        return priority, department"
   ],
   "metadata": {
    "collapsed": false,
    "ExecuteTime": {
     "end_time": "2024-02-26T03:27:39.463481Z",
     "start_time": "2024-02-26T03:27:39.463340Z"
    }
   },
   "id": "2bbb39c0ef57a898"
  },
  {
   "cell_type": "code",
   "execution_count": 26,
   "outputs": [
    {
     "name": "stdout",
     "output_type": "stream",
     "text": [
      "\u001B[1m40/40\u001B[0m \u001B[32m━━━━━━━━━━━━━━━━━━━━\u001B[0m\u001B[37m\u001B[0m \u001B[1m3s\u001B[0m 28ms/step - accuracy: 0.0000e+00 - loss: 0.4657 - mean_absolute_error: 0.4919\n",
      "\u001B[1m40/40\u001B[0m \u001B[32m━━━━━━━━━━━━━━━━━━━━\u001B[0m\u001B[37m\u001B[0m \u001B[1m1s\u001B[0m 10ms/step - accuracy: 0.0000e+00 - loss: 0.4951 - mean_absolute_error: 0.4951\n"
     ]
    },
    {
     "data": {
      "text/plain": "{'accuracy': 0.0,\n 'loss': 0.4966796934604645,\n 'mean_absolute_error': 0.4966796934604645}"
     },
     "execution_count": 26,
     "metadata": {},
     "output_type": "execute_result"
    }
   ],
   "source": [
    "model = CustomerTicketModel(num_departments=4)\n",
    "\n",
    "model.compile(optimizer=\"adam\", loss=[\"categorical_crossentropy\", \"mean_squared_error\"],\n",
    "              metrics=[\"accuracy\", \"mean_absolute_error\"])\n",
    "model.fit([titles, text_body, tags], [priority, department], epochs=1)\n",
    "model.evaluate([titles, text_body, tags], [priority, department], return_dict=True)"
   ],
   "metadata": {
    "collapsed": false,
    "ExecuteTime": {
     "end_time": "2024-02-26T03:27:43.410553Z",
     "start_time": "2024-02-26T03:27:39.468081Z"
    }
   },
   "id": "130c4226a0d66c03"
  },
  {
   "cell_type": "markdown",
   "source": [
    "### Beware: What subclassed models don’t support\n",
    "- Calling summary() will not display layer connectivity\n",
    "- You cannot plot the model topology via plot_model().\n",
    "- You cannot access the nodes of the graph of layers to do feature extraction."
   ],
   "metadata": {
    "collapsed": false
   },
   "id": "2ee2e2684f95eb95"
  },
  {
   "cell_type": "markdown",
   "source": [
    "### Mixing and matching different components\n",
    "All models in the Keras API can smoothly interoperate with each other, whether they’re Sequential models, Functional models, or subclassed models written from scratch. They’re all part of the same spectrum of workflows."
   ],
   "metadata": {
    "collapsed": false
   },
   "id": "5c368ef928cb903c"
  },
  {
   "cell_type": "code",
   "execution_count": 27,
   "outputs": [],
   "source": [
    "class Classifier(keras.Model):\n",
    "    def __init__(self, num_classes=2):\n",
    "        super().__init__()\n",
    "        if num_classes == 2:\n",
    "            num_units = 1\n",
    "            activation = \"sigmoid\"\n",
    "        else:\n",
    "            num_units = num_classes\n",
    "            activation = \"softmax\"\n",
    "        self.dense = layers.Dense(num_units, activation=activation)\n",
    "\n",
    "    def call(self, inputs):\n",
    "        return self.dense(inputs)\n",
    "\n",
    "\n",
    "inputs = keras.Input(shape=(3,))\n",
    "features = layers.Dense(64, activation=\"relu\")(inputs)\n",
    "outputs = Classifier(num_classes=10)(features)\n",
    "model = keras.Model(inputs=inputs, outputs=outputs)"
   ],
   "metadata": {
    "collapsed": false,
    "ExecuteTime": {
     "end_time": "2024-02-26T03:27:43.451537Z",
     "start_time": "2024-02-26T03:27:43.415024Z"
    }
   },
   "id": "352f911020078ff9"
  },
  {
   "cell_type": "markdown",
   "source": [
    "## Using built-in training and evaluation loops \n",
    "\n",
    "**The standard workflow of a DNN**\n",
    "- compile(): Choose the Loss, Accuracy, and the Metrics\n",
    "- fit(): Train model on data, validate on validation set\n",
    "- evaluate(): Evaluate model on test set\n",
    "- predict(): Predict new instances"
   ],
   "metadata": {
    "collapsed": false
   },
   "id": "6c29ee84c3b02056"
  },
  {
   "cell_type": "markdown",
   "source": [
    "A Keras metric is a subclass of the \"keras.metrics.Metric\" class.\n",
    "Like layers, a metric has an internal state stored in TensorFlow variables.\n",
    "Thus, you have to define:\n",
    "1. init\n",
    "2. update_state: update the current loss (based on the loss algorithm)\n",
    "3. result: to return the current value of the metric\n",
    "4. reset_state: enables the same metric objects to be used across different epochs of training"
   ],
   "metadata": {
    "collapsed": false
   },
   "id": "f56002a8a836b6a1"
  },
  {
   "cell_type": "markdown",
   "source": [
    "### Using callbacks\n",
    "A callback is an object (a class instance implementing specific methods) that is passed to the model in the call to fit() and that is called by the model at various points during training.\n",
    "\n",
    "It has access to all the available data about the state of the model and its performance, and it can take actions:\n",
    "- interrupt training\n",
    "- save a model\n",
    "- load a different weight set\n",
    "- alter the state of the model\n",
    "\n",
    "Examples of using callbacks:\n",
    "- **Model checkpointing** Saving the current state of the model at different points during training.\n",
    "- **Early stopping—Interrupting training** when the validation loss is no longer improving (and of course, saving the best model obtained during training).\n",
    "- **Dynamically adjusting the value of certain parameters during training** Such as the learning rate of the optimizer.\n",
    "- **Logging training and validation metrics during training**, or visualizing the representations learned by the model as they’re updated"
   ],
   "metadata": {
    "collapsed": false
   },
   "id": "2adbe0704020ff25"
  },
  {
   "cell_type": "markdown",
   "source": [
    "### EarlyStopping Callback\n",
    "**With EarlyStopping callback you can stop training when you measure that the validation loss is no longer improving**\n",
    "\n",
    "This callback allows you to interrupt training as soon as you start overfitting, thus avoiding having to retrain your model for a smaller number of epochs.\n",
    "\n",
    "This callback is typically used in combination with **ModelCheckpoint**\n",
    "<br/>\n",
    "### ModelCheckpoint Callback\n",
    "\n",
    "This callback lets you continually save the model during training.\n",
    "\n",
    "Also, you can save only the current best model so far: the version of the model that achieved the best performance at the end of an epoch"
   ],
   "metadata": {
    "collapsed": false
   },
   "id": "2fb56d324a3c0756"
  },
  {
   "cell_type": "code",
   "execution_count": 28,
   "outputs": [],
   "source": [
    "from tensorflow import keras\n",
    "from tensorflow.keras.datasets import mnist\n",
    "\n",
    "\n",
    "def get_mnist_model():\n",
    "    inputs = keras.layers.Input(shape=(28 * 28,))\n",
    "    features = keras.layers.Dense(64, activation=\"relu\")(inputs)\n",
    "    features = keras.layers.Dense(64, activation=\"relu\")(features)\n",
    "    features = keras.layers.Dropout(0.5)(features)\n",
    "    outputs = keras.layers.Dense(10, activation=\"softmax\")(features)\n",
    "    model = keras.Model(inputs=inputs, outputs=outputs)\n",
    "    return model\n",
    "\n"
   ],
   "metadata": {
    "collapsed": false,
    "ExecuteTime": {
     "end_time": "2024-02-26T03:27:43.452383Z",
     "start_time": "2024-02-26T03:27:43.437137Z"
    }
   },
   "id": "2eca6679333f2ad6"
  },
  {
   "cell_type": "code",
   "execution_count": 29,
   "outputs": [
    {
     "name": "stdout",
     "output_type": "stream",
     "text": [
      "Epoch 1/10\n",
      "\u001B[1m1563/1563\u001B[0m \u001B[32m━━━━━━━━━━━━━━━━━━━━\u001B[0m\u001B[37m\u001B[0m \u001B[1m12s\u001B[0m 7ms/step - accuracy: 0.7712 - loss: 0.7366 - val_accuracy: 0.9456 - val_loss: 0.1911\n",
      "Epoch 2/10\n",
      "\u001B[1m1563/1563\u001B[0m \u001B[32m━━━━━━━━━━━━━━━━━━━━\u001B[0m\u001B[37m\u001B[0m \u001B[1m12s\u001B[0m 7ms/step - accuracy: 0.9341 - loss: 0.2336 - val_accuracy: 0.9594 - val_loss: 0.1476\n",
      "Epoch 3/10\n",
      "\u001B[1m1563/1563\u001B[0m \u001B[32m━━━━━━━━━━━━━━━━━━━━\u001B[0m\u001B[37m\u001B[0m \u001B[1m11s\u001B[0m 7ms/step - accuracy: 0.9520 - loss: 0.1773 - val_accuracy: 0.9637 - val_loss: 0.1325\n",
      "Epoch 4/10\n",
      "\u001B[1m1563/1563\u001B[0m \u001B[32m━━━━━━━━━━━━━━━━━━━━\u001B[0m\u001B[37m\u001B[0m \u001B[1m12s\u001B[0m 7ms/step - accuracy: 0.9588 - loss: 0.1616 - val_accuracy: 0.9644 - val_loss: 0.1490\n",
      "Epoch 5/10\n",
      "\u001B[1m1563/1563\u001B[0m \u001B[32m━━━━━━━━━━━━━━━━━━━━\u001B[0m\u001B[37m\u001B[0m \u001B[1m11s\u001B[0m 7ms/step - accuracy: 0.9621 - loss: 0.1498 - val_accuracy: 0.9657 - val_loss: 0.1433\n",
      "Epoch 6/10\n",
      "\u001B[1m1563/1563\u001B[0m \u001B[32m━━━━━━━━━━━━━━━━━━━━\u001B[0m\u001B[37m\u001B[0m \u001B[1m12s\u001B[0m 8ms/step - accuracy: 0.9613 - loss: 0.1489 - val_accuracy: 0.9679 - val_loss: 0.1431\n",
      "Epoch 7/10\n",
      "\u001B[1m1563/1563\u001B[0m \u001B[32m━━━━━━━━━━━━━━━━━━━━\u001B[0m\u001B[37m\u001B[0m \u001B[1m11s\u001B[0m 7ms/step - accuracy: 0.9645 - loss: 0.1443 - val_accuracy: 0.9690 - val_loss: 0.1582\n",
      "Epoch 8/10\n",
      "\u001B[1m1563/1563\u001B[0m \u001B[32m━━━━━━━━━━━━━━━━━━━━\u001B[0m\u001B[37m\u001B[0m \u001B[1m11s\u001B[0m 7ms/step - accuracy: 0.9660 - loss: 0.1470 - val_accuracy: 0.9674 - val_loss: 0.1594\n",
      "Epoch 9/10\n",
      "\u001B[1m1563/1563\u001B[0m \u001B[32m━━━━━━━━━━━━━━━━━━━━\u001B[0m\u001B[37m\u001B[0m \u001B[1m12s\u001B[0m 8ms/step - accuracy: 0.9669 - loss: 0.1437 - val_accuracy: 0.9668 - val_loss: 0.1732\n"
     ]
    },
    {
     "data": {
      "text/plain": "<keras.src.callbacks.history.History at 0x2946d9990>"
     },
     "execution_count": 29,
     "metadata": {},
     "output_type": "execute_result"
    }
   ],
   "source": [
    "callbacks_list = [\n",
    "    keras.callbacks.EarlyStopping(\n",
    "        monitor=\"val_accuracy\",  # Monitors the model’s validation accuracy\n",
    "        patience=2,  # Interrupts training when accuracy has stopped improving for two epochs\n",
    "    ),\n",
    "    keras.callbacks.ModelCheckpoint(  # Saves the current weights after every epoch\n",
    "        filepath=\"checkpoint_path.keras\",\n",
    "        monitor=\"val_loss\",\n",
    "        save_best_only=True,\n",
    "    )\n",
    "]\n",
    "model = get_mnist_model()\n",
    "(images, labels), (test_images, test_labels) = mnist.load_data()\n",
    "images = images.reshape((60000, 28 * 28)).astype(\"float32\") / 255\n",
    "test_images = test_images.reshape((10000, 28 * 28)).astype(\"float32\") / 255\n",
    "train_images, val_images = images[10000:], images[:10000]\n",
    "train_labels, val_labels = labels[10000:], labels[:10000]\n",
    "model.compile(optimizer=\"rmsprop\",\n",
    "              loss=\"sparse_categorical_crossentropy\",\n",
    "              metrics=[\"accuracy\"])\n",
    "model.fit(train_images, train_labels,\n",
    "          epochs=10,\n",
    "          callbacks=callbacks_list,\n",
    "          validation_data=(val_images, val_labels))\n",
    "# Note that it stopped before 10 epochs since it stopped improving and started overfitting"
   ],
   "metadata": {
    "collapsed": false,
    "ExecuteTime": {
     "end_time": "2024-02-26T03:29:27.856714Z",
     "start_time": "2024-02-26T03:27:43.444586Z"
    }
   },
   "id": "3195447c52d93a49"
  },
  {
   "cell_type": "markdown",
   "source": [
    "Note:\n",
    "You can always save models manually after training as well, just call\n",
    "```model.save('my_checkpoint_path').```\n",
    "To reload the model you’ve saved, just use\n",
    "```keras.models.load_model(\"checkpoint_path.keras\")```"
   ],
   "metadata": {
    "collapsed": false
   },
   "id": "d695db13c24390f8"
  },
  {
   "cell_type": "markdown",
   "source": [
    "### Writing Custom Callbacks\n",
    "Callbacks are implemented by subclassing the keras.callbacks.Callback class.\n",
    "These are the methods to override:\n",
    "- on_epoch_begin(epoch, logs) \n",
    "- on_epoch_end(epoch, logs)\n",
    "- on_batch_begin(batch, logs)\n",
    "- on_batch_end(batch, logs)\n",
    "- on_train_begin(logs)\n",
    "- on_train_end(logs)\n",
    "\n",
    "These methods are all called with a logs argument, which is a dictionary containing information about the previous batch, epoch, or training run—training and validation metrics, and so on. The on_epoch_* and on_batch_* methods also take the epoch or batch index as their first argument (an integer)."
   ],
   "metadata": {
    "collapsed": false
   },
   "id": "a805c124120c5f78"
  },
  {
   "cell_type": "markdown",
   "source": [
    "### Monitoring and visualization with TensorBoard\n",
    "To do good research or develop good models, you need rich, frequent feedback about what’s going on inside your models during your experiments.\n",
    "With TensorBoard, you can\n",
    "\n",
    "- Visually monitor metrics during training\n",
    "- Visualize your model architecture\n",
    "- Visualize histograms of activations and gradients\n",
    "- Explore embeddings in 3D\n",
    "\n",
    "**The easiest way to use TensorBoard with a Keras model and the fit() method is to use the keras.callbacks.TensorBoard callback**"
   ],
   "metadata": {
    "collapsed": false
   },
   "id": "c33c824ea728d57a"
  },
  {
   "cell_type": "code",
   "execution_count": 30,
   "outputs": [
    {
     "name": "stdout",
     "output_type": "stream",
     "text": [
      "Epoch 1/2\n",
      "\u001B[1m1563/1563\u001B[0m \u001B[32m━━━━━━━━━━━━━━━━━━━━\u001B[0m\u001B[37m\u001B[0m \u001B[1m16s\u001B[0m 9ms/step - accuracy: 0.7606 - loss: 0.7587 - val_accuracy: 0.9400 - val_loss: 0.2047\n",
      "Epoch 2/2\n",
      "\u001B[1m1563/1563\u001B[0m \u001B[32m━━━━━━━━━━━━━━━━━━━━\u001B[0m\u001B[37m\u001B[0m \u001B[1m14s\u001B[0m 9ms/step - accuracy: 0.9297 - loss: 0.2512 - val_accuracy: 0.9526 - val_loss: 0.1658\n"
     ]
    },
    {
     "data": {
      "text/plain": "Launching TensorBoard..."
     },
     "metadata": {},
     "output_type": "display_data"
    }
   ],
   "source": [
    "model = get_mnist_model()\n",
    "model.compile(optimizer=\"rmsprop\",\n",
    "              loss=\"sparse_categorical_crossentropy\",\n",
    "              metrics=[\"accuracy\"])\n",
    "\n",
    "tensorboard = keras.callbacks.TensorBoard(\n",
    "    log_dir=\"./\",\n",
    ")\n",
    "model.fit(train_images, train_labels,\n",
    "          epochs=2,\n",
    "          validation_data=(val_images, val_labels),\n",
    "          callbacks=[tensorboard])\n",
    "\n",
    "%load_ext tensorboard\n",
    "%tensorboard --logdir ./"
   ],
   "metadata": {
    "collapsed": false,
    "ExecuteTime": {
     "end_time": "2024-02-26T03:30:21.226083Z",
     "start_time": "2024-02-26T03:29:27.856925Z"
    }
   },
   "id": "f3195172e7dcfedb"
  },
  {
   "cell_type": "markdown",
   "source": [
    "## Writing your own training and evaluation loops\n",
    "\n",
    "- Not every form of machine learning falls in the category of supervised learning, which fit() takes care of. \n",
    "- There are other setups where no explicit targets are present, such as\n",
    "    - Generative learning\n",
    "    - Self-supervised learning (where targets are obtained from the inputs)\n",
    "    - Reinforcement learning (where learning is driven by occasional “rewards,” much like training a dog)\n",
    "\n",
    " **As a reminder, the contents of a typical training loop look like this:**\n",
    "- Run the forward pass (compute the model’s output) inside a gradient tape to obtain a loss value for the current batch of data.\n",
    "- Retrieve the gradients of the loss with regard to the model’s weights.\n",
    "- Update the model’s weights so as to lower the loss value on the current batch of data.\n",
    "\n",
    "\n",
    "**In this section, you will learn to reimplement fit() from scratch**\n",
    "\n"
   ],
   "metadata": {
    "collapsed": false
   },
   "id": "459714c4b6bdbee6"
  },
  {
   "cell_type": "markdown",
   "source": [
    "### Training versus inference\n",
    "Low Level Training Loop consists of:\n",
    "1. Forward Pass\n",
    "2. Loss\n",
    "3. Get Gradients\n",
    "4. Update Gradients\n",
    "\n",
    "#### Forward Pass\n",
    "- Some Keras layers, such as the Dropout layer, have different behaviors during training and during inference (when you use them to generate predictions).\n",
    "    - Calling dropout(inputs, training=True) will drop some activation entries, while calling dropout(inputs, training=False) does nothing.\n",
    "-  Remember to pass training =True when you call a Keras model during the forward pass!\n",
    "    - predictions = model(inputs, training=True)\n",
    "\n",
    "#### Gradients\n",
    "Layers and models own two kinds of weights:\n",
    "- **Trainable weights**: These are meant to be updated via backpropagation to minimize the loss of the model.\n",
    "- **Non-trainable weights**: These are meant to be updated during the forward pass by the layers that own them. For instance, if you wanted a custom layer to keep a counter of how many batches it has processed so far.\n",
    "\n",
    "Thus, use \n",
    "```tape.gradients(loss, model.trainable_weights)```\n",
    "instead of \n",
    "```tape.gradients(loss, model.weights)``` \n",
    "\n",
    "Among Keras built-in layers, the only layer that features non-trainable weights is the BatchNormalization layer, which we will discuss in chapter 9. The BatchNormalization layer needs non-trainable weights in order to track information about the mean and standard deviation of the data that passes through it, so as to perform an online approximation of feature normalization.\n"
   ],
   "metadata": {
    "collapsed": false
   },
   "id": "216b487c909005a"
  },
  {
   "cell_type": "markdown",
   "source": [
    "## This is one training step from scratch"
   ],
   "metadata": {
    "collapsed": false
   },
   "id": "d041c9987288d654"
  },
  {
   "cell_type": "code",
   "execution_count": 34,
   "outputs": [],
   "source": [
    "model = get_mnist_model()\n",
    "\n",
    "loss_fn = keras.losses.SparseCategoricalCrossentropy()\n",
    "optimizer = keras.optimizers.RMSprop()\n",
    "metrics = [keras.metrics.SparseCategoricalAccuracy(), keras.metrics.Mean()]\n",
    "\n",
    "\n",
    "def train_step(inputs, targets):\n",
    "    with tf.GradientTape() as tape:\n",
    "        predictions = model(inputs, training=True)  # forward pass\n",
    "        loss = loss_fn(targets, predictions)  # forward pass\n",
    "    gradients = tape.gradient(loss, model.trainable_weights)  # backward pass\n",
    "    optimizer.apply_gradients(zip(gradients, model.trainable_weights))  # backward pass\n",
    "\n",
    "    # keep track of metrics\n",
    "    logs = {}\n",
    "    for metric in metrics:\n",
    "        metric.update_state(targets, predictions)\n",
    "        logs[metric.name] = metric.result()\n",
    "\n",
    "    return logs"
   ],
   "metadata": {
    "collapsed": false,
    "ExecuteTime": {
     "end_time": "2024-02-26T03:34:12.457769Z",
     "start_time": "2024-02-26T03:34:12.359416Z"
    }
   },
   "id": "293716254b452aca"
  },
  {
   "cell_type": "markdown",
   "source": [
    "What if you need a custom training algorithm, but you still want to leverage the power of the built-in Keras training logic?\n",
    "- We create a new class that subclasses keras.Model.\n",
    "- We override the method train_step(self, data). It returns a dictionary mapping metric names (including the loss) to their current values.\n",
    "- We implement a metrics property that tracks the model’s Metric instances. This enables the model to automatically call reset_state() on the model’s metrics at the start of each epoch and at the start of a call to evaluate().\n"
   ],
   "metadata": {
    "collapsed": false
   },
   "id": "c8082367f5c401f"
  },
  {
   "cell_type": "code",
   "execution_count": 32,
   "outputs": [],
   "source": [
    "import tensorflow as tf\n",
    "\n",
    "loss_fn = keras.losses.SparseCategoricalCrossentropy()\n",
    "loss_tracker = keras.metrics.Mean(name=\"loss\")  # Here it works a s a metric\n",
    "\n",
    "\n",
    "class CustomModel(keras.Model):\n",
    "    def train_step(self, data):\n",
    "        inputs, targets = data\n",
    "        with tf.GradientTape() as tape:\n",
    "            predictions = self(inputs, training=True)  # forward \n",
    "            loss = loss_fn(targets, predictions)  # forward - loss of one batch only\n",
    "        gradients = tape.gradient(loss, self.trainable_weights)  # backward\n",
    "        self.optimizer.apply_gradients(zip(gradients, self.trainable_weights))  # update trainable weights\n",
    "\n",
    "        loss_tracker.update_state(loss)  # update the cumulative loss over batches\n",
    "        return {\"loss\": loss_tracker.result()}  # retrieve the current value of the average loss.\n",
    "\n",
    "    @property\n",
    "    def metrics(self):\n",
    "        return [loss_tracker]"
   ],
   "metadata": {
    "collapsed": false,
    "ExecuteTime": {
     "end_time": "2024-02-26T03:30:21.320199Z",
     "start_time": "2024-02-26T03:30:21.315191Z"
    }
   },
   "id": "71ec0d974db1135e"
  },
  {
   "cell_type": "code",
   "execution_count": 33,
   "outputs": [
    {
     "name": "stdout",
     "output_type": "stream",
     "text": [
      "Epoch 1/3\n",
      "\u001B[1m1563/1563\u001B[0m \u001B[32m━━━━━━━━━━━━━━━━━━━━\u001B[0m\u001B[37m\u001B[0m \u001B[1m8s\u001B[0m 5ms/step - loss: 0.4425\n",
      "Epoch 2/3\n",
      "\u001B[1m1563/1563\u001B[0m \u001B[32m━━━━━━━━━━━━━━━━━━━━\u001B[0m\u001B[37m\u001B[0m \u001B[1m7s\u001B[0m 5ms/step - loss: 0.1710\n",
      "Epoch 3/3\n",
      "\u001B[1m1563/1563\u001B[0m \u001B[32m━━━━━━━━━━━━━━━━━━━━\u001B[0m\u001B[37m\u001B[0m \u001B[1m8s\u001B[0m 5ms/step - loss: 0.1296\n"
     ]
    },
    {
     "data": {
      "text/plain": "<keras.src.callbacks.history.History at 0x293541990>"
     },
     "execution_count": 33,
     "metadata": {},
     "output_type": "execute_result"
    }
   ],
   "source": [
    "# Now you can use the builtin functions like compile and fit\n",
    "inputs = keras.Input(shape=(28 * 28,))\n",
    "features = layers.Dense(512, activation=\"relu\")(inputs)\n",
    "features = layers.Dropout(0.5)(features)\n",
    "outputs = layers.Dense(10, activation=\"softmax\")(features)\n",
    "model = CustomModel(inputs, outputs)\n",
    "\n",
    "model.compile(optimizer=keras.optimizers.RMSprop())  # loss is not used here since it's used explicitly above\n",
    "model.fit(train_images, train_labels, epochs=3)\n",
    "\n",
    "## NOTES: ##\n",
    "# This pattern does not prevent you from building models with the Functional API. You can do this whether you’re building Sequential models, Functional API models, or subclassed models.\n",
    "\n",
    "# You don’t need to use a @tf.function decorator when you override train_ step—the framework does it for you.\n"
   ],
   "metadata": {
    "collapsed": false,
    "ExecuteTime": {
     "end_time": "2024-02-26T03:30:44.383993Z",
     "start_time": "2024-02-26T03:30:21.320495Z"
    }
   },
   "id": "c4d0f661e7a0c994"
  },
  {
   "cell_type": "code",
   "execution_count": 33,
   "outputs": [],
   "source": [
    "# Or you can pass your metric with compile and use the self.compiled_metrics.update_state\n",
    "class CustomModel(keras.Model):\n",
    "    def train_step(self, data):\n",
    "        inputs, targets = data\n",
    "        with tf.GradientTape() as tape:\n",
    "            predictions = self(inputs, training=True)\n",
    "            loss = self.compiled_loss(targets, predictions)\n",
    "        gradients = tape.gradient(loss, self.trainable_weights)\n",
    "        self.optimizer.apply_gradients(zip(gradients, self.trainable_weights))\n",
    "        self.compiled_metrics.update_state(targets, predictions)\n",
    "        return {m.name: m.result() for m in self.metrics}   "
   ],
   "metadata": {
    "collapsed": false,
    "ExecuteTime": {
     "end_time": "2024-02-26T03:30:44.384839Z",
     "start_time": "2024-02-26T03:30:44.383232Z"
    }
   },
   "id": "e0a9c9a782ed8f2a"
  },
  {
   "cell_type": "code",
   "execution_count": null,
   "outputs": [],
   "source": [
    "inputs = keras.Input(shape=(28 * 28,))\n",
    "features = layers.Dense(512, activation=\"relu\")(inputs)\n",
    "features = layers.Dropout(0.5)(features)\n",
    "outputs = layers.Dense(10, activation=\"softmax\")(features)\n",
    "model = CustomModel(inputs, outputs)\n",
    "  \n",
    "model.compile(optimizer=keras.optimizers.RMSprop(),\n",
    "              loss=keras.losses.SparseCategoricalCrossentropy(),\n",
    "              metrics=[keras.metrics.SparseCategoricalAccuracy()])\n",
    "model.fit(train_images, train_labels, epochs=3)"
   ],
   "metadata": {
    "collapsed": false
   },
   "id": "a390cb278c8a32ca"
  }
 ],
 "metadata": {
  "kernelspec": {
   "display_name": "Python 3",
   "language": "python",
   "name": "python3"
  },
  "language_info": {
   "codemirror_mode": {
    "name": "ipython",
    "version": 2
   },
   "file_extension": ".py",
   "mimetype": "text/x-python",
   "name": "python",
   "nbconvert_exporter": "python",
   "pygments_lexer": "ipython2",
   "version": "2.7.6"
  }
 },
 "nbformat": 4,
 "nbformat_minor": 5
}
