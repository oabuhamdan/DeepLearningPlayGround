{
 "cells": [
  {
   "cell_type": "markdown",
   "source": [
    "\n",
    "# Chapter 10 - Deep Learning for Timeseries\n",
    "  \n",
    "We’ll work with a weather timeseries dataset recorded at the weather station at the Max Planck Institute for Biogeochemistry in Jena, Germany.1 In this dataset, 14 different quantities (such as temperature, pressure, humidity, wind direction, and so on) were recorded every 10 minutes over several years. The original data goes back to 2003, but the subset of the data we’ll download is limited to 2009–2016"
   ],
   "metadata": {
    "collapsed": false
   },
   "id": "98a1821eb261a04d"
  },
  {
   "cell_type": "code",
   "execution_count": 32,
   "outputs": [
    {
     "name": "stdout",
     "output_type": "stream",
     "text": [
      "--2024-06-30 21:31:57--  https://s3.amazonaws.com/keras-datasets/jena_climate_2009_2016.csv.zip\r\n",
      "Resolving s3.amazonaws.com (s3.amazonaws.com)... 52.217.229.120, 52.217.161.48, 52.217.105.166, ...\r\n",
      "Connecting to s3.amazonaws.com (s3.amazonaws.com)|52.217.229.120|:443... connected.\r\n",
      "HTTP request sent, awaiting response... 200 OK\r\n",
      "Length: 13565642 (13M) [application/zip]\r\n",
      "Saving to: ‘data/jena_climate_2009_2016.csv.zip’\r\n",
      "\r\n",
      "jena_climate_2009_2 100%[===================>]  12.94M  20.0MB/s    in 0.6s    \r\n",
      "\r\n",
      "2024-06-30 21:31:58 (20.0 MB/s) - ‘data/jena_climate_2009_2016.csv.zip’ saved [13565642/13565642]\r\n",
      "\r\n",
      "Archive:  data/jena_climate_2009_2016.csv.zip\r\n",
      "replace data/jena_climate_2009_2016.csv? [y]es, [n]o, [A]ll, [N]one, [r]ename: ^C\r\n"
     ]
    }
   ],
   "source": [
    "# Let’s start by downloading and uncompressing the data:\n",
    "!wget https://s3.amazonaws.com/keras-datasets/jena_climate_2009_2016.csv.zip -P data/\n",
    "!unzip data/jena_climate_2009_2016.csv.zip -d data/"
   ],
   "metadata": {
    "collapsed": false,
    "ExecuteTime": {
     "end_time": "2024-07-01T02:32:02.218733Z",
     "start_time": "2024-07-01T02:31:57.276373Z"
    }
   },
   "id": "dee49871a1405793"
  },
  {
   "cell_type": "code",
   "execution_count": 1,
   "outputs": [
    {
     "data": {
      "text/plain": "            p (mbar)       T (degC)       Tpot (K)    Tdew (degC)  \\\ncount  420451.000000  420451.000000  420451.000000  420451.000000   \nmean      989.212508       9.448567     283.491182       4.954011   \nstd         8.359454       8.423685       8.504820       6.730411   \nmin       913.600000     -23.010000     250.600000     -25.010000   \n25%       984.200000       3.360000     277.430000       0.240000   \n50%       989.570000       9.410000     283.460000       5.210000   \n75%       994.720000      15.470000     289.530000      10.070000   \nmax      1015.350000      37.280000     311.340000      23.110000   \n\n              rh (%)   VPmax (mbar)   VPact (mbar)   VPdef (mbar)  \\\ncount  420451.000000  420451.000000  420451.000000  420451.000000   \nmean       76.007045      13.575089       9.532524       4.042483   \nstd        16.477126       7.739481       4.183895       4.897270   \nmin        12.950000       0.950000       0.790000       0.000000   \n25%        65.210000       7.780000       6.210000       0.870000   \n50%        79.300000      11.820000       8.860000       2.190000   \n75%        89.400000      17.600000      12.350000       5.300000   \nmax       100.000000      63.770000      28.320000      46.010000   \n\n           sh (g/kg)  H2OC (mmol/mol)   rho (g/m**3)       wv (m/s)  \\\ncount  420451.000000    420451.000000  420451.000000  420451.000000   \nmean        6.021630         9.638982    1216.069883       2.130309   \nstd         2.655973         4.235130      39.977065       1.541830   \nmin         0.500000         0.800000    1059.450000       0.000000   \n25%         3.920000         6.290000    1187.490000       0.990000   \n50%         5.590000         8.960000    1213.800000       1.760000   \n75%         7.800000        12.480000    1242.770000       2.860000   \nmax        18.130000        28.820000    1393.540000      14.630000   \n\n       max. wv (m/s)       wd (deg)  \ncount  420451.000000  420451.000000  \nmean        3.532381     174.726164  \nstd         2.340482      86.675965  \nmin         0.000000       0.000000  \n25%         1.760000     124.800000  \n50%         2.960000     198.100000  \n75%         4.740000     234.100000  \nmax        23.500000     360.000000  ",
      "text/html": "<div>\n<style scoped>\n    .dataframe tbody tr th:only-of-type {\n        vertical-align: middle;\n    }\n\n    .dataframe tbody tr th {\n        vertical-align: top;\n    }\n\n    .dataframe thead th {\n        text-align: right;\n    }\n</style>\n<table border=\"1\" class=\"dataframe\">\n  <thead>\n    <tr style=\"text-align: right;\">\n      <th></th>\n      <th>p (mbar)</th>\n      <th>T (degC)</th>\n      <th>Tpot (K)</th>\n      <th>Tdew (degC)</th>\n      <th>rh (%)</th>\n      <th>VPmax (mbar)</th>\n      <th>VPact (mbar)</th>\n      <th>VPdef (mbar)</th>\n      <th>sh (g/kg)</th>\n      <th>H2OC (mmol/mol)</th>\n      <th>rho (g/m**3)</th>\n      <th>wv (m/s)</th>\n      <th>max. wv (m/s)</th>\n      <th>wd (deg)</th>\n    </tr>\n  </thead>\n  <tbody>\n    <tr>\n      <th>count</th>\n      <td>420451.000000</td>\n      <td>420451.000000</td>\n      <td>420451.000000</td>\n      <td>420451.000000</td>\n      <td>420451.000000</td>\n      <td>420451.000000</td>\n      <td>420451.000000</td>\n      <td>420451.000000</td>\n      <td>420451.000000</td>\n      <td>420451.000000</td>\n      <td>420451.000000</td>\n      <td>420451.000000</td>\n      <td>420451.000000</td>\n      <td>420451.000000</td>\n    </tr>\n    <tr>\n      <th>mean</th>\n      <td>989.212508</td>\n      <td>9.448567</td>\n      <td>283.491182</td>\n      <td>4.954011</td>\n      <td>76.007045</td>\n      <td>13.575089</td>\n      <td>9.532524</td>\n      <td>4.042483</td>\n      <td>6.021630</td>\n      <td>9.638982</td>\n      <td>1216.069883</td>\n      <td>2.130309</td>\n      <td>3.532381</td>\n      <td>174.726164</td>\n    </tr>\n    <tr>\n      <th>std</th>\n      <td>8.359454</td>\n      <td>8.423685</td>\n      <td>8.504820</td>\n      <td>6.730411</td>\n      <td>16.477126</td>\n      <td>7.739481</td>\n      <td>4.183895</td>\n      <td>4.897270</td>\n      <td>2.655973</td>\n      <td>4.235130</td>\n      <td>39.977065</td>\n      <td>1.541830</td>\n      <td>2.340482</td>\n      <td>86.675965</td>\n    </tr>\n    <tr>\n      <th>min</th>\n      <td>913.600000</td>\n      <td>-23.010000</td>\n      <td>250.600000</td>\n      <td>-25.010000</td>\n      <td>12.950000</td>\n      <td>0.950000</td>\n      <td>0.790000</td>\n      <td>0.000000</td>\n      <td>0.500000</td>\n      <td>0.800000</td>\n      <td>1059.450000</td>\n      <td>0.000000</td>\n      <td>0.000000</td>\n      <td>0.000000</td>\n    </tr>\n    <tr>\n      <th>25%</th>\n      <td>984.200000</td>\n      <td>3.360000</td>\n      <td>277.430000</td>\n      <td>0.240000</td>\n      <td>65.210000</td>\n      <td>7.780000</td>\n      <td>6.210000</td>\n      <td>0.870000</td>\n      <td>3.920000</td>\n      <td>6.290000</td>\n      <td>1187.490000</td>\n      <td>0.990000</td>\n      <td>1.760000</td>\n      <td>124.800000</td>\n    </tr>\n    <tr>\n      <th>50%</th>\n      <td>989.570000</td>\n      <td>9.410000</td>\n      <td>283.460000</td>\n      <td>5.210000</td>\n      <td>79.300000</td>\n      <td>11.820000</td>\n      <td>8.860000</td>\n      <td>2.190000</td>\n      <td>5.590000</td>\n      <td>8.960000</td>\n      <td>1213.800000</td>\n      <td>1.760000</td>\n      <td>2.960000</td>\n      <td>198.100000</td>\n    </tr>\n    <tr>\n      <th>75%</th>\n      <td>994.720000</td>\n      <td>15.470000</td>\n      <td>289.530000</td>\n      <td>10.070000</td>\n      <td>89.400000</td>\n      <td>17.600000</td>\n      <td>12.350000</td>\n      <td>5.300000</td>\n      <td>7.800000</td>\n      <td>12.480000</td>\n      <td>1242.770000</td>\n      <td>2.860000</td>\n      <td>4.740000</td>\n      <td>234.100000</td>\n    </tr>\n    <tr>\n      <th>max</th>\n      <td>1015.350000</td>\n      <td>37.280000</td>\n      <td>311.340000</td>\n      <td>23.110000</td>\n      <td>100.000000</td>\n      <td>63.770000</td>\n      <td>28.320000</td>\n      <td>46.010000</td>\n      <td>18.130000</td>\n      <td>28.820000</td>\n      <td>1393.540000</td>\n      <td>14.630000</td>\n      <td>23.500000</td>\n      <td>360.000000</td>\n    </tr>\n  </tbody>\n</table>\n</div>"
     },
     "execution_count": 1,
     "metadata": {},
     "output_type": "execute_result"
    }
   ],
   "source": [
    "# see data\n",
    "import pandas as pd\n",
    "\n",
    "data = pd.read_csv(\"data/jena_climate_2009_2016.csv\")\n",
    "data.describe()"
   ],
   "metadata": {
    "collapsed": false,
    "ExecuteTime": {
     "end_time": "2024-07-08T00:56:15.047705Z",
     "start_time": "2024-07-08T00:56:12.310327Z"
    }
   },
   "id": "8d6503dff213e050"
  },
  {
   "cell_type": "code",
   "execution_count": 2,
   "outputs": [
    {
     "data": {
      "text/plain": "(420451,)"
     },
     "execution_count": 2,
     "metadata": {},
     "output_type": "execute_result"
    }
   ],
   "source": [
    "# Now we will drop the date column and split the temperature into its own array (target)\n",
    "temperatures = data[\"T (degC)\"]\n",
    "features = data.drop(columns=[\"Date Time\"])\n",
    "temperatures.shape"
   ],
   "metadata": {
    "collapsed": false,
    "ExecuteTime": {
     "end_time": "2024-07-08T00:56:15.057827Z",
     "start_time": "2024-07-08T00:56:15.047733Z"
    }
   },
   "id": "6fa11100de7e8ea3"
  },
  {
   "cell_type": "code",
   "execution_count": 3,
   "outputs": [
    {
     "data": {
      "text/plain": "[<matplotlib.lines.Line2D at 0x16873ba10>]"
     },
     "execution_count": 3,
     "metadata": {},
     "output_type": "execute_result"
    },
    {
     "data": {
      "text/plain": "<Figure size 640x480 with 1 Axes>",
      "image/png": "[encoded data removed]"
     },
     "metadata": {},
     "output_type": "display_data"
    }
   ],
   "source": [
    "import matplotlib.pyplot as plt\n",
    "\n",
    "plt.plot(range(len(temperatures)), temperatures)"
   ],
   "metadata": {
    "collapsed": false,
    "ExecuteTime": {
     "end_time": "2024-07-08T00:56:16.707599Z",
     "start_time": "2024-07-08T00:56:15.058128Z"
    }
   },
   "id": "606fdc8e9dac8d54"
  },
  {
   "cell_type": "code",
   "execution_count": 4,
   "outputs": [
    {
     "data": {
      "text/plain": "[<matplotlib.lines.Line2D at 0x1685d2f90>]"
     },
     "execution_count": 4,
     "metadata": {},
     "output_type": "execute_result"
    },
    {
     "data": {
      "text/plain": "<Figure size 640x480 with 1 Axes>",
      "image/png": "[encoded data removed]"
     },
     "metadata": {},
     "output_type": "display_data"
    }
   ],
   "source": [
    "# plotting the first few points only\n",
    "plt.plot(range(2000), temperatures[:2000])\n"
   ],
   "metadata": {
    "collapsed": false,
    "ExecuteTime": {
     "end_time": "2024-07-08T00:56:16.772641Z",
     "start_time": "2024-07-08T00:56:16.711246Z"
    }
   },
   "id": "a92475113e6fe3a3"
  },
  {
   "cell_type": "markdown",
   "source": [
    "**Periodicity over multiple timescales is an important and very common property of timeseries data.** \n",
    "\n",
    "\n",
    "**When working with timeseries data, it’s important to use validation and test data that is more recent than the training data, because you’re trying to predict the future given the past, not the reverse, and your validation/test splits should reflect that**"
   ],
   "metadata": {
    "collapsed": false
   },
   "id": "f732f1e8797cd27d"
  },
  {
   "cell_type": "code",
   "execution_count": 5,
   "outputs": [
    {
     "name": "stdout",
     "output_type": "stream",
     "text": [
      "210225 105112 105114\n"
     ]
    }
   ],
   "source": [
    "# We’ll use the first 50% of the data for training, the following 25% for validation, and the last 25% for testing\n",
    "total_data = len(data)\n",
    "train_size = int(total_data * 0.50)\n",
    "val_size = int(total_data * 0.25)\n",
    "test_size = total_data - train_size - val_size\n",
    "print(train_size, val_size, test_size)"
   ],
   "metadata": {
    "collapsed": false,
    "ExecuteTime": {
     "end_time": "2024-07-08T00:56:16.773556Z",
     "start_time": "2024-07-08T00:56:16.770608Z"
    }
   },
   "id": "cbe2e8b2b19f7842"
  },
  {
   "cell_type": "markdown",
   "source": [
    "## Preparing Data\n",
    "1. The data is already numerical, so you don’t need to do any vectorization\n",
    "2. Columns are on different scales -> Normalize"
   ],
   "metadata": {
    "collapsed": false
   },
   "id": "41d49a612f667f86"
  },
  {
   "cell_type": "code",
   "execution_count": 6,
   "outputs": [
    {
     "data": {
      "text/plain": "   p (mbar)  T (degC)  Tpot (K)  Tdew (degC)    rh (%)  VPmax (mbar)  \\\n0  0.913649 -1.920636 -1.974488    -1.866254  1.048015     -1.291316   \n1  0.919528 -1.965100 -2.018478    -1.919925  1.054028     -1.304472   \n2  0.914825 -1.976501 -2.029758    -1.924162  1.084097     -1.307103   \n3  0.912474 -1.953699 -2.006071    -1.890265  1.102138     -1.300525   \n4  0.912474 -1.949139 -2.002687    -1.886027  1.096124     -1.299210   \n\n   VPact (mbar)  VPdef (mbar)  sh (g/kg)  H2OC (mmol/mol)  rho (g/m**3)  \\\n0     -1.467152     -0.782343  -1.470122        -1.472032      2.124151   \n1     -1.488855     -0.784440  -1.489114        -1.493462      2.172914   \n2     -1.491266     -0.786537  -1.492912        -1.495843      2.183381   \n3     -1.476798     -0.788633  -1.477719        -1.481556      2.158404   \n4     -1.474386     -0.788633  -1.477719        -1.479175      2.153885   \n\n   wv (m/s)  max. wv (m/s)  wd (deg)  \n0 -0.730165      -0.779351 -0.281192  \n1 -0.932305      -0.886968 -0.469893  \n2 -1.277899      -1.261473 -0.056383  \n3 -1.180089      -1.317434  0.251128  \n4 -1.193130      -1.261473  0.440993  ",
      "text/html": "<div>\n<style scoped>\n    .dataframe tbody tr th:only-of-type {\n        vertical-align: middle;\n    }\n\n    .dataframe tbody tr th {\n        vertical-align: top;\n    }\n\n    .dataframe thead th {\n        text-align: right;\n    }\n</style>\n<table border=\"1\" class=\"dataframe\">\n  <thead>\n    <tr style=\"text-align: right;\">\n      <th></th>\n      <th>p (mbar)</th>\n      <th>T (degC)</th>\n      <th>Tpot (K)</th>\n      <th>Tdew (degC)</th>\n      <th>rh (%)</th>\n      <th>VPmax (mbar)</th>\n      <th>VPact (mbar)</th>\n      <th>VPdef (mbar)</th>\n      <th>sh (g/kg)</th>\n      <th>H2OC (mmol/mol)</th>\n      <th>rho (g/m**3)</th>\n      <th>wv (m/s)</th>\n      <th>max. wv (m/s)</th>\n      <th>wd (deg)</th>\n    </tr>\n  </thead>\n  <tbody>\n    <tr>\n      <th>0</th>\n      <td>0.913649</td>\n      <td>-1.920636</td>\n      <td>-1.974488</td>\n      <td>-1.866254</td>\n      <td>1.048015</td>\n      <td>-1.291316</td>\n      <td>-1.467152</td>\n      <td>-0.782343</td>\n      <td>-1.470122</td>\n      <td>-1.472032</td>\n      <td>2.124151</td>\n      <td>-0.730165</td>\n      <td>-0.779351</td>\n      <td>-0.281192</td>\n    </tr>\n    <tr>\n      <th>1</th>\n      <td>0.919528</td>\n      <td>-1.965100</td>\n      <td>-2.018478</td>\n      <td>-1.919925</td>\n      <td>1.054028</td>\n      <td>-1.304472</td>\n      <td>-1.488855</td>\n      <td>-0.784440</td>\n      <td>-1.489114</td>\n      <td>-1.493462</td>\n      <td>2.172914</td>\n      <td>-0.932305</td>\n      <td>-0.886968</td>\n      <td>-0.469893</td>\n    </tr>\n    <tr>\n      <th>2</th>\n      <td>0.914825</td>\n      <td>-1.976501</td>\n      <td>-2.029758</td>\n      <td>-1.924162</td>\n      <td>1.084097</td>\n      <td>-1.307103</td>\n      <td>-1.491266</td>\n      <td>-0.786537</td>\n      <td>-1.492912</td>\n      <td>-1.495843</td>\n      <td>2.183381</td>\n      <td>-1.277899</td>\n      <td>-1.261473</td>\n      <td>-0.056383</td>\n    </tr>\n    <tr>\n      <th>3</th>\n      <td>0.912474</td>\n      <td>-1.953699</td>\n      <td>-2.006071</td>\n      <td>-1.890265</td>\n      <td>1.102138</td>\n      <td>-1.300525</td>\n      <td>-1.476798</td>\n      <td>-0.788633</td>\n      <td>-1.477719</td>\n      <td>-1.481556</td>\n      <td>2.158404</td>\n      <td>-1.180089</td>\n      <td>-1.317434</td>\n      <td>0.251128</td>\n    </tr>\n    <tr>\n      <th>4</th>\n      <td>0.912474</td>\n      <td>-1.949139</td>\n      <td>-2.002687</td>\n      <td>-1.886027</td>\n      <td>1.096124</td>\n      <td>-1.299210</td>\n      <td>-1.474386</td>\n      <td>-0.788633</td>\n      <td>-1.477719</td>\n      <td>-1.479175</td>\n      <td>2.153885</td>\n      <td>-1.193130</td>\n      <td>-1.261473</td>\n      <td>0.440993</td>\n    </tr>\n  </tbody>\n</table>\n</div>"
     },
     "execution_count": 6,
     "metadata": {},
     "output_type": "execute_result"
    }
   ],
   "source": [
    "# normalize only train data\n",
    "mean = features[:train_size].mean(axis=0)\n",
    "std = features[:train_size].std(axis=0)\n",
    "features -= mean\n",
    "features /= std\n",
    "features.head()"
   ],
   "metadata": {
    "collapsed": false,
    "ExecuteTime": {
     "end_time": "2024-07-08T00:56:16.878545Z",
     "start_time": "2024-07-08T00:56:16.773637Z"
    }
   },
   "id": "4fe4f981f1935f8e"
  },
  {
   "cell_type": "markdown",
   "source": [
    "### Info Session\n",
    "\n",
    "Data normalization by subtracting the mean and dividing by the standard deviation, often called \"standardization\" or \"Z-score normalization,\" is a common preprocessing step in machine learning and statistics. This process transforms the data to have a mean of 0 and a standard deviation of 1. Here's why this is beneficial:\n",
    "\n",
    "**Centering the Data(subtracting mean):** When we subtract the mean from each data point, we shift the data distribution so that its center is now at zero. This is helpful because many machine learning algorithms assume that the data is centered around zero, improving numerical stability and convergence during training.\n",
    "\n",
    "**Scaling the Data (dividing by STD):** By dividing by the standard deviation, we scale the data so that it has a standard deviation of 1. This step ensures that different features contribute equally to the distance metrics used in many algorithms (like k-means clustering, nearest neighbors, or gradient-based optimization algorithms)."
   ],
   "metadata": {
    "collapsed": false
   },
   "id": "f7c5162fc633127"
  },
  {
   "cell_type": "markdown",
   "source": [
    "**We'll use timeseries_dataset_from_array to read data.**\n",
    "\n",
    "The general idea is that you provide an array of timeseries data (the data argument), and timeseries_dataset_from_array() gives you windows extracted from the original timeseries (we’ll call them “sequences”).\n",
    "\n",
    "You can also pass a targets argument (an array) to timeseries_dataset_ from_array(). The first entry of the targets array should match the desired target for the first sequence that will be generated from the data array. So if you’re doing timeseries forecasting, targets should be the same array as data, offset by some amount."
   ],
   "metadata": {
    "collapsed": false
   },
   "id": "3be5d056303be0a0"
  },
  {
   "cell_type": "code",
   "execution_count": 9,
   "outputs": [
    {
     "name": "stdout",
     "output_type": "stream",
     "text": [
      "[0, 1, 2] 3\n",
      "[1, 2, 3] 4\n",
      "[2, 3, 4] 5\n",
      "[3, 4, 5] 6\n",
      "[4, 5, 6] 7\n"
     ]
    },
    {
     "name": "stderr",
     "output_type": "stream",
     "text": [
      "2024-07-07 19:57:16.243668: I metal_plugin/src/device/metal_device.cc:1154] Metal device set to: Apple M2\n",
      "2024-07-07 19:57:16.243761: I metal_plugin/src/device/metal_device.cc:296] systemMemory: 8.00 GB\n",
      "2024-07-07 19:57:16.243775: I metal_plugin/src/device/metal_device.cc:313] maxCacheSize: 2.67 GB\n",
      "2024-07-07 19:57:16.243833: I tensorflow/core/common_runtime/pluggable_device/pluggable_device_factory.cc:305] Could not identify NUMA node of platform GPU ID 0, defaulting to 0. Your kernel may not have been built with NUMA support.\n",
      "2024-07-07 19:57:16.243901: I tensorflow/core/common_runtime/pluggable_device/pluggable_device_factory.cc:271] Created TensorFlow device (/job:localhost/replica:0/task:0/device:GPU:0 with 0 MB memory) -> physical PluggableDevice (device: 0, name: METAL, pci bus id: <undefined>)\n",
      "2024-07-07 19:57:16.449575: W tensorflow/core/framework/local_rendezvous.cc:404] Local rendezvous is aborting with status: OUT_OF_RANGE: End of sequence\n"
     ]
    }
   ],
   "source": [
    "import numpy as np\n",
    "from tensorflow import keras\n",
    "\n",
    "# Example\n",
    "int_sequence = np.arange(10)\n",
    "dummy_dataset = keras.utils.timeseries_dataset_from_array(\n",
    "    data=int_sequence[:-3],\n",
    "    targets=int_sequence[3:],  # The target for the sequence that starts at data[N] will be data[N + 3].\n",
    "    sequence_length=3,  # The sequences will be 3 steps long.\n",
    "    batch_size=2,\n",
    ")\n",
    "\n",
    "for inputs, target in dummy_dataset:\n",
    "    for i in range(inputs.shape[0]):\n",
    "        print([int(x) for x in inputs[i]], int(target[i]))"
   ],
   "metadata": {
    "collapsed": false,
    "ExecuteTime": {
     "end_time": "2024-07-08T00:57:16.455105Z",
     "start_time": "2024-07-08T00:56:59.674221Z"
    }
   },
   "id": "35dc5c65b97d9bba"
  },
  {
   "cell_type": "code",
   "execution_count": 11,
   "outputs": [],
   "source": [
    "# Observations will be sampled at one data point per hour: we will only keep one data point out of 6.\n",
    "sampling_rate = 6\n",
    "# Observations will go back 5 days (120 hours).\n",
    "sequence_length = 120\n",
    "# The target for a sequence will be the temperature 24 hours after the end of the sequence.\n",
    "delay = sampling_rate * (sequence_length + 24 - 1)\n",
    "batch_size = 256\n",
    "train_dataset = keras.utils.timeseries_dataset_from_array(\n",
    "    features[:-delay],  # the last set of features \n",
    "    targets=temperatures[delay:],\n",
    "    sampling_rate=sampling_rate,\n",
    "    sequence_length=sequence_length,\n",
    "    shuffle=True,\n",
    "    batch_size=batch_size,\n",
    "    start_index=0,\n",
    "    end_index=train_size)\n",
    "\n",
    "val_dataset = keras.utils.timeseries_dataset_from_array(\n",
    "    features[:-delay],\n",
    "    targets=temperatures[delay:],\n",
    "    sampling_rate=sampling_rate,\n",
    "    sequence_length=sequence_length,\n",
    "    shuffle=True,\n",
    "    batch_size=batch_size,\n",
    "    start_index=train_size,\n",
    "    end_index=train_size + val_size)\n",
    "\n",
    "test_dataset = keras.utils.timeseries_dataset_from_array(\n",
    "    features[:-delay],\n",
    "    targets=temperatures[delay:],\n",
    "    sampling_rate=sampling_rate,\n",
    "    sequence_length=sequence_length,\n",
    "    shuffle=True,\n",
    "    batch_size=batch_size,\n",
    "    start_index=train_size + val_size)\n",
    "\n",
    "# Each dataset yields a tuple (samples, targets), where samples is a batch of 256 samples, each containing 120 consecutive hours of input data, and targets is the corresponding array of 256 target temperatures. Note that the samples are randomly shuffled, so two consecutive sequences in a batch (like samples[0] and samples[1]) aren’t necessarily temporally close. "
   ],
   "metadata": {
    "collapsed": false,
    "ExecuteTime": {
     "end_time": "2024-07-08T00:57:35.372738Z",
     "start_time": "2024-07-08T00:57:34.906743Z"
    }
   },
   "id": "7f15b7fb640df315"
  },
  {
   "cell_type": "markdown",
   "source": [
    "### A common-sense, non-machine learning baseline\n",
    "The author talks about how we should guess what the machine will predict.\n",
    "Here in our case, it's a common since to predict that tomorrow's temperature is similar to today's.\n",
    " "
   ],
   "metadata": {
    "collapsed": false
   },
   "id": "ff0347af5d1e8f03"
  },
  {
   "cell_type": "code",
   "execution_count": 9,
   "outputs": [
    {
     "name": "stderr",
     "output_type": "stream",
     "text": [
      "2024-07-03 20:32:25.720068: W tensorflow/core/framework/local_rendezvous.cc:404] Local rendezvous is aborting with status: OUT_OF_RANGE: End of sequence\n"
     ]
    },
    {
     "name": "stdout",
     "output_type": "stream",
     "text": [
      "Validation MAE: 2.44\n",
      "Test MAE: 2.62\n"
     ]
    },
    {
     "name": "stderr",
     "output_type": "stream",
     "text": [
      "2024-07-03 20:32:27.602214: W tensorflow/core/framework/local_rendezvous.cc:404] Local rendezvous is aborting with status: OUT_OF_RANGE: End of sequence\n"
     ]
    }
   ],
   "source": [
    "def evaluate_naive_method(dataset):\n",
    "    total_abs_err = 0.\n",
    "    samples_seen = 0\n",
    "    for samples, targets in dataset:\n",
    "        # The temperature feature is at column 1, so samples[:, -1, 1] is the last temperature measurement in the input sequence.\n",
    "        # We multiply by std and add mean to restore original value\n",
    "        preds = samples[:, -1, 1] * std.iloc[1] + mean.iloc[1]\n",
    "        total_abs_err += np.sum(np.abs(preds - targets))\n",
    "        samples_seen += samples.shape[0]\n",
    "\n",
    "    return total_abs_err / samples_seen\n",
    "\n",
    "\n",
    "print(f\"Validation MAE: {evaluate_naive_method(val_dataset):.2f}\")\n",
    "print(f\"Test MAE: {evaluate_naive_method(test_dataset):.2f}\")"
   ],
   "metadata": {
    "collapsed": false,
    "ExecuteTime": {
     "end_time": "2024-07-04T01:32:27.606793Z",
     "start_time": "2024-07-04T01:32:23.710123Z"
    }
   },
   "id": "58e4eba498a2d81f"
  },
  {
   "cell_type": "markdown",
   "source": [
    "## Let’s try a basic machine learning model\n",
    "Usually we should try some Densely connected layer first before tring complicated things like RNNs.\n"
   ],
   "metadata": {
    "collapsed": false
   },
   "id": "88cc2ec94a87bc0e"
  },
  {
   "cell_type": "code",
   "execution_count": 22,
   "outputs": [
    {
     "name": "stdout",
     "output_type": "stream",
     "text": [
      "Epoch 1/10\n",
      "\u001B[1m819/819\u001B[0m \u001B[32m━━━━━━━━━━━━━━━━━━━━\u001B[0m\u001B[37m\u001B[0m \u001B[1m18s\u001B[0m 20ms/step - loss: 123.7344 - mae: 9.0648 - val_loss: 67.2987 - val_mae: 6.7432\n",
      "Epoch 2/10\n",
      "\u001B[1m819/819\u001B[0m \u001B[32m━━━━━━━━━━━━━━━━━━━━\u001B[0m\u001B[37m\u001B[0m \u001B[1m14s\u001B[0m 17ms/step - loss: 76.7265 - mae: 7.1008 - val_loss: 65.8990 - val_mae: 6.6808\n",
      "Epoch 3/10\n",
      "\u001B[1m819/819\u001B[0m \u001B[32m━━━━━━━━━━━━━━━━━━━━\u001B[0m\u001B[37m\u001B[0m \u001B[1m16s\u001B[0m 19ms/step - loss: 76.2683 - mae: 7.0797 - val_loss: 65.6939 - val_mae: 6.6715\n",
      "Epoch 4/10\n",
      "\u001B[1m819/819\u001B[0m \u001B[32m━━━━━━━━━━━━━━━━━━━━\u001B[0m\u001B[37m\u001B[0m \u001B[1m15s\u001B[0m 18ms/step - loss: 76.2636 - mae: 7.0802 - val_loss: 65.6775 - val_mae: 6.6710\n",
      "Epoch 5/10\n",
      "\u001B[1m819/819\u001B[0m \u001B[32m━━━━━━━━━━━━━━━━━━━━\u001B[0m\u001B[37m\u001B[0m \u001B[1m14s\u001B[0m 17ms/step - loss: 76.1497 - mae: 7.0754 - val_loss: 65.4454 - val_mae: 6.6594\n",
      "Epoch 6/10\n",
      "\u001B[1m819/819\u001B[0m \u001B[32m━━━━━━━━━━━━━━━━━━━━\u001B[0m\u001B[37m\u001B[0m \u001B[1m14s\u001B[0m 17ms/step - loss: 76.1156 - mae: 7.0732 - val_loss: 65.8359 - val_mae: 6.6789\n",
      "Epoch 7/10\n",
      "\u001B[1m819/819\u001B[0m \u001B[32m━━━━━━━━━━━━━━━━━━━━\u001B[0m\u001B[37m\u001B[0m \u001B[1m16s\u001B[0m 19ms/step - loss: 76.1187 - mae: 7.0737 - val_loss: 65.7056 - val_mae: 6.6726\n",
      "Epoch 8/10\n",
      "\u001B[1m819/819\u001B[0m \u001B[32m━━━━━━━━━━━━━━━━━━━━\u001B[0m\u001B[37m\u001B[0m \u001B[1m14s\u001B[0m 17ms/step - loss: 76.1008 - mae: 7.0726 - val_loss: 65.4684 - val_mae: 6.6607\n",
      "Epoch 9/10\n",
      "\u001B[1m819/819\u001B[0m \u001B[32m━━━━━━━━━━━━━━━━━━━━\u001B[0m\u001B[37m\u001B[0m \u001B[1m14s\u001B[0m 17ms/step - loss: 76.1099 - mae: 7.0728 - val_loss: 65.5486 - val_mae: 6.6648\n",
      "Epoch 10/10\n",
      "\u001B[1m819/819\u001B[0m \u001B[32m━━━━━━━━━━━━━━━━━━━━\u001B[0m\u001B[37m\u001B[0m \u001B[1m14s\u001B[0m 17ms/step - loss: 76.1622 - mae: 7.0754 - val_loss: 65.6946 - val_mae: 6.6721\n",
      "\u001B[1m405/405\u001B[0m \u001B[32m━━━━━━━━━━━━━━━━━━━━\u001B[0m\u001B[37m\u001B[0m \u001B[1m3s\u001B[0m 8ms/step - loss: 66.3904 - mae: 6.6629\n",
      "Test MAE: 6.65\n"
     ]
    }
   ],
   "source": [
    "inputs = keras.Input(shape=(sequence_length, len(features.iloc[0])))\n",
    "x = keras.layers.Dense(16, activation=\"relu\")(inputs)\n",
    "outputs = keras.layers.Dense(1)(x)\n",
    "model = keras.Model(inputs=inputs, outputs=outputs)\n",
    "\n",
    "callbacks = [\n",
    "    keras.callbacks.ModelCheckpoint(\"models/jena_dense.keras\", save_best_only=True)\n",
    "]\n",
    "\n",
    "model.compile(optimizer=\"rmsprop\", loss=\"mse\", metrics=[\"mae\"])\n",
    "history = model.fit(train_dataset,\n",
    "                    epochs=10,\n",
    "                    batch_size=batch_size,\n",
    "                    validation_data=val_dataset,\n",
    "                    callbacks=callbacks)\n",
    "\n",
    "model = keras.models.load_model(\"models/jena_dense.keras\")\n",
    "print(f\"Test MAE: {model.evaluate(test_dataset)[1]:.2f}\")"
   ],
   "metadata": {
    "collapsed": false,
    "ExecuteTime": {
     "end_time": "2024-07-07T20:34:06.514512Z",
     "start_time": "2024-07-07T20:31:33.533477Z"
    }
   },
   "id": "7b23bbd6f619aba7"
  },
  {
   "cell_type": "code",
   "execution_count": 11,
   "outputs": [
    {
     "data": {
      "text/plain": "<Figure size 640x480 with 1 Axes>",
      "image/png": "[encoded data removed]"
     },
     "metadata": {},
     "output_type": "display_data"
    }
   ],
   "source": [
    "import matplotlib.pyplot as plt\n",
    "\n",
    "loss = history.history[\"mae\"]\n",
    "val_loss = history.history[\"val_mae\"]\n",
    "epochs = range(1, len(loss) + 1)\n",
    "plt.figure()\n",
    "plt.plot(epochs, loss, \"bo\", label=\"Training MAE\")\n",
    "plt.plot(epochs, val_loss, \"b\", label=\"Validation MAE\")\n",
    "plt.title(\"Training and validation MAE\")\n",
    "plt.legend()\n",
    "plt.show()"
   ],
   "metadata": {
    "collapsed": false,
    "ExecuteTime": {
     "end_time": "2024-07-04T01:37:09.515959Z",
     "start_time": "2024-07-04T01:37:08.999572Z"
    }
   },
   "id": "7d4b03a06133e60d"
  },
  {
   "cell_type": "markdown",
   "source": [
    "## Let’s try a 1D convolutional model\n",
    "1D convolution can be best imagined as applying a sliding window of projections over a sequence of vectors. Kernel size is the window width, stride is the size of the step the window makes.\n",
    "\n",
    "Why trying Conv1D?\n",
    "- layers apply filters (kernels) of a specified length across the input sequence. This allows the model to capture local patterns or features within the sequence.\n",
    "- Filters are applied across the entire length of the sequence, promoting parameter sharing and reducing the number of trainable parameters compared to fully connected layers.\n",
    "- handle variable-length sequences\n",
    "- Multiple Conv1D layers with pooling operations (like MaxPooling1D or AveragePooling1D) can learn hierarchical representations of the input sequence. Lower layers might capture low-level features (e.g., short patterns), while higher layers capture more abstract features (e.g., longer-term dependencies)."
   ],
   "metadata": {
    "collapsed": false
   },
   "id": "71082c2a48738696"
  },
  {
   "cell_type": "code",
   "execution_count": 12,
   "outputs": [
    {
     "name": "stdout",
     "output_type": "stream",
     "text": [
      "Epoch 1/10\n",
      "\u001B[1m819/819\u001B[0m \u001B[32m━━━━━━━━━━━━━━━━━━━━\u001B[0m\u001B[37m\u001B[0m \u001B[1m24s\u001B[0m 27ms/step - loss: 34.8009 - mae: 4.4390 - val_loss: 14.6008 - val_mae: 3.0115\n",
      "Epoch 2/10\n",
      "\u001B[1m819/819\u001B[0m \u001B[32m━━━━━━━━━━━━━━━━━━━━\u001B[0m\u001B[37m\u001B[0m \u001B[1m18s\u001B[0m 22ms/step - loss: 15.1451 - mae: 3.0950 - val_loss: 16.5053 - val_mae: 3.2196\n",
      "Epoch 3/10\n",
      "\u001B[1m819/819\u001B[0m \u001B[32m━━━━━━━━━━━━━━━━━━━━\u001B[0m\u001B[37m\u001B[0m \u001B[1m21s\u001B[0m 25ms/step - loss: 13.8520 - mae: 2.9515 - val_loss: 16.2097 - val_mae: 3.1690\n",
      "Epoch 4/10\n",
      "\u001B[1m819/819\u001B[0m \u001B[32m━━━━━━━━━━━━━━━━━━━━\u001B[0m\u001B[37m\u001B[0m \u001B[1m20s\u001B[0m 24ms/step - loss: 13.1192 - mae: 2.8679 - val_loss: 14.1615 - val_mae: 2.9613\n",
      "Epoch 5/10\n",
      "\u001B[1m819/819\u001B[0m \u001B[32m━━━━━━━━━━━━━━━━━━━━\u001B[0m\u001B[37m\u001B[0m \u001B[1m21s\u001B[0m 25ms/step - loss: 12.4995 - mae: 2.7931 - val_loss: 14.3848 - val_mae: 2.9921\n",
      "Epoch 6/10\n",
      "\u001B[1m819/819\u001B[0m \u001B[32m━━━━━━━━━━━━━━━━━━━━\u001B[0m\u001B[37m\u001B[0m \u001B[1m19s\u001B[0m 23ms/step - loss: 11.9886 - mae: 2.7326 - val_loss: 14.8264 - val_mae: 3.0288\n",
      "Epoch 7/10\n",
      "\u001B[1m819/819\u001B[0m \u001B[32m━━━━━━━━━━━━━━━━━━━━\u001B[0m\u001B[37m\u001B[0m \u001B[1m16s\u001B[0m 19ms/step - loss: 11.5931 - mae: 2.6858 - val_loss: 14.8252 - val_mae: 3.0247\n",
      "Epoch 8/10\n",
      "\u001B[1m819/819\u001B[0m \u001B[32m━━━━━━━━━━━━━━━━━━━━\u001B[0m\u001B[37m\u001B[0m \u001B[1m17s\u001B[0m 20ms/step - loss: 11.3110 - mae: 2.6530 - val_loss: 15.3188 - val_mae: 3.0599\n",
      "Epoch 9/10\n",
      "\u001B[1m819/819\u001B[0m \u001B[32m━━━━━━━━━━━━━━━━━━━━\u001B[0m\u001B[37m\u001B[0m \u001B[1m14s\u001B[0m 17ms/step - loss: 10.9352 - mae: 2.6110 - val_loss: 16.7177 - val_mae: 3.1596\n",
      "Epoch 10/10\n",
      "\u001B[1m819/819\u001B[0m \u001B[32m━━━━━━━━━━━━━━━━━━━━\u001B[0m\u001B[37m\u001B[0m \u001B[1m13s\u001B[0m 16ms/step - loss: 10.6784 - mae: 2.5811 - val_loss: 16.1868 - val_mae: 3.1486\n"
     ]
    }
   ],
   "source": [
    "# We’ll pick an initial window length (kernel_size) of 24, and 8 filters, so that we look at 24 hours of data at a time (one cycle). As we downsample the sequences (via MaxPooling1D layers)\n",
    "inputs = keras.Input(shape=(sequence_length, len(features.iloc[0])))\n",
    "x = keras.layers.Conv1D(filters=8, kernel_size=24, activation=\"relu\")(inputs)\n",
    "x = keras.layers.MaxPooling1D(pool_size=2)(x)\n",
    "x = keras.layers.Conv1D(filters=8, kernel_size=12, activation=\"relu\")(x)\n",
    "x = keras.layers.MaxPooling1D(pool_size=2)(x)\n",
    "x = keras.layers.Conv1D(filters=8, kernel_size=6, activation=\"relu\")(x)\n",
    "# This is often used as an alternative to Flatten followed by Dense layers in CNNs for sequence data\n",
    "x = keras.layers.GlobalAveragePooling1D()(x)\n",
    "output = keras.layers.Dense(1)(x)\n",
    "model = keras.Model(inputs=inputs, outputs=output)\n",
    "\n",
    "callbacks = keras.callbacks.ModelCheckpoint(\"models/jena_conv.keras\", save_best_only=True)\n",
    "model.compile(optimizer=\"rmsprop\", loss=\"mse\", metrics=[\"mae\"])\n",
    "history = model.fit(train_dataset, epochs=10, validation_data=val_dataset, callbacks=callbacks)"
   ],
   "metadata": {
    "collapsed": false,
    "ExecuteTime": {
     "end_time": "2024-07-04T01:40:13.564834Z",
     "start_time": "2024-07-04T01:37:09.558313Z"
    }
   },
   "id": "79e64ec6c76dc78"
  },
  {
   "cell_type": "code",
   "execution_count": 14,
   "outputs": [
    {
     "data": {
      "text/plain": "<Figure size 640x480 with 1 Axes>",
      "image/png": "[encoded data removed]"
     },
     "metadata": {},
     "output_type": "display_data"
    }
   ],
   "source": [
    "import matplotlib.pyplot as plt\n",
    "\n",
    "loss = history.history[\"mae\"]\n",
    "val_loss = history.history[\"val_mae\"]\n",
    "epochs = range(1, len(loss) + 1)\n",
    "plt.figure()\n",
    "plt.plot(epochs, loss, \"bo\", label=\"Training MAE\")\n",
    "plt.plot(epochs, val_loss, \"b\", label=\"Validation MAE\")\n",
    "plt.title(\"Training and validation MAE\")\n",
    "plt.legend()\n",
    "plt.show()"
   ],
   "metadata": {
    "collapsed": false,
    "ExecuteTime": {
     "end_time": "2024-07-07T18:51:12.506007Z",
     "start_time": "2024-07-07T18:51:12.363057Z"
    }
   },
   "id": "cdbe990c00135093"
  },
  {
   "cell_type": "markdown",
   "source": [
    "### Why does the convolutional model fail?\n",
    "First, weather data doesn’t quite respect the translation invariance assumption. While the data does feature daily cycles, data from a morning follows different properties than data from an evening or from the middle of the night. Weather data is only translation-invariant for a very specific timescale.\n",
    "\n",
    "Second, order in our data matters—a lot. The recent past is far more informative for predicting the next day’s temperature than data from five days ago. A 1D convnet is not able to leverage this fact. In particular, our max pooling and global average pooling layers are largely destroying order information. "
   ],
   "metadata": {
    "collapsed": false
   },
   "id": "4be06d410d9a7e6"
  },
  {
   "cell_type": "markdown",
   "source": [
    "## A first recurrent baseline\n",
    "Neither the fully connected approach nor the convolutional approach did well, but that doesn’t mean machine learning isn’t applicable to this problem.\n",
    "\n",
    "**Long Short Term Memory (LSTM)** layer is the solution."
   ],
   "metadata": {
    "collapsed": false
   },
   "id": "26f54dbd05790f8b"
  },
  {
   "cell_type": "code",
   "execution_count": 15,
   "outputs": [
    {
     "name": "stdout",
     "output_type": "stream",
     "text": [
      "Epoch 1/10\n",
      "\u001B[1m819/819\u001B[0m \u001B[32m━━━━━━━━━━━━━━━━━━━━\u001B[0m\u001B[37m\u001B[0m \u001B[1m30s\u001B[0m 31ms/step - loss: 73.3027 - mae: 6.5614 - val_loss: 12.6423 - val_mae: 2.6874\n",
      "Epoch 2/10\n",
      "\u001B[1m819/819\u001B[0m \u001B[32m━━━━━━━━━━━━━━━━━━━━\u001B[0m\u001B[37m\u001B[0m \u001B[1m21s\u001B[0m 25ms/step - loss: 11.8743 - mae: 2.6574 - val_loss: 9.5105 - val_mae: 2.3911\n",
      "Epoch 3/10\n",
      "\u001B[1m819/819\u001B[0m \u001B[32m━━━━━━━━━━━━━━━━━━━━\u001B[0m\u001B[37m\u001B[0m \u001B[1m26s\u001B[0m 31ms/step - loss: 9.6191 - mae: 2.4139 - val_loss: 9.6504 - val_mae: 2.4049\n",
      "Epoch 4/10\n",
      "\u001B[1m819/819\u001B[0m \u001B[32m━━━━━━━━━━━━━━━━━━━━\u001B[0m\u001B[37m\u001B[0m \u001B[1m21s\u001B[0m 25ms/step - loss: 9.0806 - mae: 2.3417 - val_loss: 9.8549 - val_mae: 2.4269\n",
      "Epoch 5/10\n",
      "\u001B[1m819/819\u001B[0m \u001B[32m━━━━━━━━━━━━━━━━━━━━\u001B[0m\u001B[37m\u001B[0m \u001B[1m23s\u001B[0m 28ms/step - loss: 8.7373 - mae: 2.3003 - val_loss: 10.0759 - val_mae: 2.4439\n",
      "Epoch 6/10\n",
      "\u001B[1m819/819\u001B[0m \u001B[32m━━━━━━━━━━━━━━━━━━━━\u001B[0m\u001B[37m\u001B[0m \u001B[1m20s\u001B[0m 24ms/step - loss: 8.4168 - mae: 2.2589 - val_loss: 10.2680 - val_mae: 2.4768\n",
      "Epoch 7/10\n",
      "\u001B[1m819/819\u001B[0m \u001B[32m━━━━━━━━━━━━━━━━━━━━\u001B[0m\u001B[37m\u001B[0m \u001B[1m20s\u001B[0m 24ms/step - loss: 8.1828 - mae: 2.2289 - val_loss: 10.8079 - val_mae: 2.5239\n",
      "Epoch 8/10\n",
      "\u001B[1m819/819\u001B[0m \u001B[32m━━━━━━━━━━━━━━━━━━━━\u001B[0m\u001B[37m\u001B[0m \u001B[1m20s\u001B[0m 25ms/step - loss: 7.9788 - mae: 2.2067 - val_loss: 11.0497 - val_mae: 2.5645\n",
      "Epoch 9/10\n",
      "\u001B[1m819/819\u001B[0m \u001B[32m━━━━━━━━━━━━━━━━━━━━\u001B[0m\u001B[37m\u001B[0m \u001B[1m29s\u001B[0m 35ms/step - loss: 7.7969 - mae: 2.1817 - val_loss: 11.6510 - val_mae: 2.6307\n",
      "Epoch 10/10\n",
      "\u001B[1m819/819\u001B[0m \u001B[32m━━━━━━━━━━━━━━━━━━━━\u001B[0m\u001B[37m\u001B[0m \u001B[1m22s\u001B[0m 27ms/step - loss: 7.6303 - mae: 2.1595 - val_loss: 11.8436 - val_mae: 2.6446\n"
     ]
    },
    {
     "ename": "ValueError",
     "evalue": "File not found: filepath=jena_lstm.keras. Please ensure the file is an accessible `.keras` zip file.",
     "output_type": "error",
     "traceback": [
      "\u001B[0;31m---------------------------------------------------------------------------\u001B[0m",
      "\u001B[0;31mValueError\u001B[0m                                Traceback (most recent call last)",
      "Cell \u001B[0;32mIn[15], line 9\u001B[0m\n\u001B[1;32m      7\u001B[0m model\u001B[38;5;241m.\u001B[39mcompile(optimizer\u001B[38;5;241m=\u001B[39m\u001B[38;5;124m\"\u001B[39m\u001B[38;5;124mrmsprop\u001B[39m\u001B[38;5;124m\"\u001B[39m, metrics\u001B[38;5;241m=\u001B[39m[\u001B[38;5;124m\"\u001B[39m\u001B[38;5;124mmae\u001B[39m\u001B[38;5;124m\"\u001B[39m], loss\u001B[38;5;241m=\u001B[39m\u001B[38;5;124m\"\u001B[39m\u001B[38;5;124mmse\u001B[39m\u001B[38;5;124m\"\u001B[39m)\n\u001B[1;32m      8\u001B[0m history \u001B[38;5;241m=\u001B[39m model\u001B[38;5;241m.\u001B[39mfit(train_dataset, validation_data\u001B[38;5;241m=\u001B[39mval_dataset, epochs\u001B[38;5;241m=\u001B[39m\u001B[38;5;241m10\u001B[39m, callbacks\u001B[38;5;241m=\u001B[39mcallbacks)\n\u001B[0;32m----> 9\u001B[0m model \u001B[38;5;241m=\u001B[39m \u001B[43mkeras\u001B[49m\u001B[38;5;241;43m.\u001B[39;49m\u001B[43mmodels\u001B[49m\u001B[38;5;241;43m.\u001B[39;49m\u001B[43mload_model\u001B[49m\u001B[43m(\u001B[49m\u001B[38;5;124;43m\"\u001B[39;49m\u001B[38;5;124;43mjena_lstm.keras\u001B[39;49m\u001B[38;5;124;43m\"\u001B[39;49m\u001B[43m)\u001B[49m \n\u001B[1;32m     10\u001B[0m \u001B[38;5;28mprint\u001B[39m(\u001B[38;5;124mf\u001B[39m\u001B[38;5;124m\"\u001B[39m\u001B[38;5;124mTest MAE: \u001B[39m\u001B[38;5;132;01m{\u001B[39;00mmodel\u001B[38;5;241m.\u001B[39mevaluate(test_dataset)[\u001B[38;5;241m1\u001B[39m]\u001B[38;5;132;01m:\u001B[39;00m\u001B[38;5;124m.2f\u001B[39m\u001B[38;5;132;01m}\u001B[39;00m\u001B[38;5;124m\"\u001B[39m)\n",
      "File \u001B[0;32m~/PycharmProjects/DNNResearchProject/venv/lib/python3.11/site-packages/keras/src/saving/saving_api.py:185\u001B[0m, in \u001B[0;36mload_model\u001B[0;34m(filepath, custom_objects, compile, safe_mode)\u001B[0m\n\u001B[1;32m    183\u001B[0m     \u001B[38;5;28;01mreturn\u001B[39;00m legacy_h5_format\u001B[38;5;241m.\u001B[39mload_model_from_hdf5(filepath)\n\u001B[1;32m    184\u001B[0m \u001B[38;5;28;01melif\u001B[39;00m \u001B[38;5;28mstr\u001B[39m(filepath)\u001B[38;5;241m.\u001B[39mendswith(\u001B[38;5;124m\"\u001B[39m\u001B[38;5;124m.keras\u001B[39m\u001B[38;5;124m\"\u001B[39m):\n\u001B[0;32m--> 185\u001B[0m     \u001B[38;5;28;01mraise\u001B[39;00m \u001B[38;5;167;01mValueError\u001B[39;00m(\n\u001B[1;32m    186\u001B[0m         \u001B[38;5;124mf\u001B[39m\u001B[38;5;124m\"\u001B[39m\u001B[38;5;124mFile not found: filepath=\u001B[39m\u001B[38;5;132;01m{\u001B[39;00mfilepath\u001B[38;5;132;01m}\u001B[39;00m\u001B[38;5;124m. \u001B[39m\u001B[38;5;124m\"\u001B[39m\n\u001B[1;32m    187\u001B[0m         \u001B[38;5;124m\"\u001B[39m\u001B[38;5;124mPlease ensure the file is an accessible `.keras` \u001B[39m\u001B[38;5;124m\"\u001B[39m\n\u001B[1;32m    188\u001B[0m         \u001B[38;5;124m\"\u001B[39m\u001B[38;5;124mzip file.\u001B[39m\u001B[38;5;124m\"\u001B[39m\n\u001B[1;32m    189\u001B[0m     )\n\u001B[1;32m    190\u001B[0m \u001B[38;5;28;01melse\u001B[39;00m:\n\u001B[1;32m    191\u001B[0m     \u001B[38;5;28;01mraise\u001B[39;00m \u001B[38;5;167;01mValueError\u001B[39;00m(\n\u001B[1;32m    192\u001B[0m         \u001B[38;5;124mf\u001B[39m\u001B[38;5;124m\"\u001B[39m\u001B[38;5;124mFile format not supported: filepath=\u001B[39m\u001B[38;5;132;01m{\u001B[39;00mfilepath\u001B[38;5;132;01m}\u001B[39;00m\u001B[38;5;124m. \u001B[39m\u001B[38;5;124m\"\u001B[39m\n\u001B[1;32m    193\u001B[0m         \u001B[38;5;124m\"\u001B[39m\u001B[38;5;124mKeras 3 only supports V3 `.keras` files and \u001B[39m\u001B[38;5;124m\"\u001B[39m\n\u001B[0;32m   (...)\u001B[0m\n\u001B[1;32m    202\u001B[0m         \u001B[38;5;124m\"\u001B[39m\u001B[38;5;124mmight have a different name).\u001B[39m\u001B[38;5;124m\"\u001B[39m\n\u001B[1;32m    203\u001B[0m     )\n",
      "\u001B[0;31mValueError\u001B[0m: File not found: filepath=jena_lstm.keras. Please ensure the file is an accessible `.keras` zip file."
     ]
    }
   ],
   "source": [
    "inputs = keras.Input(shape=(sequence_length, len(features.iloc[0])))\n",
    "x = keras.layers.LSTM(16)(inputs)\n",
    "outputs = keras.layers.Dense(1)(x)\n",
    "model = keras.Model(inputs, outputs)\n",
    "\n",
    "callbacks = keras.callbacks.ModelCheckpoint(\"models/jena_lstm.keras\", save_best_only=True)\n",
    "model.compile(optimizer=\"rmsprop\", metrics=[\"mae\"], loss=\"mse\")\n",
    "history = model.fit(train_dataset, validation_data=val_dataset, epochs=10, callbacks=callbacks)\n"
   ],
   "metadata": {
    "collapsed": false,
    "ExecuteTime": {
     "end_time": "2024-07-07T19:31:21.346512Z",
     "start_time": "2024-07-07T19:27:22.059733Z"
    }
   },
   "id": "bbabf9b91a1d87dd"
  },
  {
   "cell_type": "code",
   "execution_count": 16,
   "outputs": [
    {
     "name": "stdout",
     "output_type": "stream",
     "text": [
      "\u001B[1m405/405\u001B[0m \u001B[32m━━━━━━━━━━━━━━━━━━━━\u001B[0m\u001B[37m\u001B[0m \u001B[1m4s\u001B[0m 9ms/step - loss: 10.8934 - mae: 2.5870\n",
      "Test MAE: 2.59\n"
     ]
    }
   ],
   "source": [
    "model = keras.models.load_model(\"models/jena_lstm.keras\")\n",
    "print(f\"Test MAE: {model.evaluate(test_dataset)[1]:.2f}\")"
   ],
   "metadata": {
    "collapsed": false,
    "ExecuteTime": {
     "end_time": "2024-07-07T19:31:50.077705Z",
     "start_time": "2024-07-07T19:31:44.895702Z"
    }
   },
   "id": "4b561292d34f29e3"
  },
  {
   "cell_type": "code",
   "execution_count": 1,
   "outputs": [
    {
     "ename": "NameError",
     "evalue": "name 'history' is not defined",
     "output_type": "error",
     "traceback": [
      "\u001B[0;31m---------------------------------------------------------------------------\u001B[0m",
      "\u001B[0;31mNameError\u001B[0m                                 Traceback (most recent call last)",
      "Cell \u001B[0;32mIn[1], line 3\u001B[0m\n\u001B[1;32m      1\u001B[0m \u001B[38;5;28;01mimport\u001B[39;00m \u001B[38;5;21;01mmatplotlib\u001B[39;00m\u001B[38;5;21;01m.\u001B[39;00m\u001B[38;5;21;01mpyplot\u001B[39;00m \u001B[38;5;28;01mas\u001B[39;00m \u001B[38;5;21;01mplt\u001B[39;00m\n\u001B[0;32m----> 3\u001B[0m loss \u001B[38;5;241m=\u001B[39m \u001B[43mhistory\u001B[49m\u001B[38;5;241m.\u001B[39mhistory[\u001B[38;5;124m\"\u001B[39m\u001B[38;5;124mmae\u001B[39m\u001B[38;5;124m\"\u001B[39m]\n\u001B[1;32m      4\u001B[0m val_loss \u001B[38;5;241m=\u001B[39m history\u001B[38;5;241m.\u001B[39mhistory[\u001B[38;5;124m\"\u001B[39m\u001B[38;5;124mval_mae\u001B[39m\u001B[38;5;124m\"\u001B[39m]\n\u001B[1;32m      5\u001B[0m epochs \u001B[38;5;241m=\u001B[39m \u001B[38;5;28mrange\u001B[39m(\u001B[38;5;241m1\u001B[39m, \u001B[38;5;28mlen\u001B[39m(loss) \u001B[38;5;241m+\u001B[39m \u001B[38;5;241m1\u001B[39m)\n",
      "\u001B[0;31mNameError\u001B[0m: name 'history' is not defined"
     ]
    }
   ],
   "source": [
    "import matplotlib.pyplot as plt\n",
    "\n",
    "loss = history.history[\"mae\"]\n",
    "val_loss = history.history[\"val_mae\"]\n",
    "epochs = range(1, len(loss) + 1)\n",
    "plt.figure()\n",
    "plt.plot(epochs, loss, \"bo\", label=\"Training MAE\")\n",
    "plt.plot(epochs, val_loss, \"b\", label=\"Validation MAE\")\n",
    "plt.title(\"Training and validation MAE\")\n",
    "plt.legend()\n",
    "plt.show()"
   ],
   "metadata": {
    "collapsed": false,
    "ExecuteTime": {
     "end_time": "2024-07-13T20:58:15.946530Z",
     "start_time": "2024-07-13T20:58:14.404468Z"
    }
   },
   "id": "d8bffe2d4587b9d0"
  },
  {
   "cell_type": "markdown",
   "source": [
    "## Understanding recurrent neural networks\n",
    "Densely connected networks and convnets have no memory. Each input shown to them is processed independently, with no state kept between inputs.\n",
    "With such networks, in order to process a sequence or a temporal series of data points, you have to show the entire sequence to the network at once: turn it into a single data point. This is called **feedforward networks**.\n",
    "\n",
    "Biological intelligence processes information incrementally while maintaining an internal model of what it’s processing, built from past information and constantly updated as new information comes in.\n",
    "\n",
    "**A recurrent neural network (RNN)** adopts the same principle, albeit in an extremely simplified version: it processes sequences by iterating through the sequence elements and maintaining a state that contains information relative to what it has seen so far. In effect, an RNN is a type of neural network that has an internal loop.\n",
    "\n",
    "![alt text](static/RNNs.png \"RNNs\")\n",
    "\n",
    "The state of the RNN is reset between processing two different, independent sequences (such as two samples in a batch). This data point is no longer processed in a single step; rather, the network internally loops over sequence elements\n",
    "\n"
   ],
   "metadata": {
    "collapsed": false
   },
   "id": "8cf3bc7837892399"
  },
  {
   "cell_type": "markdown",
   "source": [
    "We'll implement a toy RNN layer. The input of the layer is two things, state and data input.\n",
    "The **state** is the output of the precious step.\n",
    "The first step doesn't have a previous step hence no state.\n",
    "\n",
    "Pseudocode of an RNN layer.\n",
    "```\n",
    "state_t = 0                         # initial state\n",
    "for input_t in input_sequence:      # loop\n",
    "    output_t = f(input_t, state_t)  #  the current step will take the state and the data as its input. f is a certain function.\n",
    "    state_t = output_t              # output of the current step will be input of the next step\n",
    "``` \n",
    "\n",
    "f is a function take two inputs, then applies an activation and a bias.\n",
    "\n",
    "```\n",
    "output_t = activation(dot(W, input_t) + dot(U, state_t) + b)\n",
    "```\n",
    "W: weights for the input\n",
    "U: weights for the state\n",
    "b: bias"
   ],
   "metadata": {
    "collapsed": false
   },
   "id": "d096ef1113bbf1ea"
  },
  {
   "cell_type": "code",
   "execution_count": 23,
   "outputs": [],
   "source": [
    "# Forward Pass of a simple RNN\n",
    "import numpy as np\n",
    "\n",
    "timesteps = 100  # Time-steps in the input sequence\n",
    "input_features = 32  # Features in the input\n",
    "output_features = 64  # Features in the output\n",
    "inputs = np.random.random((timesteps, input_features))  # Generate Fake input Data\n",
    "state_t = np.zeros((output_features,))  # Initialize state data with zero for the first step\n",
    "W = np.random.random((output_features, input_features))  # Initialize input weights\n",
    "U = np.random.random((output_features, output_features))  # Initialize step weights\n",
    "b = np.random.random((output_features,))  # Initialize bias\n",
    "successive_outputs = []\n",
    "for input_t in inputs:  # loop over input data\n",
    "    output_t = np.tanh(np.dot(W, input_t) + np.dot(U, state_t) + b)  # using tanh activation with input, state, and bias\n",
    "    successive_outputs.append(output_t)  # store output of each layer to an array\n",
    "    state_t = output_t  # store the output to a state to use with the next input\n",
    "final_output_sequence = np.stack(successive_outputs,\n",
    "                                 axis=0)  # The final output is a rank-2 tensor of shape (time-steps, output_features)."
   ],
   "metadata": {
    "collapsed": false,
    "ExecuteTime": {
     "end_time": "2024-07-07T20:34:06.533850Z",
     "start_time": "2024-07-07T20:34:06.526104Z"
    }
   },
   "id": "aa7c762a0149fc55"
  },
  {
   "cell_type": "markdown",
   "source": [
    "Each timestep t in the output tensor contains information about timesteps 0 to t in the input sequence—about the entire past.\n",
    "In summary, an RNN is a for loop that reuses quantities computed during the previous iteration of the loop, nothing more.\n",
    "Here is an unrolled version of RNN\n",
    "![alt text](static/RNN_unrolled.png \"RNNs Unrolled\")\n"
   ],
   "metadata": {
    "collapsed": false
   },
   "id": "d17d9194cfc3e536"
  },
  {
   "cell_type": "markdown",
   "source": [
    "### A recurrent layer in Keras\n",
    "In Keras, SimpleRNN processes batches of sequences. So its input shape will be `(batch_size, timesteps, input_features)`\n",
    "Note that you can set the `timesteps` entry to `None`, which enables your network to process sequences of arbitrary length.\n",
    "\n",
    "All recurrent layers in Keras (SimpleRNN, LSTM, and GRU) can be run in two different modes: they can return either full sequences of successive outputs for each timestep (a rank-3 tensor of shape (batch_size, timesteps, output_features)) or return only the last output for each input sequence (a rank-2 tensor of shape (batch_ size, output_features)). These two modes are controlled by the `return_sequences` constructor argument.\n",
    "\n",
    "Example Scenarios:\n",
    "- Text Generation: Use return_sequences=True to generate a sequence of words or characters.\n",
    "- Named Entity Recognition: Use return_sequences=True to tag each word in a sentence.\n",
    "- Time Series Forecasting: Use return_sequences=True to predict values for each timestep in the future.\n",
    "- Sentiment Analysis: Use return_sequences=False to classify the sentiment of an entire review.\n",
    "\n",
    "Simple RNNs suffer from vanishing gradients."
   ],
   "metadata": {
    "collapsed": false
   },
   "id": "e27df0d822bd2170"
  },
  {
   "cell_type": "markdown",
   "source": [
    "## Long Short Term Memory\n",
    "**LSTM** is an alternative of the simpler version RNNs. It adds a way to carry information across many timesteps.\n",
    "LSTM saves information for later, thus preventing older signals from gradually vanishing during processing.\n",
    "\n",
    "![alt text](static/LSTM.png \"LSTM\")\n",
    "\n",
    " The carry information will be combined with the input connection and the recurrent connection (via a dense transformation: a dot product with a weight matrix followed by a bias add and the application of an activation function), and it will affect the state being sent to the next timestep (via an activation function and a multiplication operation).\n",
    " \n",
    "**Just keep in mind what the LSTM cell is meant to do: allow past information to be reinjected at a later time, thus fighting the vanishing-gradient problem.** \n"
   ],
   "metadata": {
    "collapsed": false
   },
   "id": "f2a9a0dbfe6d23a2"
  },
  {
   "cell_type": "markdown",
   "source": [
    "## 10.4 Advanced use of recurrent neural networks\n",
    "We'll Learn:\n",
    "- Recurrent dropout—This is a variant of dropout, used to fight overfitting in recurrent layers.\n",
    "- Stacking recurrent layers—This increases the representational power of the model (at the cost of higher computational loads).\n",
    "- Bidirectional recurrent layers—These present the same information to a recurrent network in different ways, increasing accuracy and mitigating forgetting issues.\n"
   ],
   "metadata": {
    "collapsed": false
   },
   "id": "2bdb7bc1fd283d9d"
  },
  {
   "cell_type": "markdown",
   "source": [
    "## How to use Dropout with RNNs?\n",
    "The same dropout mask (the same pattern of dropped units) should be applied at every timestep, instead of using a dropout mask that varies randomly from timestep to timestep. Also, in order to regularize the representations formed by the recurrent gates of layers such as GRU and LSTM, a temporally constant dropout mask should be applied to the inner recurrent activations of the layer (a recurrent dropout mask). Using the same dropout mask at every timestep allows the network to properly propagate its learning error through time.\n",
    "\n",
    "\n",
    "Every recurrent layer in Keras has two dropout-related arguments: `dropout`, a float specifying the dropout rate for input units of the layer, and `recurrent_dropout`, specifying the dropout rate of the recurrent units\n"
   ],
   "metadata": {
    "collapsed": false
   },
   "id": "1a75197f880d4412"
  },
  {
   "cell_type": "code",
   "execution_count": 21,
   "outputs": [
    {
     "name": "stdout",
     "output_type": "stream",
     "text": [
      "Epoch 1/50\n"
     ]
    },
    {
     "ename": "ValueError",
     "evalue": "Exception encountered when calling LSTM.call().\n\n\u001B[1mCannot unroll a RNN if the time dimension is undefined. \n- If using a Sequential model, specify the time dimension by passing an `Input()` as your first layer.\n- If using the functional API, specify the time dimension by passing a `shape` or `batch_shape` argument to your `Input()`.\u001B[0m\n\nArguments received by LSTM.call():\n  • sequences=tf.Tensor(shape=(None, None, 14), dtype=float32)\n  • initial_state=None\n  • mask=None\n  • training=True",
     "output_type": "error",
     "traceback": [
      "\u001B[0;31m---------------------------------------------------------------------------\u001B[0m",
      "\u001B[0;31mValueError\u001B[0m                                Traceback (most recent call last)",
      "Cell \u001B[0;32mIn[21], line 13\u001B[0m\n\u001B[1;32m      8\u001B[0m callbacks \u001B[38;5;241m=\u001B[39m [\n\u001B[1;32m      9\u001B[0m     keras\u001B[38;5;241m.\u001B[39mcallbacks\u001B[38;5;241m.\u001B[39mModelCheckpoint(\u001B[38;5;124m\"\u001B[39m\u001B[38;5;124mmodels/jena_lstm_dropout.keras\u001B[39m\u001B[38;5;124m\"\u001B[39m,\n\u001B[1;32m     10\u001B[0m                                     save_best_only\u001B[38;5;241m=\u001B[39m\u001B[38;5;28;01mTrue\u001B[39;00m)\n\u001B[1;32m     11\u001B[0m ]\n\u001B[1;32m     12\u001B[0m model\u001B[38;5;241m.\u001B[39mcompile(optimizer\u001B[38;5;241m=\u001B[39m\u001B[38;5;124m\"\u001B[39m\u001B[38;5;124mrmsprop\u001B[39m\u001B[38;5;124m\"\u001B[39m, loss\u001B[38;5;241m=\u001B[39m\u001B[38;5;124m\"\u001B[39m\u001B[38;5;124mmse\u001B[39m\u001B[38;5;124m\"\u001B[39m, metrics\u001B[38;5;241m=\u001B[39m[\u001B[38;5;124m\"\u001B[39m\u001B[38;5;124mmae\u001B[39m\u001B[38;5;124m\"\u001B[39m])\n\u001B[0;32m---> 13\u001B[0m history \u001B[38;5;241m=\u001B[39m \u001B[43mmodel\u001B[49m\u001B[38;5;241;43m.\u001B[39;49m\u001B[43mfit\u001B[49m\u001B[43m(\u001B[49m\u001B[43mtrain_dataset\u001B[49m\u001B[43m,\u001B[49m\n\u001B[1;32m     14\u001B[0m \u001B[43m                    \u001B[49m\u001B[43mepochs\u001B[49m\u001B[38;5;241;43m=\u001B[39;49m\u001B[38;5;241;43m50\u001B[39;49m\u001B[43m,\u001B[49m\u001B[43m  \u001B[49m\u001B[38;5;66;43;03m# Training for 50 epochs because dropout makes the convergence take more time.\u001B[39;49;00m\n\u001B[1;32m     15\u001B[0m \u001B[43m                    \u001B[49m\u001B[43mvalidation_data\u001B[49m\u001B[38;5;241;43m=\u001B[39;49m\u001B[43mval_dataset\u001B[49m\u001B[43m,\u001B[49m\n\u001B[1;32m     16\u001B[0m \u001B[43m                    \u001B[49m\u001B[43mbatch_size\u001B[49m\u001B[38;5;241;43m=\u001B[39;49m\u001B[43mbatch_size\u001B[49m\u001B[43m,\u001B[49m\n\u001B[1;32m     17\u001B[0m \u001B[43m                    \u001B[49m\u001B[43mcallbacks\u001B[49m\u001B[38;5;241;43m=\u001B[39;49m\u001B[43mcallbacks\u001B[49m\u001B[43m)\u001B[49m   \n",
      "File \u001B[0;32m~/PycharmProjects/DNNResearchProject/venv/lib/python3.11/site-packages/keras/src/utils/traceback_utils.py:122\u001B[0m, in \u001B[0;36mfilter_traceback.<locals>.error_handler\u001B[0;34m(*args, **kwargs)\u001B[0m\n\u001B[1;32m    119\u001B[0m     filtered_tb \u001B[38;5;241m=\u001B[39m _process_traceback_frames(e\u001B[38;5;241m.\u001B[39m__traceback__)\n\u001B[1;32m    120\u001B[0m     \u001B[38;5;66;03m# To get the full stack trace, call:\u001B[39;00m\n\u001B[1;32m    121\u001B[0m     \u001B[38;5;66;03m# `keras.config.disable_traceback_filtering()`\u001B[39;00m\n\u001B[0;32m--> 122\u001B[0m     \u001B[38;5;28;01mraise\u001B[39;00m e\u001B[38;5;241m.\u001B[39mwith_traceback(filtered_tb) \u001B[38;5;28;01mfrom\u001B[39;00m \u001B[38;5;28;01mNone\u001B[39;00m\n\u001B[1;32m    123\u001B[0m \u001B[38;5;28;01mfinally\u001B[39;00m:\n\u001B[1;32m    124\u001B[0m     \u001B[38;5;28;01mdel\u001B[39;00m filtered_tb\n",
      "File \u001B[0;32m~/PycharmProjects/DNNResearchProject/venv/lib/python3.11/site-packages/keras/src/layers/rnn/rnn.py:359\u001B[0m, in \u001B[0;36mRNN.call\u001B[0;34m(self, sequences, initial_state, mask, training)\u001B[0m\n\u001B[1;32m    357\u001B[0m timesteps \u001B[38;5;241m=\u001B[39m sequences\u001B[38;5;241m.\u001B[39mshape[\u001B[38;5;241m1\u001B[39m]\n\u001B[1;32m    358\u001B[0m \u001B[38;5;28;01mif\u001B[39;00m \u001B[38;5;28mself\u001B[39m\u001B[38;5;241m.\u001B[39munroll \u001B[38;5;129;01mand\u001B[39;00m timesteps \u001B[38;5;129;01mis\u001B[39;00m \u001B[38;5;28;01mNone\u001B[39;00m:\n\u001B[0;32m--> 359\u001B[0m     \u001B[38;5;28;01mraise\u001B[39;00m \u001B[38;5;167;01mValueError\u001B[39;00m(\n\u001B[1;32m    360\u001B[0m         \u001B[38;5;124m\"\u001B[39m\u001B[38;5;124mCannot unroll a RNN if the \u001B[39m\u001B[38;5;124m\"\u001B[39m\n\u001B[1;32m    361\u001B[0m         \u001B[38;5;124m\"\u001B[39m\u001B[38;5;124mtime dimension is undefined. \u001B[39m\u001B[38;5;130;01m\\n\u001B[39;00m\u001B[38;5;124m\"\u001B[39m\n\u001B[1;32m    362\u001B[0m         \u001B[38;5;124m\"\u001B[39m\u001B[38;5;124m- If using a Sequential model, \u001B[39m\u001B[38;5;124m\"\u001B[39m\n\u001B[1;32m    363\u001B[0m         \u001B[38;5;124m\"\u001B[39m\u001B[38;5;124mspecify the time dimension by passing \u001B[39m\u001B[38;5;124m\"\u001B[39m\n\u001B[1;32m    364\u001B[0m         \u001B[38;5;124m\"\u001B[39m\u001B[38;5;124man `Input()` as your first layer.\u001B[39m\u001B[38;5;130;01m\\n\u001B[39;00m\u001B[38;5;124m\"\u001B[39m\n\u001B[1;32m    365\u001B[0m         \u001B[38;5;124m\"\u001B[39m\u001B[38;5;124m- If using the functional API, specify \u001B[39m\u001B[38;5;124m\"\u001B[39m\n\u001B[1;32m    366\u001B[0m         \u001B[38;5;124m\"\u001B[39m\u001B[38;5;124mthe time dimension by passing a `shape` \u001B[39m\u001B[38;5;124m\"\u001B[39m\n\u001B[1;32m    367\u001B[0m         \u001B[38;5;124m\"\u001B[39m\u001B[38;5;124mor `batch_shape` argument to your `Input()`.\u001B[39m\u001B[38;5;124m\"\u001B[39m\n\u001B[1;32m    368\u001B[0m     )\n\u001B[1;32m    370\u001B[0m \u001B[38;5;28;01mif\u001B[39;00m initial_state \u001B[38;5;129;01mis\u001B[39;00m \u001B[38;5;28;01mNone\u001B[39;00m:\n\u001B[1;32m    371\u001B[0m     \u001B[38;5;28;01mif\u001B[39;00m \u001B[38;5;28mself\u001B[39m\u001B[38;5;241m.\u001B[39mstateful:\n",
      "\u001B[0;31mValueError\u001B[0m: Exception encountered when calling LSTM.call().\n\n\u001B[1mCannot unroll a RNN if the time dimension is undefined. \n- If using a Sequential model, specify the time dimension by passing an `Input()` as your first layer.\n- If using the functional API, specify the time dimension by passing a `shape` or `batch_shape` argument to your `Input()`.\u001B[0m\n\nArguments received by LSTM.call():\n  • sequences=tf.Tensor(shape=(None, None, 14), dtype=float32)\n  • initial_state=None\n  • mask=None\n  • training=True"
     ]
    }
   ],
   "source": [
    "inputs = keras.Input(batch_shape=(batch_size, 120, 14))\n",
    "# without dropout, this network would have started overfitting right away\n",
    "x = keras.layers.LSTM(32, recurrent_dropout=0.25)(inputs)  # Using 32 units to be more expressive\n",
    "x = keras.layers.Dropout(0.5)(x)  # To regularize the Dense layer, we also add a Dropout layer after the LSTM. The dropout layer after LSTM applies dropout to the output of the LSTM units, affecting the horizontal connections in the network, which is another layer of regularization.\n",
    "outputs = keras.layers.Dense(1)(x)\n",
    "\n",
    "model = keras.Model(inputs, outputs)\n",
    "callbacks = [\n",
    "    keras.callbacks.ModelCheckpoint(\"models/jena_lstm_dropout.keras\",\n",
    "                                    save_best_only=True)\n",
    "]\n",
    "model.compile(optimizer=\"rmsprop\", loss=\"mse\", metrics=[\"mae\"])\n",
    "history = model.fit(train_dataset,\n",
    "                    epochs=50,  # Training for 50 epochs because dropout makes the convergence take more time.\n",
    "                    validation_data=val_dataset,\n",
    "                    batch_size=batch_size,\n",
    "                    callbacks=callbacks)   "
   ],
   "metadata": {
    "collapsed": false,
    "ExecuteTime": {
     "end_time": "2024-07-08T05:38:10.728883Z",
     "start_time": "2024-07-08T05:38:10.604854Z"
    }
   },
   "id": "2208d31fa99c037"
  },
  {
   "cell_type": "code",
   "execution_count": 15,
   "outputs": [
    {
     "ename": "NameError",
     "evalue": "name 'history' is not defined",
     "output_type": "error",
     "traceback": [
      "\u001B[0;31m---------------------------------------------------------------------------\u001B[0m",
      "\u001B[0;31mNameError\u001B[0m                                 Traceback (most recent call last)",
      "Cell \u001B[0;32mIn[15], line 3\u001B[0m\n\u001B[1;32m      1\u001B[0m \u001B[38;5;28;01mimport\u001B[39;00m \u001B[38;5;21;01mmatplotlib\u001B[39;00m\u001B[38;5;21;01m.\u001B[39;00m\u001B[38;5;21;01mpyplot\u001B[39;00m \u001B[38;5;28;01mas\u001B[39;00m \u001B[38;5;21;01mplt\u001B[39;00m\n\u001B[0;32m----> 3\u001B[0m loss \u001B[38;5;241m=\u001B[39m \u001B[43mhistory\u001B[49m\u001B[38;5;241m.\u001B[39mhistory[\u001B[38;5;124m\"\u001B[39m\u001B[38;5;124mmae\u001B[39m\u001B[38;5;124m\"\u001B[39m]\n\u001B[1;32m      4\u001B[0m val_loss \u001B[38;5;241m=\u001B[39m history\u001B[38;5;241m.\u001B[39mhistory[\u001B[38;5;124m\"\u001B[39m\u001B[38;5;124mval_mae\u001B[39m\u001B[38;5;124m\"\u001B[39m]\n\u001B[1;32m      5\u001B[0m epochs \u001B[38;5;241m=\u001B[39m \u001B[38;5;28mrange\u001B[39m(\u001B[38;5;241m1\u001B[39m, \u001B[38;5;28mlen\u001B[39m(loss) \u001B[38;5;241m+\u001B[39m \u001B[38;5;241m1\u001B[39m)\n",
      "\u001B[0;31mNameError\u001B[0m: name 'history' is not defined"
     ]
    }
   ],
   "source": [
    "import matplotlib.pyplot as plt\n",
    "\n",
    "loss = history.history[\"mae\"]\n",
    "val_loss = history.history[\"val_mae\"]\n",
    "epochs = range(1, len(loss) + 1)\n",
    "plt.figure()\n",
    "plt.plot(epochs, loss, \"bo\", label=\"Training MAE\")\n",
    "plt.plot(epochs, val_loss, \"b\", label=\"Validation MAE\")\n",
    "plt.title(\"Training and validation MAE\")\n",
    "plt.legend()\n",
    "plt.show()"
   ],
   "metadata": {
    "collapsed": false,
    "ExecuteTime": {
     "end_time": "2024-07-08T05:32:46.010408Z",
     "start_time": "2024-07-08T05:32:45.975078Z"
    }
   },
   "id": "ff7e5afbbefa4134"
  },
  {
   "cell_type": "markdown",
   "source": [
    "### Stacking Recurrent Layers\n",
    "Recurrent layer stacking is a classic way to build more-powerful recurrent networks.\n",
    "To stack recurrent layers on top of each other in Keras, all intermediate layers should return their full sequence of outputs. This is done by specifying `return_sequences=True.`\n",
    "\n",
    "Next we will use Gated Recurrent Unit layers (GRU). GRU is very similar to LSTM—you can think of it as a slightly simpler, streamlined version of the LSTM architecture\n"
   ],
   "metadata": {
    "collapsed": false
   },
   "id": "5ad56bf9c23d2266"
  },
  {
   "cell_type": "code",
   "execution_count": null,
   "outputs": [],
   "source": [
    "from tensorflow.keras import layers\n",
    "inputs = keras.Input(shape=(sequence_length, len(features.iloc[0])))\n",
    "x = layers.GRU(32, recurrent_dropout=0.5, return_sequences=True)(inputs)\n",
    "x = layers.GRU(32, recurrent_dropout=0.5)(x)\n",
    "x = layers.Dropout(0.5)(x)\n",
    "outputs = layers.Dense(1)(x)\n",
    "model = keras.Model(inputs, outputs)\n",
    "  \n",
    "callbacks = [\n",
    "    keras.callbacks.ModelCheckpoint(\"models/jena_stacked_gru_dropout.keras\",\n",
    "                                    save_best_only=True)\n",
    "]\n",
    "model.compile(optimizer=\"rmsprop\", loss=\"mse\", metrics=[\"mae\"])\n",
    "history = model.fit(train_dataset,\n",
    "                    epochs=50,\n",
    "                    validation_data=val_dataset,\n",
    "                    callbacks=callbacks)\n",
    "model = keras.models.load_model(\"models/jena_stacked_gru_dropout.keras\")\n",
    "print(f\"Test MAE: {model.evaluate(test_dataset)[1]:.2f}\")"
   ],
   "metadata": {
    "collapsed": false
   },
   "id": "d6ecc3a4c91c688a"
  },
  {
   "cell_type": "markdown",
   "source": [
    "## Using bidirectional RNNs\n",
    "\n",
    "A bidirectional RNN is a common RNN variant that can offer greater performance than a regular RNN on certain tasks. It’s frequently used in natural language processing—**you could call it the Swiss Army knife of deep learning for natural language processing**.\n",
    "RNNs are notably order-dependent: they process the timesteps of their input sequences in order. Bidirectional RNNs use two regular RNNs, each of which processes the input sequence in one direction (chronologically and antichronologically), and then merges their representations. By processing a sequence both ways, **a bidirectional RNN can catch patterns that may be overlooked by a unidirectional RNN**"
   ],
   "metadata": {
    "collapsed": false
   },
   "id": "4a9086e70f5d7ee2"
  },
  {
   "cell_type": "code",
   "execution_count": 24,
   "outputs": [],
   "source": [
    "# To instantiate a bidirectional RNN in Keras, you use the Bidirectional layer, which takes as its first argument a recurrent layer instance.\n",
    "inputs = keras.Input(shape=(sequence_length, len(features.iloc[0])))\n",
    "x = keras.layers.Bidirectional(keras.layers.LSTM(16))(inputs)\n",
    "outputs = keras.layers.Dense(1)(x)\n",
    "model = keras.Model(inputs, outputs) "
   ],
   "metadata": {
    "collapsed": false,
    "ExecuteTime": {
     "end_time": "2024-07-08T05:55:36.734555Z",
     "start_time": "2024-07-08T05:55:36.492362Z"
    }
   },
   "id": "fa187bdc177e95b9"
  },
  {
   "cell_type": "markdown",
   "source": [
    "## Final Remarks\n",
    "How to improve the current solution?\n",
    "- Adjust the number of units in each recurrent layer in the stacked setup, as well as the amount of dropout. The current choices are largely arbitrary and thus probably suboptimal.\n",
    "- Adjust the learning rate used by the RMSprop optimizer, or try a different optimizer.\n",
    "- Try using a stack of Dense layers as the regressor on top of the recurrent layer, instead of a single Dense layer.\n",
    "- Improve the input to the model: try using longer or shorter sequences or a different sampling rate, or start doing feature engineering.\n",
    "\n",
    "Try simple models before expensive ones, to make sure the additional expense is justified. Sometimes a simple model will turn out to be your best option.\n",
    "\n"
   ],
   "metadata": {
    "collapsed": false
   },
   "id": "710679c9f8546d9d"
  },
  {
   "cell_type": "code",
   "execution_count": null,
   "outputs": [],
   "source": [],
   "metadata": {
    "collapsed": false
   },
   "id": "6fbd2b49f367657b"
  }
 ],
 "metadata": {
  "kernelspec": {
   "display_name": "Python 3",
   "language": "python",
   "name": "python3"
  },
  "language_info": {
   "codemirror_mode": {
    "name": "ipython",
    "version": 2
   },
   "file_extension": ".py",
   "mimetype": "text/x-python",
   "name": "python",
   "nbconvert_exporter": "python",
   "pygments_lexer": "ipython2",
   "version": "2.7.6"
  }
 },
 "nbformat": 4,
 "nbformat_minor": 5
}
